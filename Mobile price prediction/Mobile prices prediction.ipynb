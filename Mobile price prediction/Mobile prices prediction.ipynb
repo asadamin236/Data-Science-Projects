{
 "cells": [
  {
   "cell_type": "markdown",
   "id": "f5d86652",
   "metadata": {},
   "source": [
    "## Mobile prices prediction "
   ]
  },
  {
   "cell_type": "markdown",
   "id": "cb269de8",
   "metadata": {},
   "source": [
    "In this project, we have to apply machine learning algorithm and find out mobile prices range."
   ]
  },
  {
   "cell_type": "code",
   "execution_count": 1,
   "id": "5a74bc7b",
   "metadata": {},
   "outputs": [],
   "source": [
    "# Import libraries..\n",
    "import pandas as pd\n",
    "import numpy as np\n",
    "import matplotlib.pyplot as plt\n",
    "import seaborn as sns\n",
    "import warnings\n",
    "warnings.filterwarnings(\"ignore\")"
   ]
  },
  {
   "cell_type": "code",
   "execution_count": 2,
   "id": "4b823119",
   "metadata": {},
   "outputs": [],
   "source": [
    "# Import dataset\n",
    "Df = pd.read_csv('train.csv')"
   ]
  },
  {
   "cell_type": "code",
   "execution_count": 3,
   "id": "0aa0cf8f",
   "metadata": {},
   "outputs": [
    {
     "data": {
      "text/html": [
       "<div>\n",
       "<style scoped>\n",
       "    .dataframe tbody tr th:only-of-type {\n",
       "        vertical-align: middle;\n",
       "    }\n",
       "\n",
       "    .dataframe tbody tr th {\n",
       "        vertical-align: top;\n",
       "    }\n",
       "\n",
       "    .dataframe thead th {\n",
       "        text-align: right;\n",
       "    }\n",
       "</style>\n",
       "<table border=\"1\" class=\"dataframe\">\n",
       "  <thead>\n",
       "    <tr style=\"text-align: right;\">\n",
       "      <th></th>\n",
       "      <th>battery_power</th>\n",
       "      <th>blue</th>\n",
       "      <th>clock_speed</th>\n",
       "      <th>dual_sim</th>\n",
       "      <th>fc</th>\n",
       "      <th>four_g</th>\n",
       "      <th>int_memory</th>\n",
       "      <th>m_dep</th>\n",
       "      <th>mobile_wt</th>\n",
       "      <th>n_cores</th>\n",
       "      <th>...</th>\n",
       "      <th>px_height</th>\n",
       "      <th>px_width</th>\n",
       "      <th>ram</th>\n",
       "      <th>sc_h</th>\n",
       "      <th>sc_w</th>\n",
       "      <th>talk_time</th>\n",
       "      <th>three_g</th>\n",
       "      <th>touch_screen</th>\n",
       "      <th>wifi</th>\n",
       "      <th>price_range</th>\n",
       "    </tr>\n",
       "  </thead>\n",
       "  <tbody>\n",
       "    <tr>\n",
       "      <th>0</th>\n",
       "      <td>842</td>\n",
       "      <td>0</td>\n",
       "      <td>2.2</td>\n",
       "      <td>0</td>\n",
       "      <td>1</td>\n",
       "      <td>0</td>\n",
       "      <td>7</td>\n",
       "      <td>0.6</td>\n",
       "      <td>188</td>\n",
       "      <td>2</td>\n",
       "      <td>...</td>\n",
       "      <td>20</td>\n",
       "      <td>756</td>\n",
       "      <td>2549</td>\n",
       "      <td>9</td>\n",
       "      <td>7</td>\n",
       "      <td>19</td>\n",
       "      <td>0</td>\n",
       "      <td>0</td>\n",
       "      <td>1</td>\n",
       "      <td>1</td>\n",
       "    </tr>\n",
       "    <tr>\n",
       "      <th>1</th>\n",
       "      <td>1021</td>\n",
       "      <td>1</td>\n",
       "      <td>0.5</td>\n",
       "      <td>1</td>\n",
       "      <td>0</td>\n",
       "      <td>1</td>\n",
       "      <td>53</td>\n",
       "      <td>0.7</td>\n",
       "      <td>136</td>\n",
       "      <td>3</td>\n",
       "      <td>...</td>\n",
       "      <td>905</td>\n",
       "      <td>1988</td>\n",
       "      <td>2631</td>\n",
       "      <td>17</td>\n",
       "      <td>3</td>\n",
       "      <td>7</td>\n",
       "      <td>1</td>\n",
       "      <td>1</td>\n",
       "      <td>0</td>\n",
       "      <td>2</td>\n",
       "    </tr>\n",
       "    <tr>\n",
       "      <th>2</th>\n",
       "      <td>563</td>\n",
       "      <td>1</td>\n",
       "      <td>0.5</td>\n",
       "      <td>1</td>\n",
       "      <td>2</td>\n",
       "      <td>1</td>\n",
       "      <td>41</td>\n",
       "      <td>0.9</td>\n",
       "      <td>145</td>\n",
       "      <td>5</td>\n",
       "      <td>...</td>\n",
       "      <td>1263</td>\n",
       "      <td>1716</td>\n",
       "      <td>2603</td>\n",
       "      <td>11</td>\n",
       "      <td>2</td>\n",
       "      <td>9</td>\n",
       "      <td>1</td>\n",
       "      <td>1</td>\n",
       "      <td>0</td>\n",
       "      <td>2</td>\n",
       "    </tr>\n",
       "    <tr>\n",
       "      <th>3</th>\n",
       "      <td>615</td>\n",
       "      <td>1</td>\n",
       "      <td>2.5</td>\n",
       "      <td>0</td>\n",
       "      <td>0</td>\n",
       "      <td>0</td>\n",
       "      <td>10</td>\n",
       "      <td>0.8</td>\n",
       "      <td>131</td>\n",
       "      <td>6</td>\n",
       "      <td>...</td>\n",
       "      <td>1216</td>\n",
       "      <td>1786</td>\n",
       "      <td>2769</td>\n",
       "      <td>16</td>\n",
       "      <td>8</td>\n",
       "      <td>11</td>\n",
       "      <td>1</td>\n",
       "      <td>0</td>\n",
       "      <td>0</td>\n",
       "      <td>2</td>\n",
       "    </tr>\n",
       "    <tr>\n",
       "      <th>4</th>\n",
       "      <td>1821</td>\n",
       "      <td>1</td>\n",
       "      <td>1.2</td>\n",
       "      <td>0</td>\n",
       "      <td>13</td>\n",
       "      <td>1</td>\n",
       "      <td>44</td>\n",
       "      <td>0.6</td>\n",
       "      <td>141</td>\n",
       "      <td>2</td>\n",
       "      <td>...</td>\n",
       "      <td>1208</td>\n",
       "      <td>1212</td>\n",
       "      <td>1411</td>\n",
       "      <td>8</td>\n",
       "      <td>2</td>\n",
       "      <td>15</td>\n",
       "      <td>1</td>\n",
       "      <td>1</td>\n",
       "      <td>0</td>\n",
       "      <td>1</td>\n",
       "    </tr>\n",
       "  </tbody>\n",
       "</table>\n",
       "<p>5 rows × 21 columns</p>\n",
       "</div>"
      ],
      "text/plain": [
       "   battery_power  blue  clock_speed  dual_sim  fc  four_g  int_memory  m_dep  \\\n",
       "0            842     0          2.2         0   1       0           7    0.6   \n",
       "1           1021     1          0.5         1   0       1          53    0.7   \n",
       "2            563     1          0.5         1   2       1          41    0.9   \n",
       "3            615     1          2.5         0   0       0          10    0.8   \n",
       "4           1821     1          1.2         0  13       1          44    0.6   \n",
       "\n",
       "   mobile_wt  n_cores  ...  px_height  px_width   ram  sc_h  sc_w  talk_time  \\\n",
       "0        188        2  ...         20       756  2549     9     7         19   \n",
       "1        136        3  ...        905      1988  2631    17     3          7   \n",
       "2        145        5  ...       1263      1716  2603    11     2          9   \n",
       "3        131        6  ...       1216      1786  2769    16     8         11   \n",
       "4        141        2  ...       1208      1212  1411     8     2         15   \n",
       "\n",
       "   three_g  touch_screen  wifi  price_range  \n",
       "0        0             0     1            1  \n",
       "1        1             1     0            2  \n",
       "2        1             1     0            2  \n",
       "3        1             0     0            2  \n",
       "4        1             1     0            1  \n",
       "\n",
       "[5 rows x 21 columns]"
      ]
     },
     "execution_count": 3,
     "metadata": {},
     "output_type": "execute_result"
    }
   ],
   "source": [
    "# Dispaly first 5 rows of the dataset\n",
    "Df.head()"
   ]
  },
  {
   "cell_type": "code",
   "execution_count": 4,
   "id": "1186c1a3",
   "metadata": {},
   "outputs": [
    {
     "data": {
      "text/html": [
       "<div>\n",
       "<style scoped>\n",
       "    .dataframe tbody tr th:only-of-type {\n",
       "        vertical-align: middle;\n",
       "    }\n",
       "\n",
       "    .dataframe tbody tr th {\n",
       "        vertical-align: top;\n",
       "    }\n",
       "\n",
       "    .dataframe thead th {\n",
       "        text-align: right;\n",
       "    }\n",
       "</style>\n",
       "<table border=\"1\" class=\"dataframe\">\n",
       "  <thead>\n",
       "    <tr style=\"text-align: right;\">\n",
       "      <th></th>\n",
       "      <th>battery_power</th>\n",
       "      <th>blue</th>\n",
       "      <th>clock_speed</th>\n",
       "      <th>dual_sim</th>\n",
       "      <th>fc</th>\n",
       "      <th>four_g</th>\n",
       "      <th>int_memory</th>\n",
       "      <th>m_dep</th>\n",
       "      <th>mobile_wt</th>\n",
       "      <th>n_cores</th>\n",
       "      <th>...</th>\n",
       "      <th>px_height</th>\n",
       "      <th>px_width</th>\n",
       "      <th>ram</th>\n",
       "      <th>sc_h</th>\n",
       "      <th>sc_w</th>\n",
       "      <th>talk_time</th>\n",
       "      <th>three_g</th>\n",
       "      <th>touch_screen</th>\n",
       "      <th>wifi</th>\n",
       "      <th>price_range</th>\n",
       "    </tr>\n",
       "  </thead>\n",
       "  <tbody>\n",
       "    <tr>\n",
       "      <th>1995</th>\n",
       "      <td>794</td>\n",
       "      <td>1</td>\n",
       "      <td>0.5</td>\n",
       "      <td>1</td>\n",
       "      <td>0</td>\n",
       "      <td>1</td>\n",
       "      <td>2</td>\n",
       "      <td>0.8</td>\n",
       "      <td>106</td>\n",
       "      <td>6</td>\n",
       "      <td>...</td>\n",
       "      <td>1222</td>\n",
       "      <td>1890</td>\n",
       "      <td>668</td>\n",
       "      <td>13</td>\n",
       "      <td>4</td>\n",
       "      <td>19</td>\n",
       "      <td>1</td>\n",
       "      <td>1</td>\n",
       "      <td>0</td>\n",
       "      <td>0</td>\n",
       "    </tr>\n",
       "    <tr>\n",
       "      <th>1996</th>\n",
       "      <td>1965</td>\n",
       "      <td>1</td>\n",
       "      <td>2.6</td>\n",
       "      <td>1</td>\n",
       "      <td>0</td>\n",
       "      <td>0</td>\n",
       "      <td>39</td>\n",
       "      <td>0.2</td>\n",
       "      <td>187</td>\n",
       "      <td>4</td>\n",
       "      <td>...</td>\n",
       "      <td>915</td>\n",
       "      <td>1965</td>\n",
       "      <td>2032</td>\n",
       "      <td>11</td>\n",
       "      <td>10</td>\n",
       "      <td>16</td>\n",
       "      <td>1</td>\n",
       "      <td>1</td>\n",
       "      <td>1</td>\n",
       "      <td>2</td>\n",
       "    </tr>\n",
       "    <tr>\n",
       "      <th>1997</th>\n",
       "      <td>1911</td>\n",
       "      <td>0</td>\n",
       "      <td>0.9</td>\n",
       "      <td>1</td>\n",
       "      <td>1</td>\n",
       "      <td>1</td>\n",
       "      <td>36</td>\n",
       "      <td>0.7</td>\n",
       "      <td>108</td>\n",
       "      <td>8</td>\n",
       "      <td>...</td>\n",
       "      <td>868</td>\n",
       "      <td>1632</td>\n",
       "      <td>3057</td>\n",
       "      <td>9</td>\n",
       "      <td>1</td>\n",
       "      <td>5</td>\n",
       "      <td>1</td>\n",
       "      <td>1</td>\n",
       "      <td>0</td>\n",
       "      <td>3</td>\n",
       "    </tr>\n",
       "    <tr>\n",
       "      <th>1998</th>\n",
       "      <td>1512</td>\n",
       "      <td>0</td>\n",
       "      <td>0.9</td>\n",
       "      <td>0</td>\n",
       "      <td>4</td>\n",
       "      <td>1</td>\n",
       "      <td>46</td>\n",
       "      <td>0.1</td>\n",
       "      <td>145</td>\n",
       "      <td>5</td>\n",
       "      <td>...</td>\n",
       "      <td>336</td>\n",
       "      <td>670</td>\n",
       "      <td>869</td>\n",
       "      <td>18</td>\n",
       "      <td>10</td>\n",
       "      <td>19</td>\n",
       "      <td>1</td>\n",
       "      <td>1</td>\n",
       "      <td>1</td>\n",
       "      <td>0</td>\n",
       "    </tr>\n",
       "    <tr>\n",
       "      <th>1999</th>\n",
       "      <td>510</td>\n",
       "      <td>1</td>\n",
       "      <td>2.0</td>\n",
       "      <td>1</td>\n",
       "      <td>5</td>\n",
       "      <td>1</td>\n",
       "      <td>45</td>\n",
       "      <td>0.9</td>\n",
       "      <td>168</td>\n",
       "      <td>6</td>\n",
       "      <td>...</td>\n",
       "      <td>483</td>\n",
       "      <td>754</td>\n",
       "      <td>3919</td>\n",
       "      <td>19</td>\n",
       "      <td>4</td>\n",
       "      <td>2</td>\n",
       "      <td>1</td>\n",
       "      <td>1</td>\n",
       "      <td>1</td>\n",
       "      <td>3</td>\n",
       "    </tr>\n",
       "  </tbody>\n",
       "</table>\n",
       "<p>5 rows × 21 columns</p>\n",
       "</div>"
      ],
      "text/plain": [
       "      battery_power  blue  clock_speed  dual_sim  fc  four_g  int_memory  \\\n",
       "1995            794     1          0.5         1   0       1           2   \n",
       "1996           1965     1          2.6         1   0       0          39   \n",
       "1997           1911     0          0.9         1   1       1          36   \n",
       "1998           1512     0          0.9         0   4       1          46   \n",
       "1999            510     1          2.0         1   5       1          45   \n",
       "\n",
       "      m_dep  mobile_wt  n_cores  ...  px_height  px_width   ram  sc_h  sc_w  \\\n",
       "1995    0.8        106        6  ...       1222      1890   668    13     4   \n",
       "1996    0.2        187        4  ...        915      1965  2032    11    10   \n",
       "1997    0.7        108        8  ...        868      1632  3057     9     1   \n",
       "1998    0.1        145        5  ...        336       670   869    18    10   \n",
       "1999    0.9        168        6  ...        483       754  3919    19     4   \n",
       "\n",
       "      talk_time  three_g  touch_screen  wifi  price_range  \n",
       "1995         19        1             1     0            0  \n",
       "1996         16        1             1     1            2  \n",
       "1997          5        1             1     0            3  \n",
       "1998         19        1             1     1            0  \n",
       "1999          2        1             1     1            3  \n",
       "\n",
       "[5 rows x 21 columns]"
      ]
     },
     "execution_count": 4,
     "metadata": {},
     "output_type": "execute_result"
    }
   ],
   "source": [
    "# Dispaly last 5 rows of the dataset\n",
    "Df.tail()"
   ]
  },
  {
   "cell_type": "markdown",
   "id": "63f6ba9d",
   "metadata": {},
   "source": [
    "## Data preprocessing part"
   ]
  },
  {
   "cell_type": "code",
   "execution_count": 5,
   "id": "f20eaf46",
   "metadata": {},
   "outputs": [
    {
     "data": {
      "text/plain": [
       "(2000, 21)"
      ]
     },
     "execution_count": 5,
     "metadata": {},
     "output_type": "execute_result"
    }
   ],
   "source": [
    "# Check shape of the data\n",
    "Df.shape"
   ]
  },
  {
   "cell_type": "code",
   "execution_count": 6,
   "id": "4ee7487d",
   "metadata": {},
   "outputs": [
    {
     "name": "stdout",
     "output_type": "stream",
     "text": [
      "<class 'pandas.core.frame.DataFrame'>\n",
      "RangeIndex: 2000 entries, 0 to 1999\n",
      "Data columns (total 21 columns):\n",
      " #   Column         Non-Null Count  Dtype  \n",
      "---  ------         --------------  -----  \n",
      " 0   battery_power  2000 non-null   int64  \n",
      " 1   blue           2000 non-null   int64  \n",
      " 2   clock_speed    2000 non-null   float64\n",
      " 3   dual_sim       2000 non-null   int64  \n",
      " 4   fc             2000 non-null   int64  \n",
      " 5   four_g         2000 non-null   int64  \n",
      " 6   int_memory     2000 non-null   int64  \n",
      " 7   m_dep          2000 non-null   float64\n",
      " 8   mobile_wt      2000 non-null   int64  \n",
      " 9   n_cores        2000 non-null   int64  \n",
      " 10  pc             2000 non-null   int64  \n",
      " 11  px_height      2000 non-null   int64  \n",
      " 12  px_width       2000 non-null   int64  \n",
      " 13  ram            2000 non-null   int64  \n",
      " 14  sc_h           2000 non-null   int64  \n",
      " 15  sc_w           2000 non-null   int64  \n",
      " 16  talk_time      2000 non-null   int64  \n",
      " 17  three_g        2000 non-null   int64  \n",
      " 18  touch_screen   2000 non-null   int64  \n",
      " 19  wifi           2000 non-null   int64  \n",
      " 20  price_range    2000 non-null   int64  \n",
      "dtypes: float64(2), int64(19)\n",
      "memory usage: 328.2 KB\n"
     ]
    }
   ],
   "source": [
    "# Check info of all columns of the dataset..\n",
    "Df.info()"
   ]
  },
  {
   "cell_type": "code",
   "execution_count": 7,
   "id": "73377e6f",
   "metadata": {},
   "outputs": [
    {
     "data": {
      "text/plain": [
       "Index(['battery_power', 'blue', 'clock_speed', 'dual_sim', 'fc', 'four_g',\n",
       "       'int_memory', 'm_dep', 'mobile_wt', 'n_cores', 'pc', 'px_height',\n",
       "       'px_width', 'ram', 'sc_h', 'sc_w', 'talk_time', 'three_g',\n",
       "       'touch_screen', 'wifi', 'price_range'],\n",
       "      dtype='object')"
      ]
     },
     "execution_count": 7,
     "metadata": {},
     "output_type": "execute_result"
    }
   ],
   "source": [
    "# Check column names..\n",
    "Df.columns"
   ]
  },
  {
   "cell_type": "code",
   "execution_count": 8,
   "id": "9e919437",
   "metadata": {},
   "outputs": [
    {
     "data": {
      "text/plain": [
       "battery_power    0\n",
       "blue             0\n",
       "clock_speed      0\n",
       "dual_sim         0\n",
       "fc               0\n",
       "four_g           0\n",
       "int_memory       0\n",
       "m_dep            0\n",
       "mobile_wt        0\n",
       "n_cores          0\n",
       "pc               0\n",
       "px_height        0\n",
       "px_width         0\n",
       "ram              0\n",
       "sc_h             0\n",
       "sc_w             0\n",
       "talk_time        0\n",
       "three_g          0\n",
       "touch_screen     0\n",
       "wifi             0\n",
       "price_range      0\n",
       "dtype: int64"
      ]
     },
     "execution_count": 8,
     "metadata": {},
     "output_type": "execute_result"
    }
   ],
   "source": [
    "# Check for null values in the dataset\n",
    "Df.isna().sum()"
   ]
  },
  {
   "cell_type": "markdown",
   "id": "38930ec2",
   "metadata": {},
   "source": [
    "## Data Analysis and Visualization Part"
   ]
  },
  {
   "cell_type": "code",
   "execution_count": 9,
   "id": "3df8b74f",
   "metadata": {},
   "outputs": [
    {
     "data": {
      "text/plain": [
       "array([1, 2, 3, 0], dtype=int64)"
      ]
     },
     "execution_count": 9,
     "metadata": {},
     "output_type": "execute_result"
    }
   ],
   "source": [
    "## Check for unique category in the column of dataset..\n",
    "Df['price_range'].unique()"
   ]
  },
  {
   "cell_type": "code",
   "execution_count": 10,
   "id": "c8cd5f22",
   "metadata": {},
   "outputs": [
    {
     "data": {
      "text/plain": [
       "<AxesSubplot:ylabel='count'>"
      ]
     },
     "execution_count": 10,
     "metadata": {},
     "output_type": "execute_result"
    },
    {
     "data": {
      "image/png": "[encoded data removed]",
      "text/plain": [
       "<Figure size 432x288 with 1 Axes>"
      ]
     },
     "metadata": {
      "needs_background": "light"
     },
     "output_type": "display_data"
    }
   ],
   "source": [
    "# Visualize on countplot..\n",
    "sns.countplot(Df['price_range'].unique())"
   ]
  },
  {
   "cell_type": "code",
   "execution_count": 11,
   "id": "11fbd4b9",
   "metadata": {},
   "outputs": [
    {
     "data": {
      "text/plain": [
       "<AxesSubplot:xlabel='price_range', ylabel='battery_power'>"
      ]
     },
     "execution_count": 11,
     "metadata": {},
     "output_type": "execute_result"
    },
    {
     "data": {
      "image/png": "[encoded data removed]",
      "text/plain": [
       "<Figure size 432x288 with 1 Axes>"
      ]
     },
     "metadata": {
      "needs_background": "light"
     },
     "output_type": "display_data"
    }
   ],
   "source": [
    "sns.boxplot(x=Df['price_range'], y=Df['battery_power'])"
   ]
  },
  {
   "cell_type": "code",
   "execution_count": 12,
   "id": "a141f100",
   "metadata": {},
   "outputs": [
    {
     "data": {
      "text/plain": [
       "<AxesSubplot:xlabel='price_range', ylabel='n_cores'>"
      ]
     },
     "execution_count": 12,
     "metadata": {},
     "output_type": "execute_result"
    },
    {
     "data": {
      "image/png": "[encoded data removed]",
      "text/plain": [
       "<Figure size 432x288 with 1 Axes>"
      ]
     },
     "metadata": {
      "needs_background": "light"
     },
     "output_type": "display_data"
    }
   ],
   "source": [
    "sns.boxplot(x=Df['price_range'], y=Df['n_cores'])"
   ]
  },
  {
   "cell_type": "code",
   "execution_count": 13,
   "id": "2f267162",
   "metadata": {},
   "outputs": [
    {
     "data": {
      "image/png": "[encoded data removed]",
      "text/plain": [
       "<Figure size 360x360 with 1 Axes>"
      ]
     },
     "metadata": {
      "needs_background": "light"
     },
     "output_type": "display_data"
    }
   ],
   "source": [
    "sns.relplot(x = Df[\"price_range\"], y= Df[\"clock_speed\"]);"
   ]
  },
  {
   "cell_type": "code",
   "execution_count": 14,
   "id": "2deccef0",
   "metadata": {},
   "outputs": [
    {
     "data": {
      "text/plain": [
       "<AxesSubplot:xlabel='blue', ylabel='count'>"
      ]
     },
     "execution_count": 14,
     "metadata": {},
     "output_type": "execute_result"
    },
    {
     "data": {
      "image/png": "[encoded data removed]",
      "text/plain": [
       "<Figure size 432x288 with 1 Axes>"
      ]
     },
     "metadata": {
      "needs_background": "light"
     },
     "output_type": "display_data"
    }
   ],
   "source": [
    "# Check for no of blue mobile or not on countplot.. \n",
    "sns.countplot(Df['blue'])"
   ]
  },
  {
   "cell_type": "markdown",
   "id": "6090457d",
   "metadata": {},
   "source": [
    "## Create dependent and independent variable for train the model"
   ]
  },
  {
   "cell_type": "code",
   "execution_count": 15,
   "id": "bbab2b1d",
   "metadata": {},
   "outputs": [],
   "source": [
    "X = Df.drop('price_range', axis=1)"
   ]
  },
  {
   "cell_type": "code",
   "execution_count": 16,
   "id": "e706bb05",
   "metadata": {},
   "outputs": [],
   "source": [
    "y = Df['price_range']"
   ]
  },
  {
   "cell_type": "code",
   "execution_count": 17,
   "id": "74863a84",
   "metadata": {},
   "outputs": [
    {
     "data": {
      "text/html": [
       "<div>\n",
       "<style scoped>\n",
       "    .dataframe tbody tr th:only-of-type {\n",
       "        vertical-align: middle;\n",
       "    }\n",
       "\n",
       "    .dataframe tbody tr th {\n",
       "        vertical-align: top;\n",
       "    }\n",
       "\n",
       "    .dataframe thead th {\n",
       "        text-align: right;\n",
       "    }\n",
       "</style>\n",
       "<table border=\"1\" class=\"dataframe\">\n",
       "  <thead>\n",
       "    <tr style=\"text-align: right;\">\n",
       "      <th></th>\n",
       "      <th>battery_power</th>\n",
       "      <th>blue</th>\n",
       "      <th>clock_speed</th>\n",
       "      <th>dual_sim</th>\n",
       "      <th>fc</th>\n",
       "      <th>four_g</th>\n",
       "      <th>int_memory</th>\n",
       "      <th>m_dep</th>\n",
       "      <th>mobile_wt</th>\n",
       "      <th>n_cores</th>\n",
       "      <th>pc</th>\n",
       "      <th>px_height</th>\n",
       "      <th>px_width</th>\n",
       "      <th>ram</th>\n",
       "      <th>sc_h</th>\n",
       "      <th>sc_w</th>\n",
       "      <th>talk_time</th>\n",
       "      <th>three_g</th>\n",
       "      <th>touch_screen</th>\n",
       "      <th>wifi</th>\n",
       "    </tr>\n",
       "  </thead>\n",
       "  <tbody>\n",
       "    <tr>\n",
       "      <th>0</th>\n",
       "      <td>842</td>\n",
       "      <td>0</td>\n",
       "      <td>2.2</td>\n",
       "      <td>0</td>\n",
       "      <td>1</td>\n",
       "      <td>0</td>\n",
       "      <td>7</td>\n",
       "      <td>0.6</td>\n",
       "      <td>188</td>\n",
       "      <td>2</td>\n",
       "      <td>2</td>\n",
       "      <td>20</td>\n",
       "      <td>756</td>\n",
       "      <td>2549</td>\n",
       "      <td>9</td>\n",
       "      <td>7</td>\n",
       "      <td>19</td>\n",
       "      <td>0</td>\n",
       "      <td>0</td>\n",
       "      <td>1</td>\n",
       "    </tr>\n",
       "    <tr>\n",
       "      <th>1</th>\n",
       "      <td>1021</td>\n",
       "      <td>1</td>\n",
       "      <td>0.5</td>\n",
       "      <td>1</td>\n",
       "      <td>0</td>\n",
       "      <td>1</td>\n",
       "      <td>53</td>\n",
       "      <td>0.7</td>\n",
       "      <td>136</td>\n",
       "      <td>3</td>\n",
       "      <td>6</td>\n",
       "      <td>905</td>\n",
       "      <td>1988</td>\n",
       "      <td>2631</td>\n",
       "      <td>17</td>\n",
       "      <td>3</td>\n",
       "      <td>7</td>\n",
       "      <td>1</td>\n",
       "      <td>1</td>\n",
       "      <td>0</td>\n",
       "    </tr>\n",
       "    <tr>\n",
       "      <th>2</th>\n",
       "      <td>563</td>\n",
       "      <td>1</td>\n",
       "      <td>0.5</td>\n",
       "      <td>1</td>\n",
       "      <td>2</td>\n",
       "      <td>1</td>\n",
       "      <td>41</td>\n",
       "      <td>0.9</td>\n",
       "      <td>145</td>\n",
       "      <td>5</td>\n",
       "      <td>6</td>\n",
       "      <td>1263</td>\n",
       "      <td>1716</td>\n",
       "      <td>2603</td>\n",
       "      <td>11</td>\n",
       "      <td>2</td>\n",
       "      <td>9</td>\n",
       "      <td>1</td>\n",
       "      <td>1</td>\n",
       "      <td>0</td>\n",
       "    </tr>\n",
       "    <tr>\n",
       "      <th>3</th>\n",
       "      <td>615</td>\n",
       "      <td>1</td>\n",
       "      <td>2.5</td>\n",
       "      <td>0</td>\n",
       "      <td>0</td>\n",
       "      <td>0</td>\n",
       "      <td>10</td>\n",
       "      <td>0.8</td>\n",
       "      <td>131</td>\n",
       "      <td>6</td>\n",
       "      <td>9</td>\n",
       "      <td>1216</td>\n",
       "      <td>1786</td>\n",
       "      <td>2769</td>\n",
       "      <td>16</td>\n",
       "      <td>8</td>\n",
       "      <td>11</td>\n",
       "      <td>1</td>\n",
       "      <td>0</td>\n",
       "      <td>0</td>\n",
       "    </tr>\n",
       "    <tr>\n",
       "      <th>4</th>\n",
       "      <td>1821</td>\n",
       "      <td>1</td>\n",
       "      <td>1.2</td>\n",
       "      <td>0</td>\n",
       "      <td>13</td>\n",
       "      <td>1</td>\n",
       "      <td>44</td>\n",
       "      <td>0.6</td>\n",
       "      <td>141</td>\n",
       "      <td>2</td>\n",
       "      <td>14</td>\n",
       "      <td>1208</td>\n",
       "      <td>1212</td>\n",
       "      <td>1411</td>\n",
       "      <td>8</td>\n",
       "      <td>2</td>\n",
       "      <td>15</td>\n",
       "      <td>1</td>\n",
       "      <td>1</td>\n",
       "      <td>0</td>\n",
       "    </tr>\n",
       "    <tr>\n",
       "      <th>...</th>\n",
       "      <td>...</td>\n",
       "      <td>...</td>\n",
       "      <td>...</td>\n",
       "      <td>...</td>\n",
       "      <td>...</td>\n",
       "      <td>...</td>\n",
       "      <td>...</td>\n",
       "      <td>...</td>\n",
       "      <td>...</td>\n",
       "      <td>...</td>\n",
       "      <td>...</td>\n",
       "      <td>...</td>\n",
       "      <td>...</td>\n",
       "      <td>...</td>\n",
       "      <td>...</td>\n",
       "      <td>...</td>\n",
       "      <td>...</td>\n",
       "      <td>...</td>\n",
       "      <td>...</td>\n",
       "      <td>...</td>\n",
       "    </tr>\n",
       "    <tr>\n",
       "      <th>1995</th>\n",
       "      <td>794</td>\n",
       "      <td>1</td>\n",
       "      <td>0.5</td>\n",
       "      <td>1</td>\n",
       "      <td>0</td>\n",
       "      <td>1</td>\n",
       "      <td>2</td>\n",
       "      <td>0.8</td>\n",
       "      <td>106</td>\n",
       "      <td>6</td>\n",
       "      <td>14</td>\n",
       "      <td>1222</td>\n",
       "      <td>1890</td>\n",
       "      <td>668</td>\n",
       "      <td>13</td>\n",
       "      <td>4</td>\n",
       "      <td>19</td>\n",
       "      <td>1</td>\n",
       "      <td>1</td>\n",
       "      <td>0</td>\n",
       "    </tr>\n",
       "    <tr>\n",
       "      <th>1996</th>\n",
       "      <td>1965</td>\n",
       "      <td>1</td>\n",
       "      <td>2.6</td>\n",
       "      <td>1</td>\n",
       "      <td>0</td>\n",
       "      <td>0</td>\n",
       "      <td>39</td>\n",
       "      <td>0.2</td>\n",
       "      <td>187</td>\n",
       "      <td>4</td>\n",
       "      <td>3</td>\n",
       "      <td>915</td>\n",
       "      <td>1965</td>\n",
       "      <td>2032</td>\n",
       "      <td>11</td>\n",
       "      <td>10</td>\n",
       "      <td>16</td>\n",
       "      <td>1</td>\n",
       "      <td>1</td>\n",
       "      <td>1</td>\n",
       "    </tr>\n",
       "    <tr>\n",
       "      <th>1997</th>\n",
       "      <td>1911</td>\n",
       "      <td>0</td>\n",
       "      <td>0.9</td>\n",
       "      <td>1</td>\n",
       "      <td>1</td>\n",
       "      <td>1</td>\n",
       "      <td>36</td>\n",
       "      <td>0.7</td>\n",
       "      <td>108</td>\n",
       "      <td>8</td>\n",
       "      <td>3</td>\n",
       "      <td>868</td>\n",
       "      <td>1632</td>\n",
       "      <td>3057</td>\n",
       "      <td>9</td>\n",
       "      <td>1</td>\n",
       "      <td>5</td>\n",
       "      <td>1</td>\n",
       "      <td>1</td>\n",
       "      <td>0</td>\n",
       "    </tr>\n",
       "    <tr>\n",
       "      <th>1998</th>\n",
       "      <td>1512</td>\n",
       "      <td>0</td>\n",
       "      <td>0.9</td>\n",
       "      <td>0</td>\n",
       "      <td>4</td>\n",
       "      <td>1</td>\n",
       "      <td>46</td>\n",
       "      <td>0.1</td>\n",
       "      <td>145</td>\n",
       "      <td>5</td>\n",
       "      <td>5</td>\n",
       "      <td>336</td>\n",
       "      <td>670</td>\n",
       "      <td>869</td>\n",
       "      <td>18</td>\n",
       "      <td>10</td>\n",
       "      <td>19</td>\n",
       "      <td>1</td>\n",
       "      <td>1</td>\n",
       "      <td>1</td>\n",
       "    </tr>\n",
       "    <tr>\n",
       "      <th>1999</th>\n",
       "      <td>510</td>\n",
       "      <td>1</td>\n",
       "      <td>2.0</td>\n",
       "      <td>1</td>\n",
       "      <td>5</td>\n",
       "      <td>1</td>\n",
       "      <td>45</td>\n",
       "      <td>0.9</td>\n",
       "      <td>168</td>\n",
       "      <td>6</td>\n",
       "      <td>16</td>\n",
       "      <td>483</td>\n",
       "      <td>754</td>\n",
       "      <td>3919</td>\n",
       "      <td>19</td>\n",
       "      <td>4</td>\n",
       "      <td>2</td>\n",
       "      <td>1</td>\n",
       "      <td>1</td>\n",
       "      <td>1</td>\n",
       "    </tr>\n",
       "  </tbody>\n",
       "</table>\n",
       "<p>2000 rows × 20 columns</p>\n",
       "</div>"
      ],
      "text/plain": [
       "      battery_power  blue  clock_speed  dual_sim  fc  four_g  int_memory  \\\n",
       "0               842     0          2.2         0   1       0           7   \n",
       "1              1021     1          0.5         1   0       1          53   \n",
       "2               563     1          0.5         1   2       1          41   \n",
       "3               615     1          2.5         0   0       0          10   \n",
       "4              1821     1          1.2         0  13       1          44   \n",
       "...             ...   ...          ...       ...  ..     ...         ...   \n",
       "1995            794     1          0.5         1   0       1           2   \n",
       "1996           1965     1          2.6         1   0       0          39   \n",
       "1997           1911     0          0.9         1   1       1          36   \n",
       "1998           1512     0          0.9         0   4       1          46   \n",
       "1999            510     1          2.0         1   5       1          45   \n",
       "\n",
       "      m_dep  mobile_wt  n_cores  pc  px_height  px_width   ram  sc_h  sc_w  \\\n",
       "0       0.6        188        2   2         20       756  2549     9     7   \n",
       "1       0.7        136        3   6        905      1988  2631    17     3   \n",
       "2       0.9        145        5   6       1263      1716  2603    11     2   \n",
       "3       0.8        131        6   9       1216      1786  2769    16     8   \n",
       "4       0.6        141        2  14       1208      1212  1411     8     2   \n",
       "...     ...        ...      ...  ..        ...       ...   ...   ...   ...   \n",
       "1995    0.8        106        6  14       1222      1890   668    13     4   \n",
       "1996    0.2        187        4   3        915      1965  2032    11    10   \n",
       "1997    0.7        108        8   3        868      1632  3057     9     1   \n",
       "1998    0.1        145        5   5        336       670   869    18    10   \n",
       "1999    0.9        168        6  16        483       754  3919    19     4   \n",
       "\n",
       "      talk_time  three_g  touch_screen  wifi  \n",
       "0            19        0             0     1  \n",
       "1             7        1             1     0  \n",
       "2             9        1             1     0  \n",
       "3            11        1             0     0  \n",
       "4            15        1             1     0  \n",
       "...         ...      ...           ...   ...  \n",
       "1995         19        1             1     0  \n",
       "1996         16        1             1     1  \n",
       "1997          5        1             1     0  \n",
       "1998         19        1             1     1  \n",
       "1999          2        1             1     1  \n",
       "\n",
       "[2000 rows x 20 columns]"
      ]
     },
     "execution_count": 17,
     "metadata": {},
     "output_type": "execute_result"
    }
   ],
   "source": [
    "X"
   ]
  },
  {
   "cell_type": "code",
   "execution_count": 18,
   "id": "8fa7fece",
   "metadata": {},
   "outputs": [],
   "source": [
    "from sklearn.model_selection import train_test_split"
   ]
  },
  {
   "cell_type": "code",
   "execution_count": 19,
   "id": "3c8db659",
   "metadata": {},
   "outputs": [],
   "source": [
    "X_train, X_test, y_train, y_test = train_test_split(X, y, test_size=0.2)"
   ]
  },
  {
   "cell_type": "markdown",
   "id": "518302fe",
   "metadata": {},
   "source": [
    "## Scale the data using standard scaler"
   ]
  },
  {
   "cell_type": "code",
   "execution_count": 20,
   "id": "d87bb1e0",
   "metadata": {},
   "outputs": [],
   "source": [
    "from sklearn.preprocessing import StandardScaler"
   ]
  },
  {
   "cell_type": "code",
   "execution_count": 21,
   "id": "c163ed78",
   "metadata": {},
   "outputs": [
    {
     "data": {
      "text/plain": [
       "array([[ 0.09398835,  1.01384584, -1.25600052, ..., -1.77041434,\n",
       "        -1.        ,  0.98634324],\n",
       "       [-1.37116346,  1.01384584, -0.15310355, ...,  0.56483953,\n",
       "         1.        , -1.01384584],\n",
       "       [ 1.69089026,  1.01384584,  0.459617  , ..., -1.77041434,\n",
       "         1.        , -1.01384584],\n",
       "       ...,\n",
       "       [-0.99635719,  1.01384584, -1.25600052, ..., -1.77041434,\n",
       "         1.        , -1.01384584],\n",
       "       [-0.71695614,  1.01384584,  0.82724932, ...,  0.56483953,\n",
       "         1.        , -1.01384584],\n",
       "       [-1.04860291,  1.01384584,  1.19488165, ...,  0.56483953,\n",
       "         1.        ,  0.98634324]])"
      ]
     },
     "execution_count": 21,
     "metadata": {},
     "output_type": "execute_result"
    }
   ],
   "source": [
    "scaler = StandardScaler()\n",
    "X_train = scaler.fit_transform(X_train)\n",
    "X_train"
   ]
  },
  {
   "cell_type": "code",
   "execution_count": 22,
   "id": "e322c643",
   "metadata": {},
   "outputs": [
    {
     "data": {
      "text/plain": [
       "array([[ 1.3683297 ,  1.01384584, -0.39819176, ...,  0.56483953,\n",
       "        -1.        ,  0.98634324],\n",
       "       [-0.13998163,  1.01384584, -0.27564765, ...,  0.56483953,\n",
       "         1.        , -1.01384584],\n",
       "       [ 1.29564   , -0.98634324, -0.8883682 , ...,  0.56483953,\n",
       "        -1.        , -1.01384584],\n",
       "       ...,\n",
       "       [-0.55794742, -0.98634324,  0.58216111, ...,  0.56483953,\n",
       "        -1.        , -1.01384584],\n",
       "       [-0.4420982 , -0.98634324,  0.82724932, ...,  0.56483953,\n",
       "        -1.        , -1.01384584],\n",
       "       [-0.69651216,  1.01384584, -0.27564765, ...,  0.56483953,\n",
       "         1.        , -1.01384584]])"
      ]
     },
     "execution_count": 22,
     "metadata": {},
     "output_type": "execute_result"
    }
   ],
   "source": [
    "X_test = scaler.transform(X_test)\n",
    "X_test"
   ]
  },
  {
   "cell_type": "markdown",
   "id": "46004de7",
   "metadata": {},
   "source": [
    "## Apply different machine learning algorithms to predict the prices of mobile"
   ]
  },
  {
   "cell_type": "code",
   "execution_count": 23,
   "id": "16edac64",
   "metadata": {},
   "outputs": [],
   "source": [
    "from sklearn.linear_model import LinearRegression"
   ]
  },
  {
   "cell_type": "code",
   "execution_count": 24,
   "id": "d8bfe529",
   "metadata": {},
   "outputs": [],
   "source": [
    "lir = LinearRegression()"
   ]
  },
  {
   "cell_type": "code",
   "execution_count": 25,
   "id": "31d27b24",
   "metadata": {},
   "outputs": [
    {
     "data": {
      "text/plain": [
       "LinearRegression()"
      ]
     },
     "execution_count": 25,
     "metadata": {},
     "output_type": "execute_result"
    }
   ],
   "source": [
    "lir.fit(X_train, y_train)"
   ]
  },
  {
   "cell_type": "markdown",
   "id": "c257b4e9",
   "metadata": {},
   "source": [
    "## Test score of the model"
   ]
  },
  {
   "cell_type": "code",
   "execution_count": 26,
   "id": "348934a4",
   "metadata": {},
   "outputs": [
    {
     "data": {
      "text/plain": [
       "0.9165129580689215"
      ]
     },
     "execution_count": 26,
     "metadata": {},
     "output_type": "execute_result"
    }
   ],
   "source": [
    "Linear_model = lir.score(X_test, y_test)\n",
    "Linear_model"
   ]
  },
  {
   "cell_type": "markdown",
   "id": "4fe55a4a",
   "metadata": {},
   "source": [
    "## See prediction of the model"
   ]
  },
  {
   "cell_type": "code",
   "execution_count": 27,
   "id": "fba599c5",
   "metadata": {},
   "outputs": [
    {
     "data": {
      "text/plain": [
       "array([ 6.99209664e-01,  1.39118419e+00,  1.19177656e+00,  2.19668471e+00,\n",
       "        6.43495027e-01,  3.00831364e+00,  1.84986204e+00,  1.61255070e+00,\n",
       "        3.51451443e+00,  2.46850285e+00,  2.00781888e+00,  1.54761458e+00,\n",
       "       -8.62046928e-02, -4.23137281e-01,  2.91750863e+00,  5.13993439e-01,\n",
       "       -1.41374981e-01,  3.06629962e-01,  2.93553414e+00,  2.05627499e+00,\n",
       "        2.01374857e+00,  7.67142161e-01,  3.48158916e-01,  1.89669719e+00,\n",
       "        1.91261915e+00,  2.82724247e+00,  1.05015866e+00,  1.54814783e-01,\n",
       "        2.90880573e+00,  3.05303796e-01,  1.50733064e+00,  1.31264346e+00,\n",
       "        1.29071556e+00,  5.98506266e-01,  3.34455503e+00,  2.69198333e+00,\n",
       "        3.17919680e+00,  3.05005822e+00,  3.27630695e+00,  2.90597313e+00,\n",
       "        1.72323215e+00,  2.26786777e-01,  2.34803305e+00,  2.93460626e+00,\n",
       "       -9.16748236e-02,  1.35880384e+00, -9.88417813e-02,  3.45831190e+00,\n",
       "        7.30877949e-01,  2.54990301e+00,  1.24559393e+00,  2.34142550e+00,\n",
       "        2.96839132e-02,  4.71373016e-01,  2.41756231e+00,  1.14923299e+00,\n",
       "        1.72065344e+00,  3.05949021e+00,  1.30764173e+00,  5.19997780e-01,\n",
       "        2.44706562e+00,  1.08864708e+00,  2.68880623e+00,  1.08646933e+00,\n",
       "        2.47465891e-01,  2.20684932e+00,  9.44416405e-01,  1.13353879e+00,\n",
       "        1.34358987e+00,  3.16299116e+00, -9.60507454e-02,  3.33863454e+00,\n",
       "        2.20938393e+00, -7.76986331e-02,  2.29930082e+00,  8.15321512e-01,\n",
       "        1.21688676e+00, -3.59094540e-01,  2.29669702e+00, -4.94121354e-01,\n",
       "        1.96496973e+00,  2.01738863e-01,  2.59145216e+00,  6.44052886e-01,\n",
       "        1.63906965e+00,  2.42916924e+00,  1.44410590e+00,  3.45913665e+00,\n",
       "        1.93039888e+00,  1.99004827e+00,  1.97358599e+00,  8.69766583e-01,\n",
       "        1.58178861e+00,  2.13954933e+00,  2.35669393e+00,  2.87539887e+00,\n",
       "        2.56266967e+00,  2.13052652e-01,  7.27924745e-01,  2.64111650e+00,\n",
       "        2.56830960e+00, -1.87457479e-01,  2.51598472e+00,  1.31932391e+00,\n",
       "        1.63944844e+00,  1.05174825e+00,  1.43723676e+00,  2.17757167e+00,\n",
       "        1.25220703e-01,  2.43367994e+00,  6.80319256e-01,  1.05237975e+00,\n",
       "        2.93213558e+00,  1.62606491e-01,  2.62533741e+00, -2.34237076e-02,\n",
       "        2.54558834e+00,  1.77493334e+00,  1.10766209e+00,  1.46329830e+00,\n",
       "        6.52784879e-01,  2.56113728e+00,  2.50206554e+00, -2.95392382e-01,\n",
       "        2.00748909e+00, -3.54953654e-01,  2.12273243e+00, -2.94990224e-01,\n",
       "        3.03632073e+00,  2.00029918e+00,  1.28915697e-01,  3.14801068e+00,\n",
       "        3.24631905e+00,  1.66952323e+00,  6.81753765e-01,  1.86618093e+00,\n",
       "        1.26974647e+00,  1.81381505e+00,  3.16940454e+00,  9.07944088e-01,\n",
       "        9.82064531e-01,  7.30965071e-01,  4.47322412e-01,  3.22231212e+00,\n",
       "        2.54736593e+00,  1.77695066e+00,  1.22065770e+00,  1.16276817e+00,\n",
       "        2.07928306e+00,  3.61504765e+00,  7.62166863e-01,  7.04159584e-02,\n",
       "        1.73148554e+00,  1.76777400e+00,  2.86801702e-01,  1.98184018e+00,\n",
       "        1.75458226e+00,  8.22166417e-01,  1.59790475e+00,  9.85302618e-01,\n",
       "        3.79271028e-01,  1.32944059e+00,  1.76514547e+00, -2.20611360e-01,\n",
       "        1.90668037e+00, -4.05582057e-01,  2.37793652e+00, -3.25264364e-01,\n",
       "       -1.82188722e-01,  2.74798770e-01,  3.10817073e+00,  3.29068533e+00,\n",
       "       -1.76162108e-01, -1.16361048e-01,  2.38952231e+00,  2.20856602e+00,\n",
       "        2.49540079e+00,  1.64507885e+00,  2.77968677e+00,  1.05455644e+00,\n",
       "        1.00819808e+00,  3.19671813e+00,  1.85404852e+00,  3.65312036e-01,\n",
       "        1.22438085e+00,  1.75076736e+00, -1.46952447e-01,  4.67143455e-01,\n",
       "        1.21284414e+00,  3.71753329e+00,  2.75606551e+00,  2.00961672e+00,\n",
       "        1.29522466e-01,  1.45390974e+00,  5.33188719e-02,  7.25528715e-01,\n",
       "       -1.23547539e-01, -3.20788904e-01,  2.47216270e+00,  2.08109650e+00,\n",
       "        1.92302364e+00,  1.04159629e+00,  2.25456054e+00,  1.29022517e+00,\n",
       "        2.12095766e+00,  2.96283493e+00, -1.90860292e-03,  6.76209920e-01,\n",
       "        4.96356984e-01,  3.48422883e+00,  2.50368580e+00,  1.06301874e+00,\n",
       "       -1.19419777e-01,  2.94049828e+00,  2.79640531e+00,  1.31535900e+00,\n",
       "        1.31490352e+00,  2.83175246e+00,  3.02191630e+00,  2.17560962e+00,\n",
       "        1.28621589e+00,  2.38447619e+00,  1.37053746e+00,  2.07703769e+00,\n",
       "        2.07711657e+00,  1.53760552e+00,  3.73433683e-01,  2.74377888e+00,\n",
       "        9.94617296e-01,  1.85128728e-01,  1.46263801e+00,  2.78977859e+00,\n",
       "        3.29298942e+00,  1.77404508e+00,  6.38217904e-01,  1.16023199e+00,\n",
       "        3.03093636e+00, -4.21962734e-01,  2.79838253e+00,  1.21591606e+00,\n",
       "        1.07405356e+00,  3.76463264e+00,  1.58642059e+00,  1.15116408e+00,\n",
       "        1.54561348e+00,  8.23406171e-01,  2.17604610e+00,  3.25596221e+00,\n",
       "        2.97547137e+00,  3.02165923e+00,  1.36351997e+00,  2.81367370e+00,\n",
       "        2.48124575e-01,  2.08732425e+00,  8.57907011e-01,  2.74237648e+00,\n",
       "        3.15458904e-01,  1.77688138e+00,  2.89739770e+00,  4.26852677e-01,\n",
       "        7.94261614e-01,  2.42060671e+00,  2.64797896e+00,  8.00423147e-01,\n",
       "        3.30485868e+00,  1.97594504e+00,  7.00352373e-01,  9.50065474e-01,\n",
       "        3.43899212e+00,  1.65518642e+00,  6.51852550e-01,  1.44621022e+00,\n",
       "        2.10577999e+00,  1.21056598e+00,  1.01922785e+00,  2.87770532e+00,\n",
       "        1.52885953e+00,  1.21889992e+00,  1.75235228e+00, -2.93785790e-02,\n",
       "       -1.55941858e-01,  2.41118659e+00,  2.48992831e+00,  2.28673923e+00,\n",
       "        2.88793507e+00,  5.03847109e-01,  1.17228449e+00,  1.49881949e+00,\n",
       "        1.53775188e+00,  1.13677931e+00,  1.23562482e+00,  2.33905774e+00,\n",
       "        6.23595335e-01, -5.29205486e-01,  2.60123730e+00,  2.51195399e+00,\n",
       "        2.20865426e+00,  1.27459397e+00,  2.29174952e+00,  1.85043980e+00,\n",
       "        2.06954630e+00,  2.96736876e+00,  1.45087556e+00, -3.39771103e-01,\n",
       "        9.38679164e-01,  4.37251292e-01,  2.36616770e-01,  1.76051536e+00,\n",
       "        3.47234716e+00,  1.95062321e+00,  3.25938325e+00,  2.27469608e+00,\n",
       "        1.18778571e+00,  9.78383963e-01,  1.09256692e+00, -2.28918047e-02,\n",
       "        8.93141665e-01,  1.13470691e+00,  3.02597856e+00,  3.66164125e+00,\n",
       "        1.32075986e+00, -6.16865296e-01,  5.81651138e-01,  5.83293243e-01,\n",
       "       -2.05013940e-01,  1.34780501e+00,  2.95288785e+00,  1.64351779e+00,\n",
       "        2.21753145e+00,  7.78912806e-01,  1.15497687e+00,  2.15477476e+00,\n",
       "        2.31967159e+00,  1.93054633e+00,  1.58857897e+00,  9.61942408e-01,\n",
       "        5.34565741e-01,  2.50195287e+00,  3.18847686e+00,  2.21741650e+00,\n",
       "       -3.53758473e-01,  1.59423037e+00,  2.73097234e+00,  1.37763207e+00,\n",
       "        1.23449953e+00,  2.14357834e+00,  3.09804228e+00,  1.87829976e+00,\n",
       "        9.33056437e-01,  2.37638320e+00, -4.28741542e-01,  1.86953044e+00,\n",
       "        8.89019443e-01,  2.36911590e+00, -5.73353183e-02, -2.05567852e-01,\n",
       "        2.80730127e+00,  3.40284389e+00,  1.42719038e+00,  2.35051770e+00,\n",
       "        4.79970523e-01,  1.26730656e+00,  1.89121714e+00,  3.73732256e-01,\n",
       "        1.78927649e+00,  1.66497327e+00,  7.36393133e-01, -1.59720481e-01,\n",
       "        3.77443057e-01,  1.80009570e+00,  4.99037661e-01, -2.15616389e-01,\n",
       "        1.06745540e+00,  2.35817372e+00,  2.73438095e-01,  1.45716231e+00,\n",
       "        2.97217964e+00,  8.73542863e-01,  3.24190609e+00,  6.77514400e-01,\n",
       "       -1.89088915e-01,  1.31855522e+00,  7.49666141e-01,  1.23297522e+00,\n",
       "        2.84511903e+00,  3.30307350e+00,  1.52108261e+00, -4.76090079e-01,\n",
       "        2.22646072e+00,  1.29044502e+00, -6.24492191e-01,  7.36472259e-01,\n",
       "        1.25950609e+00,  1.66176587e-01,  2.11399650e+00,  1.60440081e+00,\n",
       "        5.40145801e-01,  1.53921062e+00,  1.87998717e+00,  1.46105826e+00])"
      ]
     },
     "execution_count": 27,
     "metadata": {},
     "output_type": "execute_result"
    }
   ],
   "source": [
    "y_pred=lir.predict(X_test)\n",
    "y_pred"
   ]
  },
  {
   "cell_type": "code",
   "execution_count": 28,
   "id": "53370272",
   "metadata": {},
   "outputs": [
    {
     "data": {
      "text/plain": [
       "<AxesSubplot:xlabel='price_range'>"
      ]
     },
     "execution_count": 28,
     "metadata": {},
     "output_type": "execute_result"
    },
    {
     "data": {
      "image/png": "[encoded data removed]",
      "text/plain": [
       "<Figure size 432x288 with 1 Axes>"
      ]
     },
     "metadata": {
      "needs_background": "light"
     },
     "output_type": "display_data"
    }
   ],
   "source": [
    "# Create scatterplot for prediction and actual data of linear regression model\n",
    "sns.scatterplot(y_test, y_pred)"
   ]
  },
  {
   "cell_type": "markdown",
   "id": "ee6e4eae",
   "metadata": {},
   "source": [
    "## Test model prediction"
   ]
  },
  {
   "cell_type": "code",
   "execution_count": 29,
   "id": "9e8f1c4c",
   "metadata": {},
   "outputs": [
    {
     "data": {
      "text/plain": [
       "array([2911.26549911])"
      ]
     },
     "execution_count": 29,
     "metadata": {},
     "output_type": "execute_result"
    }
   ],
   "source": [
    "lir.predict([[842, 0, 2.2, 0, 1, 0, 7, 0.6, 188, 2, 2, 20, 756, 2549, 9, 7, 19, 0, 0, 1]])"
   ]
  },
  {
   "cell_type": "code",
   "execution_count": 30,
   "id": "1023d8df",
   "metadata": {},
   "outputs": [
    {
     "data": {
      "text/plain": [
       "array([1357.74603457])"
      ]
     },
     "execution_count": 30,
     "metadata": {},
     "output_type": "execute_result"
    }
   ],
   "source": [
    "lir.predict([[1512, 0, 0.9, 0, 4, 1, 46, 0.1, 145, 5, 5, 336, 670, 869, 18, 10, 19, 1, 1, 1]])"
   ]
  },
  {
   "cell_type": "markdown",
   "id": "7a1af92a",
   "metadata": {},
   "source": [
    "## Check logistic Regression Model "
   ]
  },
  {
   "cell_type": "code",
   "execution_count": 31,
   "id": "df448484",
   "metadata": {},
   "outputs": [],
   "source": [
    "from sklearn.linear_model import LogisticRegression"
   ]
  },
  {
   "cell_type": "code",
   "execution_count": 32,
   "id": "2358d54f",
   "metadata": {},
   "outputs": [],
   "source": [
    "#Logistic regression.\n",
    "lr_model = LogisticRegression()"
   ]
  },
  {
   "cell_type": "code",
   "execution_count": 33,
   "id": "eb0b2079",
   "metadata": {},
   "outputs": [],
   "source": [
    "pred = lr_model.fit(X_train, y_train)"
   ]
  },
  {
   "cell_type": "code",
   "execution_count": 34,
   "id": "d7ae8ff6",
   "metadata": {},
   "outputs": [
    {
     "data": {
      "text/plain": [
       "LogisticRegression()"
      ]
     },
     "execution_count": 34,
     "metadata": {},
     "output_type": "execute_result"
    }
   ],
   "source": [
    "pred"
   ]
  },
  {
   "cell_type": "code",
   "execution_count": 35,
   "id": "3c620b1b",
   "metadata": {},
   "outputs": [],
   "source": [
    "Logistic_regression=pred.score(X_test, y_test)"
   ]
  },
  {
   "cell_type": "code",
   "execution_count": 36,
   "id": "06098c2f",
   "metadata": {},
   "outputs": [
    {
     "data": {
      "text/plain": [
       "0.96"
      ]
     },
     "execution_count": 36,
     "metadata": {},
     "output_type": "execute_result"
    }
   ],
   "source": [
    "Logistic_regression"
   ]
  },
  {
   "cell_type": "code",
   "execution_count": 37,
   "id": "bd66378d",
   "metadata": {},
   "outputs": [
    {
     "data": {
      "text/plain": [
       "array([1, 2, 1, 2, 0, 3, 2, 2, 3, 3, 2, 2, 0, 0, 3, 0, 0, 0, 3, 2, 2, 1,\n",
       "       0, 2, 2, 3, 1, 0, 3, 0, 1, 1, 1, 1, 3, 3, 3, 3, 3, 3, 2, 0, 3, 3,\n",
       "       0, 1, 0, 3, 1, 3, 1, 2, 0, 0, 3, 1, 2, 3, 1, 0, 2, 1, 3, 1, 0, 2,\n",
       "       1, 1, 1, 3, 0, 3, 2, 0, 2, 1, 1, 0, 3, 0, 2, 0, 3, 0, 2, 3, 2, 3,\n",
       "       2, 2, 2, 1, 1, 2, 2, 3, 3, 0, 1, 3, 3, 0, 3, 1, 2, 1, 1, 2, 0, 3,\n",
       "       1, 1, 3, 0, 3, 0, 3, 2, 1, 2, 1, 3, 3, 0, 2, 0, 2, 0, 3, 2, 0, 3,\n",
       "       3, 2, 1, 2, 1, 2, 3, 1, 1, 1, 0, 3, 3, 2, 1, 1, 2, 3, 1, 0, 2, 2,\n",
       "       0, 2, 2, 1, 2, 1, 0, 1, 2, 0, 2, 0, 3, 0, 0, 0, 3, 3, 0, 0, 3, 2,\n",
       "       3, 2, 3, 1, 1, 3, 2, 0, 1, 2, 0, 0, 1, 3, 3, 2, 0, 1, 0, 1, 0, 0,\n",
       "       3, 2, 2, 1, 2, 1, 2, 3, 0, 0, 0, 3, 3, 1, 0, 3, 3, 1, 1, 3, 3, 2,\n",
       "       1, 2, 1, 2, 2, 1, 0, 3, 1, 0, 1, 3, 3, 2, 1, 1, 3, 0, 3, 1, 1, 3,\n",
       "       2, 1, 2, 1, 2, 3, 3, 3, 2, 3, 0, 2, 1, 3, 0, 2, 3, 0, 1, 3, 3, 1,\n",
       "       3, 2, 1, 1, 3, 2, 1, 2, 2, 1, 1, 3, 2, 1, 2, 0, 0, 2, 3, 2, 3, 0,\n",
       "       1, 2, 2, 1, 1, 2, 1, 0, 3, 3, 2, 1, 2, 2, 2, 3, 1, 0, 1, 0, 0, 2,\n",
       "       3, 2, 3, 2, 1, 1, 1, 0, 1, 1, 3, 3, 1, 0, 1, 1, 0, 1, 3, 2, 2, 1,\n",
       "       1, 2, 2, 2, 2, 1, 0, 3, 3, 2, 0, 2, 3, 1, 1, 2, 3, 2, 1, 3, 0, 2,\n",
       "       1, 2, 0, 0, 3, 3, 2, 2, 0, 1, 2, 0, 2, 2, 1, 0, 0, 2, 0, 0, 1, 2,\n",
       "       0, 2, 3, 1, 3, 1, 0, 1, 1, 1, 3, 3, 2, 0, 2, 1, 0, 1, 1, 0, 2, 2,\n",
       "       0, 2, 2, 1], dtype=int64)"
      ]
     },
     "execution_count": 37,
     "metadata": {},
     "output_type": "execute_result"
    }
   ],
   "source": [
    "y_pred1 = pred.predict(X_test)\n",
    "y_pred1"
   ]
  },
  {
   "cell_type": "code",
   "execution_count": 38,
   "id": "45bf45f5",
   "metadata": {},
   "outputs": [
    {
     "data": {
      "text/plain": [
       "<AxesSubplot:xlabel='price_range'>"
      ]
     },
     "execution_count": 38,
     "metadata": {},
     "output_type": "execute_result"
    },
    {
     "data": {
      "image/png": "[encoded data removed]",
      "text/plain": [
       "<Figure size 432x288 with 1 Axes>"
      ]
     },
     "metadata": {
      "needs_background": "light"
     },
     "output_type": "display_data"
    }
   ],
   "source": [
    "# See the data on scatterplot of the logistic regression model actual and predicted \n",
    "sns.scatterplot(y_test, y_pred1)"
   ]
  },
  {
   "cell_type": "code",
   "execution_count": 39,
   "id": "419baa5c",
   "metadata": {},
   "outputs": [
    {
     "data": {
      "text/plain": [
       "array([3], dtype=int64)"
      ]
     },
     "execution_count": 39,
     "metadata": {},
     "output_type": "execute_result"
    }
   ],
   "source": [
    "pred.predict([[842, 0, 2.2, 0, 1, 0, 7, 0.6, 188, 2, 2, 20, 756, 2549, 9, 7, 19, 0, 0, 1]])"
   ]
  },
  {
   "cell_type": "code",
   "execution_count": 40,
   "id": "8a66f1c9",
   "metadata": {},
   "outputs": [
    {
     "data": {
      "text/html": [
       "<div>\n",
       "<style scoped>\n",
       "    .dataframe tbody tr th:only-of-type {\n",
       "        vertical-align: middle;\n",
       "    }\n",
       "\n",
       "    .dataframe tbody tr th {\n",
       "        vertical-align: top;\n",
       "    }\n",
       "\n",
       "    .dataframe thead th {\n",
       "        text-align: right;\n",
       "    }\n",
       "</style>\n",
       "<table border=\"1\" class=\"dataframe\">\n",
       "  <thead>\n",
       "    <tr style=\"text-align: right;\">\n",
       "      <th></th>\n",
       "      <th>Models</th>\n",
       "      <th>Accuracy of Models</th>\n",
       "    </tr>\n",
       "  </thead>\n",
       "  <tbody>\n",
       "    <tr>\n",
       "      <th>0</th>\n",
       "      <td>Linear Regression</td>\n",
       "      <td>0.916513</td>\n",
       "    </tr>\n",
       "    <tr>\n",
       "      <th>1</th>\n",
       "      <td>Logistic Regression</td>\n",
       "      <td>0.960000</td>\n",
       "    </tr>\n",
       "  </tbody>\n",
       "</table>\n",
       "</div>"
      ],
      "text/plain": [
       "                Models  Accuracy of Models\n",
       "0    Linear Regression            0.916513\n",
       "1  Logistic Regression            0.960000"
      ]
     },
     "metadata": {},
     "output_type": "display_data"
    }
   ],
   "source": [
    "# Create dataframe for model names and their prediction...\n",
    "df = {'Models': ['Linear Regression', 'Logistic Regression'], 'Accuracy of Models': [Linear_model, Logistic_regression]}\n",
    "data = pd.DataFrame(df)\n",
    "display(data)"
   ]
  },
  {
   "cell_type": "code",
   "execution_count": 41,
   "id": "2af0f1f8",
   "metadata": {},
   "outputs": [
    {
     "data": {
      "image/png": "[encoded data removed]",
      "text/plain": [
       "<Figure size 720x360 with 1 Axes>"
      ]
     },
     "metadata": {
      "needs_background": "light"
     },
     "output_type": "display_data"
    }
   ],
   "source": [
    "# Show accuracy of the models on barplot\n",
    "data.plot(x='Models', y='Accuracy of Models', kind='bar', color = ['red', 'green'], figsize = (10, 5),legend=None)\n",
    "plt.show()"
   ]
  },
  {
   "cell_type": "code",
   "execution_count": null,
   "id": "e01194fb",
   "metadata": {},
   "outputs": [],
   "source": []
  }
 ],
 "metadata": {
  "kernelspec": {
   "display_name": "Python 3",
   "language": "python",
   "name": "python3"
  },
  "language_info": {
   "codemirror_mode": {
    "name": "ipython",
    "version": 3
   },
   "file_extension": ".py",
   "mimetype": "text/x-python",
   "name": "python",
   "nbconvert_exporter": "python",
   "pygments_lexer": "ipython3",
   "version": "3.8.8"
  }
 },
 "nbformat": 4,
 "nbformat_minor": 5
}

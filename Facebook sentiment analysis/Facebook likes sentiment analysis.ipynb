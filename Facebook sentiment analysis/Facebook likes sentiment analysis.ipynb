{
 "cells": [
  {
   "cell_type": "markdown",
   "id": "9ff1b649",
   "metadata": {},
   "source": [
    "## Facebook page Sentiment Analysis Project\n",
    "### Problem No 1:\n",
    "##### First how we find the the pos and neg likes?\n",
    "##### For this problem we use nlargest and nsmallest function to solve neg and pos posts.\n",
    "### Problem No 2:\n",
    "##### Second problem is how we improve our audience on facebook page and reach more people?\n",
    "##### To solve this problems we use classification algorihms like:\n",
    "##### (1) Decision Tree Classifier\n",
    "##### (2) Logistic Regression\n",
    "##### (3) Multinomial Naive Bayes"
   ]
  },
  {
   "cell_type": "markdown",
   "id": "5e6641fd",
   "metadata": {},
   "source": [
    "## Import libraries"
   ]
  },
  {
   "cell_type": "code",
   "execution_count": 1,
   "id": "a9400ec0",
   "metadata": {},
   "outputs": [],
   "source": [
    "import math\n",
    "import numpy as np \n",
    "import re\n",
    "from nltk.corpus import stopwords\n",
    "from nltk.probability import FreqDist\n",
    "from nltk.tokenize import sent_tokenize, RegexpTokenizer\n",
    "from sklearn.feature_extraction.text import CountVectorizer\n",
    "from sklearn.naive_bayes import MultinomialNB\n",
    "from sklearn import metrics\n",
    "from sklearn.feature_extraction.text import TfidfVectorizer, HashingVectorizer\n",
    "import pandas as pd\n",
    "import pandera as pa\n",
    "from numpy import mean\n",
    "from sklearn.model_selection import KFold\n",
    "from sklearn.tree import DecisionTreeClassifier\n",
    "import seaborn as sns\n",
    "%matplotlib inline\n",
    "from sklearn.svm import LinearSVC\n",
    "import random\n",
    "import matplotlib.pyplot as plt\n",
    "from sklearn.linear_model import LogisticRegression\n",
    "from sklearn import metrics\n",
    "from sklearn.cluster import KMeans\n",
    "import plotly.express as px\n",
    "from sklearn.ensemble import RandomForestClassifier\n",
    "from sklearn.metrics import confusion_matrix, accuracy_score, roc_auc_score, roc_curve\n",
    "from sklearn.metrics import classification_report, confusion_matrix, accuracy_score\n",
    "from sklearn.model_selection import train_test_split\n",
    "from sklearn import preprocessing\n",
    "from sklearn.preprocessing import StandardScaler\n",
    "from sklearn.preprocessing import MinMaxScaler\n",
    "from sklearn.metrics import roc_curve\n",
    "from sklearn.metrics import roc_curve, roc_auc_score\n",
    "import warnings\n",
    "warnings.filterwarnings(\"ignore\")"
   ]
  },
  {
   "cell_type": "markdown",
   "id": "32ed442a",
   "metadata": {},
   "source": [
    "## Import data"
   ]
  },
  {
   "cell_type": "code",
   "execution_count": 2,
   "id": "ba43f4dc",
   "metadata": {},
   "outputs": [],
   "source": [
    "Df=pd.read_csv('Facebook posts and sentiments.csv')"
   ]
  },
  {
   "cell_type": "markdown",
   "id": "a4d5b465",
   "metadata": {},
   "source": [
    "## See first 5 rows of dataset"
   ]
  },
  {
   "cell_type": "code",
   "execution_count": 3,
   "id": "24242982",
   "metadata": {},
   "outputs": [
    {
     "data": {
      "text/html": [
       "<div>\n",
       "<style scoped>\n",
       "    .dataframe tbody tr th:only-of-type {\n",
       "        vertical-align: middle;\n",
       "    }\n",
       "\n",
       "    .dataframe tbody tr th {\n",
       "        vertical-align: top;\n",
       "    }\n",
       "\n",
       "    .dataframe thead th {\n",
       "        text-align: right;\n",
       "    }\n",
       "</style>\n",
       "<table border=\"1\" class=\"dataframe\">\n",
       "  <thead>\n",
       "    <tr style=\"text-align: right;\">\n",
       "      <th></th>\n",
       "      <th>Brand</th>\n",
       "      <th>post_id</th>\n",
       "      <th>post_text</th>\n",
       "      <th>time</th>\n",
       "      <th>likes</th>\n",
       "      <th>comments</th>\n",
       "      <th>shares</th>\n",
       "      <th>post_url</th>\n",
       "      <th>sentiment_score</th>\n",
       "      <th>sentiment_magnitude</th>\n",
       "    </tr>\n",
       "  </thead>\n",
       "  <tbody>\n",
       "    <tr>\n",
       "      <th>0</th>\n",
       "      <td>DMK</td>\n",
       "      <td>5.311750e+15</td>\n",
       "      <td>Start on the right foot for your first impress...</td>\n",
       "      <td>2021-04-03 11:36:51</td>\n",
       "      <td>177</td>\n",
       "      <td>0</td>\n",
       "      <td>0</td>\n",
       "      <td>https://facebook.com/DMKShoes/posts/5311745528...</td>\n",
       "      <td>0.2</td>\n",
       "      <td>0.7</td>\n",
       "    </tr>\n",
       "    <tr>\n",
       "      <th>1</th>\n",
       "      <td>DMK</td>\n",
       "      <td>5.307740e+15</td>\n",
       "      <td>Getting that crop top + wide trousers combo ri...</td>\n",
       "      <td>2021-04-02 15:58:02</td>\n",
       "      <td>216</td>\n",
       "      <td>0</td>\n",
       "      <td>0</td>\n",
       "      <td>https://facebook.com/DMKShoes/posts/5307740495...</td>\n",
       "      <td>0.3</td>\n",
       "      <td>0.9</td>\n",
       "    </tr>\n",
       "    <tr>\n",
       "      <th>2</th>\n",
       "      <td>DMK</td>\n",
       "      <td>5.302814e+15</td>\n",
       "      <td>Sweet dreams are made of these - Bubble Dream ...</td>\n",
       "      <td>2021-04-01 16:17:29</td>\n",
       "      <td>385</td>\n",
       "      <td>0</td>\n",
       "      <td>0</td>\n",
       "      <td>https://facebook.com/DMKShoes/posts/5302814246...</td>\n",
       "      <td>0.4</td>\n",
       "      <td>1.2</td>\n",
       "    </tr>\n",
       "    <tr>\n",
       "      <th>3</th>\n",
       "      <td>DMK</td>\n",
       "      <td>5.292993e+15</td>\n",
       "      <td>@annavanticalopez: \"Disney’s CEO, Bob Iger, is...</td>\n",
       "      <td>2021-03-30 15:41:29</td>\n",
       "      <td>214</td>\n",
       "      <td>0</td>\n",
       "      <td>0</td>\n",
       "      <td>https://facebook.com/DMKShoes/posts/5292992840...</td>\n",
       "      <td>0.0</td>\n",
       "      <td>4.5</td>\n",
       "    </tr>\n",
       "    <tr>\n",
       "      <th>4</th>\n",
       "      <td>DMK</td>\n",
       "      <td>5.280722e+15</td>\n",
       "      <td>@annavanticalopez: \"When I first started model...</td>\n",
       "      <td>2021-03-28 11:36:40</td>\n",
       "      <td>118</td>\n",
       "      <td>0</td>\n",
       "      <td>0</td>\n",
       "      <td>https://facebook.com/DMKShoes/posts/5280721625...</td>\n",
       "      <td>0.0</td>\n",
       "      <td>3.4</td>\n",
       "    </tr>\n",
       "  </tbody>\n",
       "</table>\n",
       "</div>"
      ],
      "text/plain": [
       "  Brand       post_id                                          post_text  \\\n",
       "0   DMK  5.311750e+15  Start on the right foot for your first impress...   \n",
       "1   DMK  5.307740e+15  Getting that crop top + wide trousers combo ri...   \n",
       "2   DMK  5.302814e+15  Sweet dreams are made of these - Bubble Dream ...   \n",
       "3   DMK  5.292993e+15  @annavanticalopez: \"Disney’s CEO, Bob Iger, is...   \n",
       "4   DMK  5.280722e+15  @annavanticalopez: \"When I first started model...   \n",
       "\n",
       "                  time  likes  comments  shares  \\\n",
       "0  2021-04-03 11:36:51    177         0       0   \n",
       "1  2021-04-02 15:58:02    216         0       0   \n",
       "2  2021-04-01 16:17:29    385         0       0   \n",
       "3  2021-03-30 15:41:29    214         0       0   \n",
       "4  2021-03-28 11:36:40    118         0       0   \n",
       "\n",
       "                                            post_url  sentiment_score  \\\n",
       "0  https://facebook.com/DMKShoes/posts/5311745528...              0.2   \n",
       "1  https://facebook.com/DMKShoes/posts/5307740495...              0.3   \n",
       "2  https://facebook.com/DMKShoes/posts/5302814246...              0.4   \n",
       "3  https://facebook.com/DMKShoes/posts/5292992840...              0.0   \n",
       "4  https://facebook.com/DMKShoes/posts/5280721625...              0.0   \n",
       "\n",
       "   sentiment_magnitude  \n",
       "0                  0.7  \n",
       "1                  0.9  \n",
       "2                  1.2  \n",
       "3                  4.5  \n",
       "4                  3.4  "
      ]
     },
     "execution_count": 3,
     "metadata": {},
     "output_type": "execute_result"
    }
   ],
   "source": [
    "Df.head()"
   ]
  },
  {
   "cell_type": "markdown",
   "id": "b725ff60",
   "metadata": {},
   "source": [
    "## See the last 10 rows of dataset"
   ]
  },
  {
   "cell_type": "code",
   "execution_count": 4,
   "id": "c33b9ff3",
   "metadata": {},
   "outputs": [
    {
     "data": {
      "text/html": [
       "<div>\n",
       "<style scoped>\n",
       "    .dataframe tbody tr th:only-of-type {\n",
       "        vertical-align: middle;\n",
       "    }\n",
       "\n",
       "    .dataframe tbody tr th {\n",
       "        vertical-align: top;\n",
       "    }\n",
       "\n",
       "    .dataframe thead th {\n",
       "        text-align: right;\n",
       "    }\n",
       "</style>\n",
       "<table border=\"1\" class=\"dataframe\">\n",
       "  <thead>\n",
       "    <tr style=\"text-align: right;\">\n",
       "      <th></th>\n",
       "      <th>Brand</th>\n",
       "      <th>post_id</th>\n",
       "      <th>post_text</th>\n",
       "      <th>time</th>\n",
       "      <th>likes</th>\n",
       "      <th>comments</th>\n",
       "      <th>shares</th>\n",
       "      <th>post_url</th>\n",
       "      <th>sentiment_score</th>\n",
       "      <th>sentiment_magnitude</th>\n",
       "    </tr>\n",
       "  </thead>\n",
       "  <tbody>\n",
       "    <tr>\n",
       "      <th>4000</th>\n",
       "      <td>Charles &amp; Keith</td>\n",
       "      <td>1.015687e+16</td>\n",
       "      <td>NaN</td>\n",
       "      <td>2019-04-26 15:42:00</td>\n",
       "      <td>276</td>\n",
       "      <td>6</td>\n",
       "      <td>0</td>\n",
       "      <td>https://facebook.com/charleskeithofficial/post...</td>\n",
       "      <td>0.0</td>\n",
       "      <td>0.0</td>\n",
       "    </tr>\n",
       "    <tr>\n",
       "      <th>4001</th>\n",
       "      <td>Charles &amp; Keith</td>\n",
       "      <td>1.015686e+16</td>\n",
       "      <td>Dressing for the heat? This see-through woven ...</td>\n",
       "      <td>2019-04-25 21:00:02</td>\n",
       "      <td>93</td>\n",
       "      <td>2</td>\n",
       "      <td>0</td>\n",
       "      <td>https://facebook.com/charleskeithofficial/vide...</td>\n",
       "      <td>0.3</td>\n",
       "      <td>1.3</td>\n",
       "    </tr>\n",
       "    <tr>\n",
       "      <th>4002</th>\n",
       "      <td>Charles &amp; Keith</td>\n",
       "      <td>1.015686e+16</td>\n",
       "      <td>The printed bow adds a dash of personality to ...</td>\n",
       "      <td>2019-04-25 18:00:01</td>\n",
       "      <td>125</td>\n",
       "      <td>7</td>\n",
       "      <td>0</td>\n",
       "      <td>https://facebook.com/charleskeithofficial/vide...</td>\n",
       "      <td>0.5</td>\n",
       "      <td>1.1</td>\n",
       "    </tr>\n",
       "    <tr>\n",
       "      <th>4003</th>\n",
       "      <td>Charles &amp; Keith</td>\n",
       "      <td>1.015686e+16</td>\n",
       "      <td>Animal prints are in vogue again – in this col...</td>\n",
       "      <td>2019-04-25 15:00:00</td>\n",
       "      <td>369</td>\n",
       "      <td>3</td>\n",
       "      <td>0</td>\n",
       "      <td>https://facebook.com/charleskeithofficial/post...</td>\n",
       "      <td>0.5</td>\n",
       "      <td>1.1</td>\n",
       "    </tr>\n",
       "    <tr>\n",
       "      <th>4004</th>\n",
       "      <td>Charles &amp; Keith</td>\n",
       "      <td>1.015686e+16</td>\n",
       "      <td>This season, work some raffia into your outfit...</td>\n",
       "      <td>2019-04-23 15:00:00</td>\n",
       "      <td>216</td>\n",
       "      <td>0</td>\n",
       "      <td>0</td>\n",
       "      <td>https://facebook.com/charleskeithofficial/post...</td>\n",
       "      <td>0.6</td>\n",
       "      <td>1.2</td>\n",
       "    </tr>\n",
       "    <tr>\n",
       "      <th>4005</th>\n",
       "      <td>Charles &amp; Keith</td>\n",
       "      <td>1.015685e+16</td>\n",
       "      <td>From a flush of blush to a pop of pink, embrac...</td>\n",
       "      <td>2019-04-22 15:00:00</td>\n",
       "      <td>936</td>\n",
       "      <td>40</td>\n",
       "      <td>0</td>\n",
       "      <td>https://facebook.com/charleskeithofficial/post...</td>\n",
       "      <td>0.7</td>\n",
       "      <td>1.4</td>\n",
       "    </tr>\n",
       "    <tr>\n",
       "      <th>4006</th>\n",
       "      <td>Charles &amp; Keith</td>\n",
       "      <td>1.015686e+16</td>\n",
       "      <td>NaN</td>\n",
       "      <td>2019-04-20 21:00:10</td>\n",
       "      <td>219</td>\n",
       "      <td>5</td>\n",
       "      <td>0</td>\n",
       "      <td>https://facebook.com/charleskeithofficial/post...</td>\n",
       "      <td>0.0</td>\n",
       "      <td>0.0</td>\n",
       "    </tr>\n",
       "    <tr>\n",
       "      <th>4007</th>\n",
       "      <td>Charles &amp; Keith</td>\n",
       "      <td>1.015686e+16</td>\n",
       "      <td>NaN</td>\n",
       "      <td>2019-04-20 15:08:32</td>\n",
       "      <td>370</td>\n",
       "      <td>4</td>\n",
       "      <td>0</td>\n",
       "      <td>https://facebook.com/charleskeithofficial/post...</td>\n",
       "      <td>0.0</td>\n",
       "      <td>0.0</td>\n",
       "    </tr>\n",
       "    <tr>\n",
       "      <th>4008</th>\n",
       "      <td>Charles &amp; Keith</td>\n",
       "      <td>1.015685e+16</td>\n",
       "      <td>NaN</td>\n",
       "      <td>2019-04-19 21:05:04</td>\n",
       "      <td>151</td>\n",
       "      <td>2</td>\n",
       "      <td>0</td>\n",
       "      <td>https://facebook.com/charleskeithofficial/post...</td>\n",
       "      <td>0.0</td>\n",
       "      <td>0.0</td>\n",
       "    </tr>\n",
       "    <tr>\n",
       "      <th>4009</th>\n",
       "      <td>Charles &amp; Keith</td>\n",
       "      <td>1.015685e+16</td>\n",
       "      <td>NaN</td>\n",
       "      <td>2019-04-19 18:05:02</td>\n",
       "      <td>127</td>\n",
       "      <td>0</td>\n",
       "      <td>0</td>\n",
       "      <td>https://facebook.com/charleskeithofficial/post...</td>\n",
       "      <td>0.0</td>\n",
       "      <td>0.0</td>\n",
       "    </tr>\n",
       "  </tbody>\n",
       "</table>\n",
       "</div>"
      ],
      "text/plain": [
       "                Brand       post_id  \\\n",
       "4000  Charles & Keith  1.015687e+16   \n",
       "4001  Charles & Keith  1.015686e+16   \n",
       "4002  Charles & Keith  1.015686e+16   \n",
       "4003  Charles & Keith  1.015686e+16   \n",
       "4004  Charles & Keith  1.015686e+16   \n",
       "4005  Charles & Keith  1.015685e+16   \n",
       "4006  Charles & Keith  1.015686e+16   \n",
       "4007  Charles & Keith  1.015686e+16   \n",
       "4008  Charles & Keith  1.015685e+16   \n",
       "4009  Charles & Keith  1.015685e+16   \n",
       "\n",
       "                                              post_text                 time  \\\n",
       "4000                                                NaN  2019-04-26 15:42:00   \n",
       "4001  Dressing for the heat? This see-through woven ...  2019-04-25 21:00:02   \n",
       "4002  The printed bow adds a dash of personality to ...  2019-04-25 18:00:01   \n",
       "4003  Animal prints are in vogue again – in this col...  2019-04-25 15:00:00   \n",
       "4004  This season, work some raffia into your outfit...  2019-04-23 15:00:00   \n",
       "4005  From a flush of blush to a pop of pink, embrac...  2019-04-22 15:00:00   \n",
       "4006                                                NaN  2019-04-20 21:00:10   \n",
       "4007                                                NaN  2019-04-20 15:08:32   \n",
       "4008                                                NaN  2019-04-19 21:05:04   \n",
       "4009                                                NaN  2019-04-19 18:05:02   \n",
       "\n",
       "      likes  comments  shares  \\\n",
       "4000    276         6       0   \n",
       "4001     93         2       0   \n",
       "4002    125         7       0   \n",
       "4003    369         3       0   \n",
       "4004    216         0       0   \n",
       "4005    936        40       0   \n",
       "4006    219         5       0   \n",
       "4007    370         4       0   \n",
       "4008    151         2       0   \n",
       "4009    127         0       0   \n",
       "\n",
       "                                               post_url  sentiment_score  \\\n",
       "4000  https://facebook.com/charleskeithofficial/post...              0.0   \n",
       "4001  https://facebook.com/charleskeithofficial/vide...              0.3   \n",
       "4002  https://facebook.com/charleskeithofficial/vide...              0.5   \n",
       "4003  https://facebook.com/charleskeithofficial/post...              0.5   \n",
       "4004  https://facebook.com/charleskeithofficial/post...              0.6   \n",
       "4005  https://facebook.com/charleskeithofficial/post...              0.7   \n",
       "4006  https://facebook.com/charleskeithofficial/post...              0.0   \n",
       "4007  https://facebook.com/charleskeithofficial/post...              0.0   \n",
       "4008  https://facebook.com/charleskeithofficial/post...              0.0   \n",
       "4009  https://facebook.com/charleskeithofficial/post...              0.0   \n",
       "\n",
       "      sentiment_magnitude  \n",
       "4000                  0.0  \n",
       "4001                  1.3  \n",
       "4002                  1.1  \n",
       "4003                  1.1  \n",
       "4004                  1.2  \n",
       "4005                  1.4  \n",
       "4006                  0.0  \n",
       "4007                  0.0  \n",
       "4008                  0.0  \n",
       "4009                  0.0  "
      ]
     },
     "execution_count": 4,
     "metadata": {},
     "output_type": "execute_result"
    }
   ],
   "source": [
    "Df.tail(10)"
   ]
  },
  {
   "cell_type": "markdown",
   "id": "8036bf79",
   "metadata": {},
   "source": [
    "## See the no of rows and columns of dataset"
   ]
  },
  {
   "cell_type": "code",
   "execution_count": 5,
   "id": "417e9482",
   "metadata": {},
   "outputs": [
    {
     "data": {
      "text/plain": [
       "(4010, 10)"
      ]
     },
     "execution_count": 5,
     "metadata": {},
     "output_type": "execute_result"
    }
   ],
   "source": [
    "Df.shape"
   ]
  },
  {
   "cell_type": "markdown",
   "id": "7308db4b",
   "metadata": {},
   "source": [
    "## See the count of shares"
   ]
  },
  {
   "cell_type": "code",
   "execution_count": 6,
   "id": "e8230dac",
   "metadata": {},
   "outputs": [
    {
     "data": {
      "text/plain": [
       "0     3948\n",
       "2       26\n",
       "3       19\n",
       "4        7\n",
       "5        4\n",
       "6        2\n",
       "8        1\n",
       "10       1\n",
       "11       1\n",
       "23       1\n",
       "Name: shares, dtype: int64"
      ]
     },
     "execution_count": 6,
     "metadata": {},
     "output_type": "execute_result"
    }
   ],
   "source": [
    "Df['shares'].value_counts()"
   ]
  },
  {
   "cell_type": "markdown",
   "id": "40e8c50c",
   "metadata": {},
   "source": [
    "## See tha statistics of Df using describe function"
   ]
  },
  {
   "cell_type": "code",
   "execution_count": 7,
   "id": "294a641e",
   "metadata": {},
   "outputs": [
    {
     "data": {
      "text/html": [
       "<div>\n",
       "<style scoped>\n",
       "    .dataframe tbody tr th:only-of-type {\n",
       "        vertical-align: middle;\n",
       "    }\n",
       "\n",
       "    .dataframe tbody tr th {\n",
       "        vertical-align: top;\n",
       "    }\n",
       "\n",
       "    .dataframe thead th {\n",
       "        text-align: right;\n",
       "    }\n",
       "</style>\n",
       "<table border=\"1\" class=\"dataframe\">\n",
       "  <thead>\n",
       "    <tr style=\"text-align: right;\">\n",
       "      <th></th>\n",
       "      <th>Brand</th>\n",
       "      <th>post_id</th>\n",
       "      <th>post_text</th>\n",
       "      <th>time</th>\n",
       "      <th>likes</th>\n",
       "      <th>comments</th>\n",
       "      <th>shares</th>\n",
       "      <th>post_url</th>\n",
       "      <th>sentiment_score</th>\n",
       "      <th>sentiment_magnitude</th>\n",
       "    </tr>\n",
       "  </thead>\n",
       "  <tbody>\n",
       "    <tr>\n",
       "      <th>count</th>\n",
       "      <td>4010</td>\n",
       "      <td>4.009000e+03</td>\n",
       "      <td>2594</td>\n",
       "      <td>4010</td>\n",
       "      <td>4010.000000</td>\n",
       "      <td>4010.000000</td>\n",
       "      <td>4010.000000</td>\n",
       "      <td>4009</td>\n",
       "      <td>2479.000000</td>\n",
       "      <td>2479.000000</td>\n",
       "    </tr>\n",
       "    <tr>\n",
       "      <th>unique</th>\n",
       "      <td>4</td>\n",
       "      <td>NaN</td>\n",
       "      <td>2338</td>\n",
       "      <td>3994</td>\n",
       "      <td>NaN</td>\n",
       "      <td>NaN</td>\n",
       "      <td>NaN</td>\n",
       "      <td>4008</td>\n",
       "      <td>NaN</td>\n",
       "      <td>NaN</td>\n",
       "    </tr>\n",
       "    <tr>\n",
       "      <th>top</th>\n",
       "      <td>Charles &amp; Keith</td>\n",
       "      <td>NaN</td>\n",
       "      <td>Preppy style is having a major moment this sea...</td>\n",
       "      <td>2021-03-23 12:00:01</td>\n",
       "      <td>NaN</td>\n",
       "      <td>NaN</td>\n",
       "      <td>NaN</td>\n",
       "      <td>https://facebook.com/DMKShoes/posts/6915754609...</td>\n",
       "      <td>NaN</td>\n",
       "      <td>NaN</td>\n",
       "    </tr>\n",
       "    <tr>\n",
       "      <th>freq</th>\n",
       "      <td>1500</td>\n",
       "      <td>NaN</td>\n",
       "      <td>9</td>\n",
       "      <td>7</td>\n",
       "      <td>NaN</td>\n",
       "      <td>NaN</td>\n",
       "      <td>NaN</td>\n",
       "      <td>2</td>\n",
       "      <td>NaN</td>\n",
       "      <td>NaN</td>\n",
       "    </tr>\n",
       "    <tr>\n",
       "      <th>mean</th>\n",
       "      <td>NaN</td>\n",
       "      <td>5.250477e+15</td>\n",
       "      <td>NaN</td>\n",
       "      <td>NaN</td>\n",
       "      <td>344.990773</td>\n",
       "      <td>2.874314</td>\n",
       "      <td>0.055112</td>\n",
       "      <td>NaN</td>\n",
       "      <td>0.217547</td>\n",
       "      <td>0.650948</td>\n",
       "    </tr>\n",
       "    <tr>\n",
       "      <th>std</th>\n",
       "      <td>NaN</td>\n",
       "      <td>3.858130e+15</td>\n",
       "      <td>NaN</td>\n",
       "      <td>NaN</td>\n",
       "      <td>794.390282</td>\n",
       "      <td>9.567482</td>\n",
       "      <td>0.582616</td>\n",
       "      <td>NaN</td>\n",
       "      <td>0.244278</td>\n",
       "      <td>0.752916</td>\n",
       "    </tr>\n",
       "    <tr>\n",
       "      <th>min</th>\n",
       "      <td>NaN</td>\n",
       "      <td>1.562596e+14</td>\n",
       "      <td>NaN</td>\n",
       "      <td>NaN</td>\n",
       "      <td>0.000000</td>\n",
       "      <td>0.000000</td>\n",
       "      <td>0.000000</td>\n",
       "      <td>NaN</td>\n",
       "      <td>-0.400000</td>\n",
       "      <td>0.000000</td>\n",
       "    </tr>\n",
       "    <tr>\n",
       "      <th>25%</th>\n",
       "      <td>NaN</td>\n",
       "      <td>2.023038e+15</td>\n",
       "      <td>NaN</td>\n",
       "      <td>NaN</td>\n",
       "      <td>7.000000</td>\n",
       "      <td>0.000000</td>\n",
       "      <td>0.000000</td>\n",
       "      <td>NaN</td>\n",
       "      <td>0.000000</td>\n",
       "      <td>0.000000</td>\n",
       "    </tr>\n",
       "    <tr>\n",
       "      <th>50%</th>\n",
       "      <td>NaN</td>\n",
       "      <td>2.925365e+15</td>\n",
       "      <td>NaN</td>\n",
       "      <td>NaN</td>\n",
       "      <td>146.000000</td>\n",
       "      <td>0.000000</td>\n",
       "      <td>0.000000</td>\n",
       "      <td>NaN</td>\n",
       "      <td>0.100000</td>\n",
       "      <td>0.500000</td>\n",
       "    </tr>\n",
       "    <tr>\n",
       "      <th>75%</th>\n",
       "      <td>NaN</td>\n",
       "      <td>1.015744e+16</td>\n",
       "      <td>NaN</td>\n",
       "      <td>NaN</td>\n",
       "      <td>385.000000</td>\n",
       "      <td>2.000000</td>\n",
       "      <td>0.000000</td>\n",
       "      <td>NaN</td>\n",
       "      <td>0.400000</td>\n",
       "      <td>1.100000</td>\n",
       "    </tr>\n",
       "    <tr>\n",
       "      <th>max</th>\n",
       "      <td>NaN</td>\n",
       "      <td>1.015895e+16</td>\n",
       "      <td>NaN</td>\n",
       "      <td>NaN</td>\n",
       "      <td>22171.000000</td>\n",
       "      <td>317.000000</td>\n",
       "      <td>23.000000</td>\n",
       "      <td>NaN</td>\n",
       "      <td>0.900000</td>\n",
       "      <td>7.600000</td>\n",
       "    </tr>\n",
       "  </tbody>\n",
       "</table>\n",
       "</div>"
      ],
      "text/plain": [
       "                  Brand       post_id  \\\n",
       "count              4010  4.009000e+03   \n",
       "unique                4           NaN   \n",
       "top     Charles & Keith           NaN   \n",
       "freq               1500           NaN   \n",
       "mean                NaN  5.250477e+15   \n",
       "std                 NaN  3.858130e+15   \n",
       "min                 NaN  1.562596e+14   \n",
       "25%                 NaN  2.023038e+15   \n",
       "50%                 NaN  2.925365e+15   \n",
       "75%                 NaN  1.015744e+16   \n",
       "max                 NaN  1.015895e+16   \n",
       "\n",
       "                                                post_text  \\\n",
       "count                                                2594   \n",
       "unique                                               2338   \n",
       "top     Preppy style is having a major moment this sea...   \n",
       "freq                                                    9   \n",
       "mean                                                  NaN   \n",
       "std                                                   NaN   \n",
       "min                                                   NaN   \n",
       "25%                                                   NaN   \n",
       "50%                                                   NaN   \n",
       "75%                                                   NaN   \n",
       "max                                                   NaN   \n",
       "\n",
       "                       time         likes     comments       shares  \\\n",
       "count                  4010   4010.000000  4010.000000  4010.000000   \n",
       "unique                 3994           NaN          NaN          NaN   \n",
       "top     2021-03-23 12:00:01           NaN          NaN          NaN   \n",
       "freq                      7           NaN          NaN          NaN   \n",
       "mean                    NaN    344.990773     2.874314     0.055112   \n",
       "std                     NaN    794.390282     9.567482     0.582616   \n",
       "min                     NaN      0.000000     0.000000     0.000000   \n",
       "25%                     NaN      7.000000     0.000000     0.000000   \n",
       "50%                     NaN    146.000000     0.000000     0.000000   \n",
       "75%                     NaN    385.000000     2.000000     0.000000   \n",
       "max                     NaN  22171.000000   317.000000    23.000000   \n",
       "\n",
       "                                                 post_url  sentiment_score  \\\n",
       "count                                                4009      2479.000000   \n",
       "unique                                               4008              NaN   \n",
       "top     https://facebook.com/DMKShoes/posts/6915754609...              NaN   \n",
       "freq                                                    2              NaN   \n",
       "mean                                                  NaN         0.217547   \n",
       "std                                                   NaN         0.244278   \n",
       "min                                                   NaN        -0.400000   \n",
       "25%                                                   NaN         0.000000   \n",
       "50%                                                   NaN         0.100000   \n",
       "75%                                                   NaN         0.400000   \n",
       "max                                                   NaN         0.900000   \n",
       "\n",
       "        sentiment_magnitude  \n",
       "count           2479.000000  \n",
       "unique                  NaN  \n",
       "top                     NaN  \n",
       "freq                    NaN  \n",
       "mean               0.650948  \n",
       "std                0.752916  \n",
       "min                0.000000  \n",
       "25%                0.000000  \n",
       "50%                0.500000  \n",
       "75%                1.100000  \n",
       "max                7.600000  "
      ]
     },
     "execution_count": 7,
     "metadata": {},
     "output_type": "execute_result"
    }
   ],
   "source": [
    "Df.describe(include=\"all\")"
   ]
  },
  {
   "cell_type": "code",
   "execution_count": 8,
   "id": "11c1273e",
   "metadata": {},
   "outputs": [
    {
     "data": {
      "text/plain": [
       "Brand                     0\n",
       "post_id                   1\n",
       "post_text              1416\n",
       "time                      0\n",
       "likes                     0\n",
       "comments                  0\n",
       "shares                    0\n",
       "post_url                  1\n",
       "sentiment_score        1531\n",
       "sentiment_magnitude    1531\n",
       "dtype: int64"
      ]
     },
     "execution_count": 8,
     "metadata": {},
     "output_type": "execute_result"
    }
   ],
   "source": [
    "Df.isna().sum()"
   ]
  },
  {
   "cell_type": "code",
   "execution_count": 9,
   "id": "e604fceb",
   "metadata": {},
   "outputs": [
    {
     "data": {
      "text/plain": [
       "Index(['Brand', 'post_id', 'post_text', 'time', 'likes', 'comments', 'shares',\n",
       "       'post_url', 'sentiment_score', 'sentiment_magnitude'],\n",
       "      dtype='object')"
      ]
     },
     "execution_count": 9,
     "metadata": {},
     "output_type": "execute_result"
    }
   ],
   "source": [
    "Df.columns"
   ]
  },
  {
   "cell_type": "code",
   "execution_count": 10,
   "id": "9531830f",
   "metadata": {},
   "outputs": [
    {
     "data": {
      "text/html": [
       "<div>\n",
       "<style scoped>\n",
       "    .dataframe tbody tr th:only-of-type {\n",
       "        vertical-align: middle;\n",
       "    }\n",
       "\n",
       "    .dataframe tbody tr th {\n",
       "        vertical-align: top;\n",
       "    }\n",
       "\n",
       "    .dataframe thead th {\n",
       "        text-align: right;\n",
       "    }\n",
       "</style>\n",
       "<table border=\"1\" class=\"dataframe\">\n",
       "  <thead>\n",
       "    <tr style=\"text-align: right;\">\n",
       "      <th></th>\n",
       "      <th>post_text</th>\n",
       "      <th>likes</th>\n",
       "    </tr>\n",
       "  </thead>\n",
       "  <tbody>\n",
       "    <tr>\n",
       "      <th>0</th>\n",
       "      <td>Start on the right foot for your first impress...</td>\n",
       "      <td>177</td>\n",
       "    </tr>\n",
       "    <tr>\n",
       "      <th>1</th>\n",
       "      <td>Getting that crop top + wide trousers combo ri...</td>\n",
       "      <td>216</td>\n",
       "    </tr>\n",
       "    <tr>\n",
       "      <th>2</th>\n",
       "      <td>Sweet dreams are made of these - Bubble Dream ...</td>\n",
       "      <td>385</td>\n",
       "    </tr>\n",
       "    <tr>\n",
       "      <th>3</th>\n",
       "      <td>@annavanticalopez: \"Disney’s CEO, Bob Iger, is...</td>\n",
       "      <td>214</td>\n",
       "    </tr>\n",
       "    <tr>\n",
       "      <th>4</th>\n",
       "      <td>@annavanticalopez: \"When I first started model...</td>\n",
       "      <td>118</td>\n",
       "    </tr>\n",
       "    <tr>\n",
       "      <th>...</th>\n",
       "      <td>...</td>\n",
       "      <td>...</td>\n",
       "    </tr>\n",
       "    <tr>\n",
       "      <th>4005</th>\n",
       "      <td>From a flush of blush to a pop of pink, embrac...</td>\n",
       "      <td>936</td>\n",
       "    </tr>\n",
       "    <tr>\n",
       "      <th>4006</th>\n",
       "      <td>NaN</td>\n",
       "      <td>219</td>\n",
       "    </tr>\n",
       "    <tr>\n",
       "      <th>4007</th>\n",
       "      <td>NaN</td>\n",
       "      <td>370</td>\n",
       "    </tr>\n",
       "    <tr>\n",
       "      <th>4008</th>\n",
       "      <td>NaN</td>\n",
       "      <td>151</td>\n",
       "    </tr>\n",
       "    <tr>\n",
       "      <th>4009</th>\n",
       "      <td>NaN</td>\n",
       "      <td>127</td>\n",
       "    </tr>\n",
       "  </tbody>\n",
       "</table>\n",
       "<p>4010 rows × 2 columns</p>\n",
       "</div>"
      ],
      "text/plain": [
       "                                              post_text  likes\n",
       "0     Start on the right foot for your first impress...    177\n",
       "1     Getting that crop top + wide trousers combo ri...    216\n",
       "2     Sweet dreams are made of these - Bubble Dream ...    385\n",
       "3     @annavanticalopez: \"Disney’s CEO, Bob Iger, is...    214\n",
       "4     @annavanticalopez: \"When I first started model...    118\n",
       "...                                                 ...    ...\n",
       "4005  From a flush of blush to a pop of pink, embrac...    936\n",
       "4006                                                NaN    219\n",
       "4007                                                NaN    370\n",
       "4008                                                NaN    151\n",
       "4009                                                NaN    127\n",
       "\n",
       "[4010 rows x 2 columns]"
      ]
     },
     "execution_count": 10,
     "metadata": {},
     "output_type": "execute_result"
    }
   ],
   "source": [
    "Df.drop(['Brand', 'post_id', 'time', 'post_url', 'sentiment_score', 'sentiment_magnitude', \"shares\", \"comments\"], axis=1, inplace=True)\n",
    "df=Df\n",
    "df"
   ]
  },
  {
   "cell_type": "code",
   "execution_count": 11,
   "id": "a7cca444",
   "metadata": {},
   "outputs": [
    {
     "data": {
      "text/html": [
       "<div>\n",
       "<style scoped>\n",
       "    .dataframe tbody tr th:only-of-type {\n",
       "        vertical-align: middle;\n",
       "    }\n",
       "\n",
       "    .dataframe tbody tr th {\n",
       "        vertical-align: top;\n",
       "    }\n",
       "\n",
       "    .dataframe thead th {\n",
       "        text-align: right;\n",
       "    }\n",
       "</style>\n",
       "<table border=\"1\" class=\"dataframe\">\n",
       "  <thead>\n",
       "    <tr style=\"text-align: right;\">\n",
       "      <th></th>\n",
       "      <th>post_text</th>\n",
       "      <th>likes</th>\n",
       "    </tr>\n",
       "  </thead>\n",
       "  <tbody>\n",
       "    <tr>\n",
       "      <th>0</th>\n",
       "      <td>Start on the right foot for your first impress...</td>\n",
       "      <td>177</td>\n",
       "    </tr>\n",
       "    <tr>\n",
       "      <th>1</th>\n",
       "      <td>Getting that crop top + wide trousers combo ri...</td>\n",
       "      <td>216</td>\n",
       "    </tr>\n",
       "    <tr>\n",
       "      <th>2</th>\n",
       "      <td>Sweet dreams are made of these - Bubble Dream ...</td>\n",
       "      <td>385</td>\n",
       "    </tr>\n",
       "    <tr>\n",
       "      <th>3</th>\n",
       "      <td>@annavanticalopez: \"Disney’s CEO, Bob Iger, is...</td>\n",
       "      <td>214</td>\n",
       "    </tr>\n",
       "    <tr>\n",
       "      <th>4</th>\n",
       "      <td>@annavanticalopez: \"When I first started model...</td>\n",
       "      <td>118</td>\n",
       "    </tr>\n",
       "    <tr>\n",
       "      <th>...</th>\n",
       "      <td>...</td>\n",
       "      <td>...</td>\n",
       "    </tr>\n",
       "    <tr>\n",
       "      <th>4005</th>\n",
       "      <td>From a flush of blush to a pop of pink, embrac...</td>\n",
       "      <td>936</td>\n",
       "    </tr>\n",
       "    <tr>\n",
       "      <th>4006</th>\n",
       "      <td>NaN</td>\n",
       "      <td>219</td>\n",
       "    </tr>\n",
       "    <tr>\n",
       "      <th>4007</th>\n",
       "      <td>NaN</td>\n",
       "      <td>370</td>\n",
       "    </tr>\n",
       "    <tr>\n",
       "      <th>4008</th>\n",
       "      <td>NaN</td>\n",
       "      <td>151</td>\n",
       "    </tr>\n",
       "    <tr>\n",
       "      <th>4009</th>\n",
       "      <td>NaN</td>\n",
       "      <td>127</td>\n",
       "    </tr>\n",
       "  </tbody>\n",
       "</table>\n",
       "<p>4010 rows × 2 columns</p>\n",
       "</div>"
      ],
      "text/plain": [
       "                                              post_text  likes\n",
       "0     Start on the right foot for your first impress...    177\n",
       "1     Getting that crop top + wide trousers combo ri...    216\n",
       "2     Sweet dreams are made of these - Bubble Dream ...    385\n",
       "3     @annavanticalopez: \"Disney’s CEO, Bob Iger, is...    214\n",
       "4     @annavanticalopez: \"When I first started model...    118\n",
       "...                                                 ...    ...\n",
       "4005  From a flush of blush to a pop of pink, embrac...    936\n",
       "4006                                                NaN    219\n",
       "4007                                                NaN    370\n",
       "4008                                                NaN    151\n",
       "4009                                                NaN    127\n",
       "\n",
       "[4010 rows x 2 columns]"
      ]
     },
     "execution_count": 11,
     "metadata": {},
     "output_type": "execute_result"
    }
   ],
   "source": [
    "Df=df\n",
    "df"
   ]
  },
  {
   "cell_type": "code",
   "execution_count": 12,
   "id": "72528979",
   "metadata": {},
   "outputs": [
    {
     "data": {
      "text/plain": [
       "post_text    1416\n",
       "likes           0\n",
       "dtype: int64"
      ]
     },
     "execution_count": 12,
     "metadata": {},
     "output_type": "execute_result"
    }
   ],
   "source": [
    "df.isna().sum()"
   ]
  },
  {
   "cell_type": "code",
   "execution_count": 13,
   "id": "1162c59c",
   "metadata": {},
   "outputs": [],
   "source": [
    "df['post_text']=df['post_text'].fillna('None')"
   ]
  },
  {
   "cell_type": "code",
   "execution_count": 14,
   "id": "7a21d49a",
   "metadata": {},
   "outputs": [
    {
     "data": {
      "text/html": [
       "<div>\n",
       "<style scoped>\n",
       "    .dataframe tbody tr th:only-of-type {\n",
       "        vertical-align: middle;\n",
       "    }\n",
       "\n",
       "    .dataframe tbody tr th {\n",
       "        vertical-align: top;\n",
       "    }\n",
       "\n",
       "    .dataframe thead th {\n",
       "        text-align: right;\n",
       "    }\n",
       "</style>\n",
       "<table border=\"1\" class=\"dataframe\">\n",
       "  <thead>\n",
       "    <tr style=\"text-align: right;\">\n",
       "      <th></th>\n",
       "      <th>post_text</th>\n",
       "      <th>likes</th>\n",
       "    </tr>\n",
       "  </thead>\n",
       "  <tbody>\n",
       "    <tr>\n",
       "      <th>0</th>\n",
       "      <td>Start on the right foot for your first impress...</td>\n",
       "      <td>177</td>\n",
       "    </tr>\n",
       "    <tr>\n",
       "      <th>1</th>\n",
       "      <td>Getting that crop top + wide trousers combo ri...</td>\n",
       "      <td>216</td>\n",
       "    </tr>\n",
       "    <tr>\n",
       "      <th>2</th>\n",
       "      <td>Sweet dreams are made of these - Bubble Dream ...</td>\n",
       "      <td>385</td>\n",
       "    </tr>\n",
       "    <tr>\n",
       "      <th>3</th>\n",
       "      <td>@annavanticalopez: \"Disney’s CEO, Bob Iger, is...</td>\n",
       "      <td>214</td>\n",
       "    </tr>\n",
       "    <tr>\n",
       "      <th>4</th>\n",
       "      <td>@annavanticalopez: \"When I first started model...</td>\n",
       "      <td>118</td>\n",
       "    </tr>\n",
       "    <tr>\n",
       "      <th>...</th>\n",
       "      <td>...</td>\n",
       "      <td>...</td>\n",
       "    </tr>\n",
       "    <tr>\n",
       "      <th>4005</th>\n",
       "      <td>From a flush of blush to a pop of pink, embrac...</td>\n",
       "      <td>936</td>\n",
       "    </tr>\n",
       "    <tr>\n",
       "      <th>4006</th>\n",
       "      <td>None</td>\n",
       "      <td>219</td>\n",
       "    </tr>\n",
       "    <tr>\n",
       "      <th>4007</th>\n",
       "      <td>None</td>\n",
       "      <td>370</td>\n",
       "    </tr>\n",
       "    <tr>\n",
       "      <th>4008</th>\n",
       "      <td>None</td>\n",
       "      <td>151</td>\n",
       "    </tr>\n",
       "    <tr>\n",
       "      <th>4009</th>\n",
       "      <td>None</td>\n",
       "      <td>127</td>\n",
       "    </tr>\n",
       "  </tbody>\n",
       "</table>\n",
       "<p>4010 rows × 2 columns</p>\n",
       "</div>"
      ],
      "text/plain": [
       "                                              post_text  likes\n",
       "0     Start on the right foot for your first impress...    177\n",
       "1     Getting that crop top + wide trousers combo ri...    216\n",
       "2     Sweet dreams are made of these - Bubble Dream ...    385\n",
       "3     @annavanticalopez: \"Disney’s CEO, Bob Iger, is...    214\n",
       "4     @annavanticalopez: \"When I first started model...    118\n",
       "...                                                 ...    ...\n",
       "4005  From a flush of blush to a pop of pink, embrac...    936\n",
       "4006                                               None    219\n",
       "4007                                               None    370\n",
       "4008                                               None    151\n",
       "4009                                               None    127\n",
       "\n",
       "[4010 rows x 2 columns]"
      ]
     },
     "execution_count": 14,
     "metadata": {},
     "output_type": "execute_result"
    }
   ],
   "source": [
    "df"
   ]
  },
  {
   "cell_type": "markdown",
   "id": "fa6c2843",
   "metadata": {},
   "source": [
    "## Find the gretest likes on our posts "
   ]
  },
  {
   "cell_type": "code",
   "execution_count": 15,
   "id": "ca3efe30",
   "metadata": {},
   "outputs": [
    {
     "name": "stdout",
     "output_type": "stream",
     "text": [
      "                                              post_text  likes\n",
      "3882                                               None  22171\n",
      "3633  Be right back, adding this to our TGIF wish li...  14585\n",
      "3674                                               None  10087\n",
      "3889                                               None   9140\n",
      "3791                                               None   8793\n",
      "3585  We're bringing basics back...\\n \\n Get the bag...   8511\n",
      "3756                                               None   7978\n",
      "3741  Get acquainted with the print of the season: s...   7900\n",
      "3648                                               None   7759\n",
      "3703                                               None   7394\n",
      "3872                                               None   6917\n",
      "3815  Featuring our latest muses Hailey Baldwin and ...   6719\n",
      "941                                                None   6435\n",
      "3754                                               None   6113\n",
      "945                                                None   6001\n",
      "3840  The search is over: we've found your new go-to...   5843\n",
      "2597  ក្នុងឳកាសទិវាសិទ្ធិនារីអន្តរជាតិនេះ លោកអ្នកនឹង...   5573\n",
      "2528  ម៉ូដប្លែកលេចធ្លោ ទាក់ទាញ និងងាយស្រួលក្នុងការពា...   5373\n",
      "3845  Our refreshing take on the half moon silhouett...   5208\n",
      "3862                                               None   5100\n"
     ]
    }
   ],
   "source": [
    "df1=df.nlargest(20, ['likes'])\n",
    "print(df1)"
   ]
  },
  {
   "cell_type": "markdown",
   "id": "8d36e408",
   "metadata": {},
   "source": [
    "## Show posts on barplot"
   ]
  },
  {
   "cell_type": "code",
   "execution_count": 16,
   "id": "c9723f10",
   "metadata": {},
   "outputs": [
    {
     "data": {
      "text/plain": [
       "(array([0, 1, 2, 3, 4, 5, 6, 7, 8]),\n",
       " [Text(0, 0, 'None'),\n",
       "  Text(1, 0, 'Be right back, adding this to our TGIF wish list.\\n \\n Get the wedges: http://bit.ly/338aAdd'),\n",
       "  Text(2, 0, \"We're bringing basics back...\\n \\n Get the bags: http://bit.ly/2pchWy4\"),\n",
       "  Text(3, 0, 'Get acquainted with the print of the season: snake.\\n \\n Get the bag: http://bit.ly/2ZlHxVd'),\n",
       "  Text(4, 0, 'Featuring our latest muses Hailey Baldwin and Xiao Wen Ju, the CHARLES & KEITH Fall/Winter 2019 campaign is a celebration of modern women and their individuality.\\n \\n #CHARLESKEITHFW19'),\n",
       "  Text(5, 0, \"The search is over: we've found your new go-to pumps. Simple, yet stylish they pretty much go with everything.\\n \\n Get these flats: http://bit.ly/2JwJLIN\"),\n",
       "  Text(6, 0, 'ក្នុងឳកាសទិវាសិទ្ធិនារីអន្តរជាតិនេះ លោកអ្នកនឹងទទួលបានទៀនក្រអូបមួយឈុតរាល់ការចំណាយចាប់ពី ៩៩ ដុល្លារ នៅសាខាមហាវិថីព្រះសីហនុ ផ្សារទំនើបអ៊ីអនម៉លភ្នំពេញនិង សែនសុខ។ លក្ខខ័ណ្ឌផ្សេងៗត្រូវបានអនុវត្ត។\\n \\n This International Women’s Day receive a complimentary set of scented candles with a minimum spend of USD99* at Sihanouk Blvd, Aeon Phnom Mall Penh & Sen Sok stores. *T&Cs apply.\\n \\n Find your nearest store: https://bit.ly/3a3Z5d6\\n \\n #CharlesKeith_KH'),\n",
       "  Text(7, 0, 'ម៉ូដប្លែកលេចធ្លោ ទាក់ទាញ និងងាយស្រួលក្នុងការពាក់ជាមួយសម្លៀកបំពាក់គ្រប់ប្រភេទរបស់អ្នក។\\n ស្វែងរកទំនិញនិទាឃរដូវទើបមកដល់ថ្មីឥឡូវនេះ។\\n \\n Edgy, glamorous, and easy to match with anything you own in your closet. Check out Spring new arrivals at your nearest store now: https://bit.ly/3l5LFRL\\n \\n #CharlesKeith_KH'),\n",
       "  Text(8, 0, 'Our refreshing take on the half moon silhouette comes with a fun element: Tassels.\\n \\n Get the pouch: http://bit.ly/2XIJXbU')])"
      ]
     },
     "execution_count": 16,
     "metadata": {},
     "output_type": "execute_result"
    },
    {
     "data": {
      "image/png": "[encoded data removed]",
      "text/plain": [
       "<Figure size 432x288 with 1 Axes>"
      ]
     },
     "metadata": {
      "needs_background": "light"
     },
     "output_type": "display_data"
    }
   ],
   "source": [
    "sns.barplot(x=df1['post_text'], y=df1['likes'])\n",
    "plt.title(\"Bar plot for positive likes\")\n",
    "plt.xticks(rotation=90)"
   ]
  },
  {
   "cell_type": "markdown",
   "id": "bf11ee46",
   "metadata": {},
   "source": [
    "## Find the smallest likes on our posts "
   ]
  },
  {
   "cell_type": "code",
   "execution_count": 17,
   "id": "462a34fa",
   "metadata": {},
   "outputs": [
    {
     "name": "stdout",
     "output_type": "stream",
     "text": [
      "                                              post_text  likes\n",
      "848   GET YOUR SLIDE ON: Slip right into effortless ...      0\n",
      "984                                                None      0\n",
      "993                                                None      0\n",
      "994                                                None      0\n",
      "995                                                None      0\n",
      "1006                                               None      0\n",
      "1007                                               None      0\n",
      "1008                                               None      0\n",
      "1010                                               None      0\n",
      "1012                                               None      0\n",
      "1013                                               None      0\n",
      "1018                                               None      0\n",
      "1019                                               None      0\n",
      "1020                                               None      0\n",
      "1023                                               None      0\n",
      "1025                                               None      0\n",
      "1026                                               None      0\n",
      "1031                                               None      0\n",
      "1032                                               None      0\n",
      "1033                                               None      0\n"
     ]
    }
   ],
   "source": [
    "df2=df.nsmallest(20, ['likes'])\n",
    "print(df2)"
   ]
  },
  {
   "cell_type": "markdown",
   "id": "a3e1d8a2",
   "metadata": {},
   "source": [
    "## Show smallest likes on barplot"
   ]
  },
  {
   "cell_type": "code",
   "execution_count": 18,
   "id": "7793c308",
   "metadata": {},
   "outputs": [
    {
     "data": {
      "text/plain": [
       "Text(0.5, 1.0, 'Negative likes on page')"
      ]
     },
     "execution_count": 18,
     "metadata": {},
     "output_type": "execute_result"
    },
    {
     "data": {
      "image/png": "[encoded data removed]",
      "text/plain": [
       "<Figure size 432x288 with 1 Axes>"
      ]
     },
     "metadata": {
      "needs_background": "light"
     },
     "output_type": "display_data"
    }
   ],
   "source": [
    "sns.barplot(x=df2['post_text'], y=df2['likes'])\n",
    "plt.xticks(rotation=90)\n",
    "plt.title(\"Negative likes on page\")"
   ]
  },
  {
   "cell_type": "code",
   "execution_count": 19,
   "id": "17ead302",
   "metadata": {},
   "outputs": [
    {
     "data": {
      "text/html": [
       "<div>\n",
       "<style scoped>\n",
       "    .dataframe tbody tr th:only-of-type {\n",
       "        vertical-align: middle;\n",
       "    }\n",
       "\n",
       "    .dataframe tbody tr th {\n",
       "        vertical-align: top;\n",
       "    }\n",
       "\n",
       "    .dataframe thead th {\n",
       "        text-align: right;\n",
       "    }\n",
       "</style>\n",
       "<table border=\"1\" class=\"dataframe\">\n",
       "  <thead>\n",
       "    <tr style=\"text-align: right;\">\n",
       "      <th></th>\n",
       "      <th>post_text</th>\n",
       "      <th>likes</th>\n",
       "    </tr>\n",
       "  </thead>\n",
       "  <tbody>\n",
       "    <tr>\n",
       "      <th>0</th>\n",
       "      <td>Start on the right foot for your first impress...</td>\n",
       "      <td>177</td>\n",
       "    </tr>\n",
       "    <tr>\n",
       "      <th>1</th>\n",
       "      <td>Getting that crop top + wide trousers combo ri...</td>\n",
       "      <td>216</td>\n",
       "    </tr>\n",
       "    <tr>\n",
       "      <th>2</th>\n",
       "      <td>Sweet dreams are made of these - Bubble Dream ...</td>\n",
       "      <td>385</td>\n",
       "    </tr>\n",
       "    <tr>\n",
       "      <th>3</th>\n",
       "      <td>@annavanticalopez: \"Disney’s CEO, Bob Iger, is...</td>\n",
       "      <td>214</td>\n",
       "    </tr>\n",
       "    <tr>\n",
       "      <th>4</th>\n",
       "      <td>@annavanticalopez: \"When I first started model...</td>\n",
       "      <td>118</td>\n",
       "    </tr>\n",
       "    <tr>\n",
       "      <th>...</th>\n",
       "      <td>...</td>\n",
       "      <td>...</td>\n",
       "    </tr>\n",
       "    <tr>\n",
       "      <th>4005</th>\n",
       "      <td>From a flush of blush to a pop of pink, embrac...</td>\n",
       "      <td>936</td>\n",
       "    </tr>\n",
       "    <tr>\n",
       "      <th>4006</th>\n",
       "      <td>None</td>\n",
       "      <td>219</td>\n",
       "    </tr>\n",
       "    <tr>\n",
       "      <th>4007</th>\n",
       "      <td>None</td>\n",
       "      <td>370</td>\n",
       "    </tr>\n",
       "    <tr>\n",
       "      <th>4008</th>\n",
       "      <td>None</td>\n",
       "      <td>151</td>\n",
       "    </tr>\n",
       "    <tr>\n",
       "      <th>4009</th>\n",
       "      <td>None</td>\n",
       "      <td>127</td>\n",
       "    </tr>\n",
       "  </tbody>\n",
       "</table>\n",
       "<p>4010 rows × 2 columns</p>\n",
       "</div>"
      ],
      "text/plain": [
       "                                              post_text  likes\n",
       "0     Start on the right foot for your first impress...    177\n",
       "1     Getting that crop top + wide trousers combo ri...    216\n",
       "2     Sweet dreams are made of these - Bubble Dream ...    385\n",
       "3     @annavanticalopez: \"Disney’s CEO, Bob Iger, is...    214\n",
       "4     @annavanticalopez: \"When I first started model...    118\n",
       "...                                                 ...    ...\n",
       "4005  From a flush of blush to a pop of pink, embrac...    936\n",
       "4006                                               None    219\n",
       "4007                                               None    370\n",
       "4008                                               None    151\n",
       "4009                                               None    127\n",
       "\n",
       "[4010 rows x 2 columns]"
      ]
     },
     "execution_count": 19,
     "metadata": {},
     "output_type": "execute_result"
    }
   ],
   "source": [
    "df"
   ]
  },
  {
   "cell_type": "markdown",
   "id": "4c343301",
   "metadata": {},
   "source": [
    "## Drop likes column"
   ]
  },
  {
   "cell_type": "code",
   "execution_count": 20,
   "id": "11dafe7a",
   "metadata": {},
   "outputs": [],
   "source": [
    "df.drop(['likes'], axis=1, inplace=True)"
   ]
  },
  {
   "cell_type": "markdown",
   "id": "145a409d",
   "metadata": {},
   "source": [
    "## Use sentiment analysis for finding the neg and pos labels for post_text column\n",
    "\n",
    "## And use vader sentiment analysis"
   ]
  },
  {
   "cell_type": "code",
   "execution_count": 45,
   "id": "1af9bd82",
   "metadata": {},
   "outputs": [
    {
     "name": "stderr",
     "output_type": "stream",
     "text": [
      "[nltk_data] Downloading package vader_lexicon to\n",
      "[nltk_data]     C:\\Users\\ASAD\\AppData\\Roaming\\nltk_data...\n",
      "[nltk_data]   Package vader_lexicon is already up-to-date!\n",
      "[nltk_data] Downloading package stopwords to\n",
      "[nltk_data]     C:\\Users\\ASAD\\AppData\\Roaming\\nltk_data...\n",
      "[nltk_data]   Package stopwords is already up-to-date!\n",
      "[nltk_data] Downloading package punkt to\n",
      "[nltk_data]     C:\\Users\\ASAD\\AppData\\Roaming\\nltk_data...\n",
      "[nltk_data]   Package punkt is already up-to-date!\n"
     ]
    },
    {
     "data": {
      "text/plain": [
       "True"
      ]
     },
     "execution_count": 45,
     "metadata": {},
     "output_type": "execute_result"
    }
   ],
   "source": [
    "import nltk\n",
    "nltk.download('vader_lexicon')\n",
    "nltk.download('stopwords')\n",
    "nltk.download('punkt')"
   ]
  },
  {
   "cell_type": "markdown",
   "id": "4b219a16",
   "metadata": {},
   "source": [
    "## Find the lower of the text"
   ]
  },
  {
   "cell_type": "code",
   "execution_count": 46,
   "id": "860fe724",
   "metadata": {},
   "outputs": [],
   "source": [
    "df['post_text'] = df['post_text'].apply(lambda txt: txt.lower())"
   ]
  },
  {
   "cell_type": "markdown",
   "id": "b857476c",
   "metadata": {},
   "source": [
    "## Remove the stopwords"
   ]
  },
  {
   "cell_type": "code",
   "execution_count": 47,
   "id": "03bf6d2d",
   "metadata": {},
   "outputs": [],
   "source": [
    "stop_words=stopwords.words('english')\n",
    "df['post_text'] = df['post_text'].apply(lambda txt: ' '.join([word for word in txt.split() if word not in stop_words]))"
   ]
  },
  {
   "cell_type": "markdown",
   "id": "507a3e27",
   "metadata": {},
   "source": [
    "## Tokanize the words"
   ]
  },
  {
   "cell_type": "code",
   "execution_count": 48,
   "id": "92199a71",
   "metadata": {},
   "outputs": [],
   "source": [
    "df['post_text'] = df['post_text'].apply(lambda txt: sent_tokenize(txt))"
   ]
  },
  {
   "cell_type": "markdown",
   "id": "38e3f717",
   "metadata": {},
   "source": [
    "## All the tokanize words append in post_text column"
   ]
  },
  {
   "cell_type": "code",
   "execution_count": 49,
   "id": "915b991e",
   "metadata": {},
   "outputs": [],
   "source": [
    "df['post_text'] = df['post_text'].apply(lambda txt: ' '.join(txt))"
   ]
  },
  {
   "cell_type": "markdown",
   "id": "f0b78c09",
   "metadata": {},
   "source": [
    "## Import vader sentiment analysis library and call SentimentIntensityAnalyzer as sid"
   ]
  },
  {
   "cell_type": "code",
   "execution_count": 50,
   "id": "c34cb1d1",
   "metadata": {},
   "outputs": [],
   "source": [
    "from nltk.sentiment.vader import SentimentIntensityAnalyzer\n",
    "sid = SentimentIntensityAnalyzer()"
   ]
  },
  {
   "cell_type": "markdown",
   "id": "56c9714b",
   "metadata": {},
   "source": [
    "## Our text column append in text variable"
   ]
  },
  {
   "cell_type": "code",
   "execution_count": 51,
   "id": "5380aa4e",
   "metadata": {},
   "outputs": [
    {
     "data": {
      "text/plain": [
       "0       start right foot first impression - square edg...\n",
       "1       getting crop top + wide trousers combo right s...\n",
       "2       sweet dreams made - bubble dream heel sandals ...\n",
       "3       @annavanticalopez: \"disney’s ceo, bob iger, bi...\n",
       "4       @annavanticalopez: \"when first started modelli...\n",
       "                              ...                        \n",
       "4005    flush blush pop pink, embrace season's colour ...\n",
       "4006                                                 none\n",
       "4007                                                 none\n",
       "4008                                                 none\n",
       "4009                                                 none\n",
       "Name: post_text, Length: 4010, dtype: object"
      ]
     },
     "execution_count": 51,
     "metadata": {},
     "output_type": "execute_result"
    }
   ],
   "source": [
    "text = df['post_text']\n",
    "text"
   ]
  },
  {
   "cell_type": "markdown",
   "id": "64678416",
   "metadata": {},
   "source": [
    "## Using sid we create neg pos labels"
   ]
  },
  {
   "cell_type": "code",
   "execution_count": 52,
   "id": "2897fc4b",
   "metadata": {},
   "outputs": [
    {
     "data": {
      "text/html": [
       "<div>\n",
       "<style scoped>\n",
       "    .dataframe tbody tr th:only-of-type {\n",
       "        vertical-align: middle;\n",
       "    }\n",
       "\n",
       "    .dataframe tbody tr th {\n",
       "        vertical-align: top;\n",
       "    }\n",
       "\n",
       "    .dataframe thead th {\n",
       "        text-align: right;\n",
       "    }\n",
       "</style>\n",
       "<table border=\"1\" class=\"dataframe\">\n",
       "  <thead>\n",
       "    <tr style=\"text-align: right;\">\n",
       "      <th></th>\n",
       "      <th>post_text</th>\n",
       "      <th>new_labels</th>\n",
       "      <th>labels</th>\n",
       "    </tr>\n",
       "  </thead>\n",
       "  <tbody>\n",
       "    <tr>\n",
       "      <th>0</th>\n",
       "      <td>start right foot first impression - square edg...</td>\n",
       "      <td>1</td>\n",
       "      <td>{'neg': 0.0, 'neu': 0.881, 'pos': 0.119, 'comp...</td>\n",
       "    </tr>\n",
       "    <tr>\n",
       "      <th>1</th>\n",
       "      <td>getting crop top + wide trousers combo right s...</td>\n",
       "      <td>1</td>\n",
       "      <td>{'neg': 0.0, 'neu': 0.899, 'pos': 0.101, 'comp...</td>\n",
       "    </tr>\n",
       "    <tr>\n",
       "      <th>2</th>\n",
       "      <td>sweet dreams made - bubble dream heel sandals ...</td>\n",
       "      <td>1</td>\n",
       "      <td>{'neg': 0.0, 'neu': 0.588, 'pos': 0.412, 'comp...</td>\n",
       "    </tr>\n",
       "    <tr>\n",
       "      <th>3</th>\n",
       "      <td>@annavanticalopez: \"disney’s ceo, bob iger, bi...</td>\n",
       "      <td>1</td>\n",
       "      <td>{'neg': 0.083, 'neu': 0.739, 'pos': 0.178, 'co...</td>\n",
       "    </tr>\n",
       "    <tr>\n",
       "      <th>4</th>\n",
       "      <td>@annavanticalopez: \"when first started modelli...</td>\n",
       "      <td>1</td>\n",
       "      <td>{'neg': 0.073, 'neu': 0.632, 'pos': 0.295, 'co...</td>\n",
       "    </tr>\n",
       "    <tr>\n",
       "      <th>...</th>\n",
       "      <td>...</td>\n",
       "      <td>...</td>\n",
       "      <td>...</td>\n",
       "    </tr>\n",
       "    <tr>\n",
       "      <th>4005</th>\n",
       "      <td>flush blush pop pink, embrace season's colour ...</td>\n",
       "      <td>1</td>\n",
       "      <td>{'neg': 0.0, 'neu': 0.813, 'pos': 0.187, 'comp...</td>\n",
       "    </tr>\n",
       "    <tr>\n",
       "      <th>4006</th>\n",
       "      <td>none</td>\n",
       "      <td>1</td>\n",
       "      <td>{'neg': 0.0, 'neu': 1.0, 'pos': 0.0, 'compound...</td>\n",
       "    </tr>\n",
       "    <tr>\n",
       "      <th>4007</th>\n",
       "      <td>none</td>\n",
       "      <td>1</td>\n",
       "      <td>{'neg': 0.0, 'neu': 1.0, 'pos': 0.0, 'compound...</td>\n",
       "    </tr>\n",
       "    <tr>\n",
       "      <th>4008</th>\n",
       "      <td>none</td>\n",
       "      <td>1</td>\n",
       "      <td>{'neg': 0.0, 'neu': 1.0, 'pos': 0.0, 'compound...</td>\n",
       "    </tr>\n",
       "    <tr>\n",
       "      <th>4009</th>\n",
       "      <td>none</td>\n",
       "      <td>1</td>\n",
       "      <td>{'neg': 0.0, 'neu': 1.0, 'pos': 0.0, 'compound...</td>\n",
       "    </tr>\n",
       "  </tbody>\n",
       "</table>\n",
       "<p>4010 rows × 3 columns</p>\n",
       "</div>"
      ],
      "text/plain": [
       "                                              post_text  new_labels  \\\n",
       "0     start right foot first impression - square edg...           1   \n",
       "1     getting crop top + wide trousers combo right s...           1   \n",
       "2     sweet dreams made - bubble dream heel sandals ...           1   \n",
       "3     @annavanticalopez: \"disney’s ceo, bob iger, bi...           1   \n",
       "4     @annavanticalopez: \"when first started modelli...           1   \n",
       "...                                                 ...         ...   \n",
       "4005  flush blush pop pink, embrace season's colour ...           1   \n",
       "4006                                               none           1   \n",
       "4007                                               none           1   \n",
       "4008                                               none           1   \n",
       "4009                                               none           1   \n",
       "\n",
       "                                                 labels  \n",
       "0     {'neg': 0.0, 'neu': 0.881, 'pos': 0.119, 'comp...  \n",
       "1     {'neg': 0.0, 'neu': 0.899, 'pos': 0.101, 'comp...  \n",
       "2     {'neg': 0.0, 'neu': 0.588, 'pos': 0.412, 'comp...  \n",
       "3     {'neg': 0.083, 'neu': 0.739, 'pos': 0.178, 'co...  \n",
       "4     {'neg': 0.073, 'neu': 0.632, 'pos': 0.295, 'co...  \n",
       "...                                                 ...  \n",
       "4005  {'neg': 0.0, 'neu': 0.813, 'pos': 0.187, 'comp...  \n",
       "4006  {'neg': 0.0, 'neu': 1.0, 'pos': 0.0, 'compound...  \n",
       "4007  {'neg': 0.0, 'neu': 1.0, 'pos': 0.0, 'compound...  \n",
       "4008  {'neg': 0.0, 'neu': 1.0, 'pos': 0.0, 'compound...  \n",
       "4009  {'neg': 0.0, 'neu': 1.0, 'pos': 0.0, 'compound...  \n",
       "\n",
       "[4010 rows x 3 columns]"
      ]
     },
     "execution_count": 52,
     "metadata": {},
     "output_type": "execute_result"
    }
   ],
   "source": [
    "df['labels'] = df['post_text'].apply(lambda txt: sid.polarity_scores(txt))\n",
    "df"
   ]
  },
  {
   "cell_type": "markdown",
   "id": "ce46a3c1",
   "metadata": {},
   "source": [
    "## Create extra columns for neg, pos, neu, com"
   ]
  },
  {
   "cell_type": "code",
   "execution_count": 53,
   "id": "9fb6423f",
   "metadata": {},
   "outputs": [
    {
     "data": {
      "text/html": [
       "<div>\n",
       "<style scoped>\n",
       "    .dataframe tbody tr th:only-of-type {\n",
       "        vertical-align: middle;\n",
       "    }\n",
       "\n",
       "    .dataframe tbody tr th {\n",
       "        vertical-align: top;\n",
       "    }\n",
       "\n",
       "    .dataframe thead th {\n",
       "        text-align: right;\n",
       "    }\n",
       "</style>\n",
       "<table border=\"1\" class=\"dataframe\">\n",
       "  <thead>\n",
       "    <tr style=\"text-align: right;\">\n",
       "      <th></th>\n",
       "      <th>post_text</th>\n",
       "      <th>new_labels</th>\n",
       "      <th>labels</th>\n",
       "      <th>Negative</th>\n",
       "      <th>Neutral</th>\n",
       "      <th>Positive</th>\n",
       "      <th>Compound</th>\n",
       "    </tr>\n",
       "  </thead>\n",
       "  <tbody>\n",
       "    <tr>\n",
       "      <th>0</th>\n",
       "      <td>start right foot first impression - square edg...</td>\n",
       "      <td>1</td>\n",
       "      <td>{'neg': 0.0, 'neu': 0.881, 'pos': 0.119, 'comp...</td>\n",
       "      <td>0.000</td>\n",
       "      <td>0.881</td>\n",
       "      <td>0.119</td>\n",
       "      <td>0.2263</td>\n",
       "    </tr>\n",
       "    <tr>\n",
       "      <th>1</th>\n",
       "      <td>getting crop top + wide trousers combo right s...</td>\n",
       "      <td>1</td>\n",
       "      <td>{'neg': 0.0, 'neu': 0.899, 'pos': 0.101, 'comp...</td>\n",
       "      <td>0.000</td>\n",
       "      <td>0.899</td>\n",
       "      <td>0.101</td>\n",
       "      <td>0.2023</td>\n",
       "    </tr>\n",
       "    <tr>\n",
       "      <th>2</th>\n",
       "      <td>sweet dreams made - bubble dream heel sandals ...</td>\n",
       "      <td>1</td>\n",
       "      <td>{'neg': 0.0, 'neu': 0.588, 'pos': 0.412, 'comp...</td>\n",
       "      <td>0.000</td>\n",
       "      <td>0.588</td>\n",
       "      <td>0.412</td>\n",
       "      <td>0.7717</td>\n",
       "    </tr>\n",
       "    <tr>\n",
       "      <th>3</th>\n",
       "      <td>@annavanticalopez: \"disney’s ceo, bob iger, bi...</td>\n",
       "      <td>1</td>\n",
       "      <td>{'neg': 0.083, 'neu': 0.739, 'pos': 0.178, 'co...</td>\n",
       "      <td>0.083</td>\n",
       "      <td>0.739</td>\n",
       "      <td>0.178</td>\n",
       "      <td>0.8655</td>\n",
       "    </tr>\n",
       "    <tr>\n",
       "      <th>4</th>\n",
       "      <td>@annavanticalopez: \"when first started modelli...</td>\n",
       "      <td>1</td>\n",
       "      <td>{'neg': 0.073, 'neu': 0.632, 'pos': 0.295, 'co...</td>\n",
       "      <td>0.073</td>\n",
       "      <td>0.632</td>\n",
       "      <td>0.295</td>\n",
       "      <td>0.9788</td>\n",
       "    </tr>\n",
       "    <tr>\n",
       "      <th>...</th>\n",
       "      <td>...</td>\n",
       "      <td>...</td>\n",
       "      <td>...</td>\n",
       "      <td>...</td>\n",
       "      <td>...</td>\n",
       "      <td>...</td>\n",
       "      <td>...</td>\n",
       "    </tr>\n",
       "    <tr>\n",
       "      <th>4005</th>\n",
       "      <td>flush blush pop pink, embrace season's colour ...</td>\n",
       "      <td>1</td>\n",
       "      <td>{'neg': 0.0, 'neu': 0.813, 'pos': 0.187, 'comp...</td>\n",
       "      <td>0.000</td>\n",
       "      <td>0.813</td>\n",
       "      <td>0.187</td>\n",
       "      <td>0.3182</td>\n",
       "    </tr>\n",
       "    <tr>\n",
       "      <th>4006</th>\n",
       "      <td>none</td>\n",
       "      <td>1</td>\n",
       "      <td>{'neg': 0.0, 'neu': 1.0, 'pos': 0.0, 'compound...</td>\n",
       "      <td>0.000</td>\n",
       "      <td>1.000</td>\n",
       "      <td>0.000</td>\n",
       "      <td>0.0000</td>\n",
       "    </tr>\n",
       "    <tr>\n",
       "      <th>4007</th>\n",
       "      <td>none</td>\n",
       "      <td>1</td>\n",
       "      <td>{'neg': 0.0, 'neu': 1.0, 'pos': 0.0, 'compound...</td>\n",
       "      <td>0.000</td>\n",
       "      <td>1.000</td>\n",
       "      <td>0.000</td>\n",
       "      <td>0.0000</td>\n",
       "    </tr>\n",
       "    <tr>\n",
       "      <th>4008</th>\n",
       "      <td>none</td>\n",
       "      <td>1</td>\n",
       "      <td>{'neg': 0.0, 'neu': 1.0, 'pos': 0.0, 'compound...</td>\n",
       "      <td>0.000</td>\n",
       "      <td>1.000</td>\n",
       "      <td>0.000</td>\n",
       "      <td>0.0000</td>\n",
       "    </tr>\n",
       "    <tr>\n",
       "      <th>4009</th>\n",
       "      <td>none</td>\n",
       "      <td>1</td>\n",
       "      <td>{'neg': 0.0, 'neu': 1.0, 'pos': 0.0, 'compound...</td>\n",
       "      <td>0.000</td>\n",
       "      <td>1.000</td>\n",
       "      <td>0.000</td>\n",
       "      <td>0.0000</td>\n",
       "    </tr>\n",
       "  </tbody>\n",
       "</table>\n",
       "<p>4010 rows × 7 columns</p>\n",
       "</div>"
      ],
      "text/plain": [
       "                                              post_text  new_labels  \\\n",
       "0     start right foot first impression - square edg...           1   \n",
       "1     getting crop top + wide trousers combo right s...           1   \n",
       "2     sweet dreams made - bubble dream heel sandals ...           1   \n",
       "3     @annavanticalopez: \"disney’s ceo, bob iger, bi...           1   \n",
       "4     @annavanticalopez: \"when first started modelli...           1   \n",
       "...                                                 ...         ...   \n",
       "4005  flush blush pop pink, embrace season's colour ...           1   \n",
       "4006                                               none           1   \n",
       "4007                                               none           1   \n",
       "4008                                               none           1   \n",
       "4009                                               none           1   \n",
       "\n",
       "                                                 labels  Negative  Neutral  \\\n",
       "0     {'neg': 0.0, 'neu': 0.881, 'pos': 0.119, 'comp...     0.000    0.881   \n",
       "1     {'neg': 0.0, 'neu': 0.899, 'pos': 0.101, 'comp...     0.000    0.899   \n",
       "2     {'neg': 0.0, 'neu': 0.588, 'pos': 0.412, 'comp...     0.000    0.588   \n",
       "3     {'neg': 0.083, 'neu': 0.739, 'pos': 0.178, 'co...     0.083    0.739   \n",
       "4     {'neg': 0.073, 'neu': 0.632, 'pos': 0.295, 'co...     0.073    0.632   \n",
       "...                                                 ...       ...      ...   \n",
       "4005  {'neg': 0.0, 'neu': 0.813, 'pos': 0.187, 'comp...     0.000    0.813   \n",
       "4006  {'neg': 0.0, 'neu': 1.0, 'pos': 0.0, 'compound...     0.000    1.000   \n",
       "4007  {'neg': 0.0, 'neu': 1.0, 'pos': 0.0, 'compound...     0.000    1.000   \n",
       "4008  {'neg': 0.0, 'neu': 1.0, 'pos': 0.0, 'compound...     0.000    1.000   \n",
       "4009  {'neg': 0.0, 'neu': 1.0, 'pos': 0.0, 'compound...     0.000    1.000   \n",
       "\n",
       "      Positive  Compound  \n",
       "0        0.119    0.2263  \n",
       "1        0.101    0.2023  \n",
       "2        0.412    0.7717  \n",
       "3        0.178    0.8655  \n",
       "4        0.295    0.9788  \n",
       "...        ...       ...  \n",
       "4005     0.187    0.3182  \n",
       "4006     0.000    0.0000  \n",
       "4007     0.000    0.0000  \n",
       "4008     0.000    0.0000  \n",
       "4009     0.000    0.0000  \n",
       "\n",
       "[4010 rows x 7 columns]"
      ]
     },
     "execution_count": 53,
     "metadata": {},
     "output_type": "execute_result"
    }
   ],
   "source": [
    "df['Negative'] = df['labels'].apply(lambda txt: txt['neg'])\n",
    "df['Neutral'] = df['labels'].apply(lambda txt: txt['neu'])\n",
    "df['Positive'] = df['labels'].apply(lambda txt: txt['pos'])\n",
    "df['Compound'] = df['labels'].apply(lambda txt: txt['compound'])\n",
    "df"
   ]
  },
  {
   "cell_type": "markdown",
   "id": "cbbd4541",
   "metadata": {},
   "source": [
    "## Based on compound column we decide pos and neg labels"
   ]
  },
  {
   "cell_type": "code",
   "execution_count": 54,
   "id": "3a70a1f2",
   "metadata": {},
   "outputs": [],
   "source": [
    "def polarity_score(Compound):\n",
    "    if Compound > 0:\n",
    "        return \"positive\"\n",
    "    elif Compound <= 0:\n",
    "        return \"negative\""
   ]
  },
  {
   "cell_type": "code",
   "execution_count": 55,
   "id": "d6557589",
   "metadata": {},
   "outputs": [
    {
     "data": {
      "text/html": [
       "<div>\n",
       "<style scoped>\n",
       "    .dataframe tbody tr th:only-of-type {\n",
       "        vertical-align: middle;\n",
       "    }\n",
       "\n",
       "    .dataframe tbody tr th {\n",
       "        vertical-align: top;\n",
       "    }\n",
       "\n",
       "    .dataframe thead th {\n",
       "        text-align: right;\n",
       "    }\n",
       "</style>\n",
       "<table border=\"1\" class=\"dataframe\">\n",
       "  <thead>\n",
       "    <tr style=\"text-align: right;\">\n",
       "      <th></th>\n",
       "      <th>post_text</th>\n",
       "      <th>new_labels</th>\n",
       "      <th>labels</th>\n",
       "      <th>Negative</th>\n",
       "      <th>Neutral</th>\n",
       "      <th>Positive</th>\n",
       "      <th>Compound</th>\n",
       "    </tr>\n",
       "  </thead>\n",
       "  <tbody>\n",
       "    <tr>\n",
       "      <th>0</th>\n",
       "      <td>start right foot first impression - square edg...</td>\n",
       "      <td>positive</td>\n",
       "      <td>{'neg': 0.0, 'neu': 0.881, 'pos': 0.119, 'comp...</td>\n",
       "      <td>0.000</td>\n",
       "      <td>0.881</td>\n",
       "      <td>0.119</td>\n",
       "      <td>0.2263</td>\n",
       "    </tr>\n",
       "    <tr>\n",
       "      <th>1</th>\n",
       "      <td>getting crop top + wide trousers combo right s...</td>\n",
       "      <td>positive</td>\n",
       "      <td>{'neg': 0.0, 'neu': 0.899, 'pos': 0.101, 'comp...</td>\n",
       "      <td>0.000</td>\n",
       "      <td>0.899</td>\n",
       "      <td>0.101</td>\n",
       "      <td>0.2023</td>\n",
       "    </tr>\n",
       "    <tr>\n",
       "      <th>2</th>\n",
       "      <td>sweet dreams made - bubble dream heel sandals ...</td>\n",
       "      <td>positive</td>\n",
       "      <td>{'neg': 0.0, 'neu': 0.588, 'pos': 0.412, 'comp...</td>\n",
       "      <td>0.000</td>\n",
       "      <td>0.588</td>\n",
       "      <td>0.412</td>\n",
       "      <td>0.7717</td>\n",
       "    </tr>\n",
       "    <tr>\n",
       "      <th>3</th>\n",
       "      <td>@annavanticalopez: \"disney’s ceo, bob iger, bi...</td>\n",
       "      <td>positive</td>\n",
       "      <td>{'neg': 0.083, 'neu': 0.739, 'pos': 0.178, 'co...</td>\n",
       "      <td>0.083</td>\n",
       "      <td>0.739</td>\n",
       "      <td>0.178</td>\n",
       "      <td>0.8655</td>\n",
       "    </tr>\n",
       "    <tr>\n",
       "      <th>4</th>\n",
       "      <td>@annavanticalopez: \"when first started modelli...</td>\n",
       "      <td>positive</td>\n",
       "      <td>{'neg': 0.073, 'neu': 0.632, 'pos': 0.295, 'co...</td>\n",
       "      <td>0.073</td>\n",
       "      <td>0.632</td>\n",
       "      <td>0.295</td>\n",
       "      <td>0.9788</td>\n",
       "    </tr>\n",
       "    <tr>\n",
       "      <th>5</th>\n",
       "      <td>@annavanticalopez - \"when people say models co...</td>\n",
       "      <td>positive</td>\n",
       "      <td>{'neg': 0.053, 'neu': 0.663, 'pos': 0.283, 'co...</td>\n",
       "      <td>0.053</td>\n",
       "      <td>0.663</td>\n",
       "      <td>0.283</td>\n",
       "      <td>0.9590</td>\n",
       "    </tr>\n",
       "    <tr>\n",
       "      <th>6</th>\n",
       "      <td>@wordweed: \"over years, learnt instead learnin...</td>\n",
       "      <td>positive</td>\n",
       "      <td>{'neg': 0.113, 'neu': 0.64, 'pos': 0.247, 'com...</td>\n",
       "      <td>0.113</td>\n",
       "      <td>0.640</td>\n",
       "      <td>0.247</td>\n",
       "      <td>0.9578</td>\n",
       "    </tr>\n",
       "    <tr>\n",
       "      <th>7</th>\n",
       "      <td>@wordweed: \"body image something struggled gro...</td>\n",
       "      <td>positive</td>\n",
       "      <td>{'neg': 0.149, 'neu': 0.654, 'pos': 0.197, 'co...</td>\n",
       "      <td>0.149</td>\n",
       "      <td>0.654</td>\n",
       "      <td>0.197</td>\n",
       "      <td>0.6743</td>\n",
       "    </tr>\n",
       "    <tr>\n",
       "      <th>8</th>\n",
       "      <td>@wordweed - \"to certain extent, still imposter...</td>\n",
       "      <td>positive</td>\n",
       "      <td>{'neg': 0.121, 'neu': 0.597, 'pos': 0.282, 'co...</td>\n",
       "      <td>0.121</td>\n",
       "      <td>0.597</td>\n",
       "      <td>0.282</td>\n",
       "      <td>0.9442</td>\n",
       "    </tr>\n",
       "    <tr>\n",
       "      <th>9</th>\n",
       "      <td>march, celebrate international women’s month m...</td>\n",
       "      <td>positive</td>\n",
       "      <td>{'neg': 0.036, 'neu': 0.538, 'pos': 0.425, 'co...</td>\n",
       "      <td>0.036</td>\n",
       "      <td>0.538</td>\n",
       "      <td>0.425</td>\n",
       "      <td>0.9897</td>\n",
       "    </tr>\n",
       "    <tr>\n",
       "      <th>10</th>\n",
       "      <td>perfect hump day treat ✨ - spark joy block hee...</td>\n",
       "      <td>positive</td>\n",
       "      <td>{'neg': 0.116, 'neu': 0.4, 'pos': 0.484, 'comp...</td>\n",
       "      <td>0.116</td>\n",
       "      <td>0.400</td>\n",
       "      <td>0.484</td>\n",
       "      <td>0.8481</td>\n",
       "    </tr>\n",
       "    <tr>\n",
       "      <th>11</th>\n",
       "      <td>march, celebrate international women’s month m...</td>\n",
       "      <td>positive</td>\n",
       "      <td>{'neg': 0.036, 'neu': 0.539, 'pos': 0.426, 'co...</td>\n",
       "      <td>0.036</td>\n",
       "      <td>0.539</td>\n",
       "      <td>0.426</td>\n",
       "      <td>0.9898</td>\n",
       "    </tr>\n",
       "    <tr>\n",
       "      <th>12</th>\n",
       "      <td>@soniaasyira: \"all support people truly cared ...</td>\n",
       "      <td>positive</td>\n",
       "      <td>{'neg': 0.023, 'neu': 0.663, 'pos': 0.314, 'co...</td>\n",
       "      <td>0.023</td>\n",
       "      <td>0.663</td>\n",
       "      <td>0.314</td>\n",
       "      <td>0.9867</td>\n",
       "    </tr>\n",
       "    <tr>\n",
       "      <th>13</th>\n",
       "      <td>@soniaasyira: \"i going lot personal challenges...</td>\n",
       "      <td>negative</td>\n",
       "      <td>{'neg': 0.157, 'neu': 0.695, 'pos': 0.148, 'co...</td>\n",
       "      <td>0.157</td>\n",
       "      <td>0.695</td>\n",
       "      <td>0.148</td>\n",
       "      <td>0.0000</td>\n",
       "    </tr>\n",
       "    <tr>\n",
       "      <th>14</th>\n",
       "      <td>@soniaasyira - \"i seem like positive happy per...</td>\n",
       "      <td>positive</td>\n",
       "      <td>{'neg': 0.162, 'neu': 0.57, 'pos': 0.267, 'com...</td>\n",
       "      <td>0.162</td>\n",
       "      <td>0.570</td>\n",
       "      <td>0.267</td>\n",
       "      <td>0.9246</td>\n",
       "    </tr>\n",
       "    <tr>\n",
       "      <th>15</th>\n",
       "      <td>@tippytapp: think one ways mitigate self-estee...</td>\n",
       "      <td>positive</td>\n",
       "      <td>{'neg': 0.11, 'neu': 0.675, 'pos': 0.215, 'com...</td>\n",
       "      <td>0.110</td>\n",
       "      <td>0.675</td>\n",
       "      <td>0.215</td>\n",
       "      <td>0.8316</td>\n",
       "    </tr>\n",
       "    <tr>\n",
       "      <th>16</th>\n",
       "      <td>@tippytapp: mother, feel there's lot competiti...</td>\n",
       "      <td>positive</td>\n",
       "      <td>{'neg': 0.065, 'neu': 0.712, 'pos': 0.223, 'co...</td>\n",
       "      <td>0.065</td>\n",
       "      <td>0.712</td>\n",
       "      <td>0.223</td>\n",
       "      <td>0.9246</td>\n",
       "    </tr>\n",
       "    <tr>\n",
       "      <th>17</th>\n",
       "      <td>@tippytapp - “after while, negative comments d...</td>\n",
       "      <td>positive</td>\n",
       "      <td>{'neg': 0.103, 'neu': 0.623, 'pos': 0.274, 'co...</td>\n",
       "      <td>0.103</td>\n",
       "      <td>0.623</td>\n",
       "      <td>0.274</td>\n",
       "      <td>0.9231</td>\n",
       "    </tr>\n",
       "    <tr>\n",
       "      <th>18</th>\n",
       "      <td>believe making difference supporting women com...</td>\n",
       "      <td>positive</td>\n",
       "      <td>{'neg': 0.036, 'neu': 0.586, 'pos': 0.378, 'co...</td>\n",
       "      <td>0.036</td>\n",
       "      <td>0.586</td>\n",
       "      <td>0.378</td>\n",
       "      <td>0.9864</td>\n",
       "    </tr>\n",
       "    <tr>\n",
       "      <th>19</th>\n",
       "      <td>believe making difference supporting women com...</td>\n",
       "      <td>positive</td>\n",
       "      <td>{'neg': 0.036, 'neu': 0.586, 'pos': 0.378, 'co...</td>\n",
       "      <td>0.036</td>\n",
       "      <td>0.586</td>\n",
       "      <td>0.378</td>\n",
       "      <td>0.9864</td>\n",
       "    </tr>\n",
       "    <tr>\n",
       "      <th>20</th>\n",
       "      <td>believe making difference supporting women com...</td>\n",
       "      <td>positive</td>\n",
       "      <td>{'neg': 0.038, 'neu': 0.589, 'pos': 0.374, 'co...</td>\n",
       "      <td>0.038</td>\n",
       "      <td>0.589</td>\n",
       "      <td>0.374</td>\n",
       "      <td>0.9842</td>\n",
       "    </tr>\n",
       "    <tr>\n",
       "      <th>21</th>\n",
       "      <td>pink vs white. one you? 💖🤍 product featured: c...</td>\n",
       "      <td>positive</td>\n",
       "      <td>{'neg': 0.0, 'neu': 0.863, 'pos': 0.137, 'comp...</td>\n",
       "      <td>0.000</td>\n",
       "      <td>0.863</td>\n",
       "      <td>0.137</td>\n",
       "      <td>0.4019</td>\n",
       "    </tr>\n",
       "    <tr>\n",
       "      <th>22</th>\n",
       "      <td>#tfw wanna head still zoom meeting attend home...</td>\n",
       "      <td>positive</td>\n",
       "      <td>{'neg': 0.067, 'neu': 0.837, 'pos': 0.096, 'co...</td>\n",
       "      <td>0.067</td>\n",
       "      <td>0.837</td>\n",
       "      <td>0.096</td>\n",
       "      <td>0.1779</td>\n",
       "    </tr>\n",
       "    <tr>\n",
       "      <th>23</th>\n",
       "      <td>pick colour today's hustle - still hustling fl...</td>\n",
       "      <td>negative</td>\n",
       "      <td>{'neg': 0.0, 'neu': 1.0, 'pos': 0.0, 'compound...</td>\n",
       "      <td>0.000</td>\n",
       "      <td>1.000</td>\n",
       "      <td>0.000</td>\n",
       "      <td>0.0000</td>\n",
       "    </tr>\n",
       "    <tr>\n",
       "      <th>24</th>\n",
       "      <td>choosing nude black philosophical dilemma 🤔 pr...</td>\n",
       "      <td>negative</td>\n",
       "      <td>{'neg': 0.102, 'neu': 0.898, 'pos': 0.0, 'comp...</td>\n",
       "      <td>0.102</td>\n",
       "      <td>0.898</td>\n",
       "      <td>0.000</td>\n",
       "      <td>-0.1779</td>\n",
       "    </tr>\n",
       "    <tr>\n",
       "      <th>25</th>\n",
       "      <td>two-toned neutral colours duo-strap details lo...</td>\n",
       "      <td>negative</td>\n",
       "      <td>{'neg': 0.0, 'neu': 1.0, 'pos': 0.0, 'compound...</td>\n",
       "      <td>0.000</td>\n",
       "      <td>1.000</td>\n",
       "      <td>0.000</td>\n",
       "      <td>0.0000</td>\n",
       "    </tr>\n",
       "    <tr>\n",
       "      <th>26</th>\n",
       "      <td>start week fresh colour tones croc charm loafe...</td>\n",
       "      <td>positive</td>\n",
       "      <td>{'neg': 0.0, 'neu': 0.603, 'pos': 0.397, 'comp...</td>\n",
       "      <td>0.000</td>\n",
       "      <td>0.603</td>\n",
       "      <td>0.397</td>\n",
       "      <td>0.8885</td>\n",
       "    </tr>\n",
       "    <tr>\n",
       "      <th>27</th>\n",
       "      <td>@shuutravels channeling 💙 energy spring fling ...</td>\n",
       "      <td>negative</td>\n",
       "      <td>{'neg': 0.181, 'neu': 0.688, 'pos': 0.131, 'co...</td>\n",
       "      <td>0.181</td>\n",
       "      <td>0.688</td>\n",
       "      <td>0.131</td>\n",
       "      <td>-0.2023</td>\n",
       "    </tr>\n",
       "    <tr>\n",
       "      <th>28</th>\n",
       "      <td>@soniaasyira serving major 💜 vibes pastel ther...</td>\n",
       "      <td>negative</td>\n",
       "      <td>{'neg': 0.0, 'neu': 1.0, 'pos': 0.0, 'compound...</td>\n",
       "      <td>0.000</td>\n",
       "      <td>1.000</td>\n",
       "      <td>0.000</td>\n",
       "      <td>0.0000</td>\n",
       "    </tr>\n",
       "    <tr>\n",
       "      <th>29</th>\n",
       "      <td>@diyannahsyfqh’s #journeywithcourage companion...</td>\n",
       "      <td>negative</td>\n",
       "      <td>{'neg': 0.195, 'neu': 0.805, 'pos': 0.0, 'comp...</td>\n",
       "      <td>0.195</td>\n",
       "      <td>0.805</td>\n",
       "      <td>0.000</td>\n",
       "      <td>-0.4404</td>\n",
       "    </tr>\n",
       "  </tbody>\n",
       "</table>\n",
       "</div>"
      ],
      "text/plain": [
       "                                            post_text new_labels  \\\n",
       "0   start right foot first impression - square edg...   positive   \n",
       "1   getting crop top + wide trousers combo right s...   positive   \n",
       "2   sweet dreams made - bubble dream heel sandals ...   positive   \n",
       "3   @annavanticalopez: \"disney’s ceo, bob iger, bi...   positive   \n",
       "4   @annavanticalopez: \"when first started modelli...   positive   \n",
       "5   @annavanticalopez - \"when people say models co...   positive   \n",
       "6   @wordweed: \"over years, learnt instead learnin...   positive   \n",
       "7   @wordweed: \"body image something struggled gro...   positive   \n",
       "8   @wordweed - \"to certain extent, still imposter...   positive   \n",
       "9   march, celebrate international women’s month m...   positive   \n",
       "10  perfect hump day treat ✨ - spark joy block hee...   positive   \n",
       "11  march, celebrate international women’s month m...   positive   \n",
       "12  @soniaasyira: \"all support people truly cared ...   positive   \n",
       "13  @soniaasyira: \"i going lot personal challenges...   negative   \n",
       "14  @soniaasyira - \"i seem like positive happy per...   positive   \n",
       "15  @tippytapp: think one ways mitigate self-estee...   positive   \n",
       "16  @tippytapp: mother, feel there's lot competiti...   positive   \n",
       "17  @tippytapp - “after while, negative comments d...   positive   \n",
       "18  believe making difference supporting women com...   positive   \n",
       "19  believe making difference supporting women com...   positive   \n",
       "20  believe making difference supporting women com...   positive   \n",
       "21  pink vs white. one you? 💖🤍 product featured: c...   positive   \n",
       "22  #tfw wanna head still zoom meeting attend home...   positive   \n",
       "23  pick colour today's hustle - still hustling fl...   negative   \n",
       "24  choosing nude black philosophical dilemma 🤔 pr...   negative   \n",
       "25  two-toned neutral colours duo-strap details lo...   negative   \n",
       "26  start week fresh colour tones croc charm loafe...   positive   \n",
       "27  @shuutravels channeling 💙 energy spring fling ...   negative   \n",
       "28  @soniaasyira serving major 💜 vibes pastel ther...   negative   \n",
       "29  @diyannahsyfqh’s #journeywithcourage companion...   negative   \n",
       "\n",
       "                                               labels  Negative  Neutral  \\\n",
       "0   {'neg': 0.0, 'neu': 0.881, 'pos': 0.119, 'comp...     0.000    0.881   \n",
       "1   {'neg': 0.0, 'neu': 0.899, 'pos': 0.101, 'comp...     0.000    0.899   \n",
       "2   {'neg': 0.0, 'neu': 0.588, 'pos': 0.412, 'comp...     0.000    0.588   \n",
       "3   {'neg': 0.083, 'neu': 0.739, 'pos': 0.178, 'co...     0.083    0.739   \n",
       "4   {'neg': 0.073, 'neu': 0.632, 'pos': 0.295, 'co...     0.073    0.632   \n",
       "5   {'neg': 0.053, 'neu': 0.663, 'pos': 0.283, 'co...     0.053    0.663   \n",
       "6   {'neg': 0.113, 'neu': 0.64, 'pos': 0.247, 'com...     0.113    0.640   \n",
       "7   {'neg': 0.149, 'neu': 0.654, 'pos': 0.197, 'co...     0.149    0.654   \n",
       "8   {'neg': 0.121, 'neu': 0.597, 'pos': 0.282, 'co...     0.121    0.597   \n",
       "9   {'neg': 0.036, 'neu': 0.538, 'pos': 0.425, 'co...     0.036    0.538   \n",
       "10  {'neg': 0.116, 'neu': 0.4, 'pos': 0.484, 'comp...     0.116    0.400   \n",
       "11  {'neg': 0.036, 'neu': 0.539, 'pos': 0.426, 'co...     0.036    0.539   \n",
       "12  {'neg': 0.023, 'neu': 0.663, 'pos': 0.314, 'co...     0.023    0.663   \n",
       "13  {'neg': 0.157, 'neu': 0.695, 'pos': 0.148, 'co...     0.157    0.695   \n",
       "14  {'neg': 0.162, 'neu': 0.57, 'pos': 0.267, 'com...     0.162    0.570   \n",
       "15  {'neg': 0.11, 'neu': 0.675, 'pos': 0.215, 'com...     0.110    0.675   \n",
       "16  {'neg': 0.065, 'neu': 0.712, 'pos': 0.223, 'co...     0.065    0.712   \n",
       "17  {'neg': 0.103, 'neu': 0.623, 'pos': 0.274, 'co...     0.103    0.623   \n",
       "18  {'neg': 0.036, 'neu': 0.586, 'pos': 0.378, 'co...     0.036    0.586   \n",
       "19  {'neg': 0.036, 'neu': 0.586, 'pos': 0.378, 'co...     0.036    0.586   \n",
       "20  {'neg': 0.038, 'neu': 0.589, 'pos': 0.374, 'co...     0.038    0.589   \n",
       "21  {'neg': 0.0, 'neu': 0.863, 'pos': 0.137, 'comp...     0.000    0.863   \n",
       "22  {'neg': 0.067, 'neu': 0.837, 'pos': 0.096, 'co...     0.067    0.837   \n",
       "23  {'neg': 0.0, 'neu': 1.0, 'pos': 0.0, 'compound...     0.000    1.000   \n",
       "24  {'neg': 0.102, 'neu': 0.898, 'pos': 0.0, 'comp...     0.102    0.898   \n",
       "25  {'neg': 0.0, 'neu': 1.0, 'pos': 0.0, 'compound...     0.000    1.000   \n",
       "26  {'neg': 0.0, 'neu': 0.603, 'pos': 0.397, 'comp...     0.000    0.603   \n",
       "27  {'neg': 0.181, 'neu': 0.688, 'pos': 0.131, 'co...     0.181    0.688   \n",
       "28  {'neg': 0.0, 'neu': 1.0, 'pos': 0.0, 'compound...     0.000    1.000   \n",
       "29  {'neg': 0.195, 'neu': 0.805, 'pos': 0.0, 'comp...     0.195    0.805   \n",
       "\n",
       "    Positive  Compound  \n",
       "0      0.119    0.2263  \n",
       "1      0.101    0.2023  \n",
       "2      0.412    0.7717  \n",
       "3      0.178    0.8655  \n",
       "4      0.295    0.9788  \n",
       "5      0.283    0.9590  \n",
       "6      0.247    0.9578  \n",
       "7      0.197    0.6743  \n",
       "8      0.282    0.9442  \n",
       "9      0.425    0.9897  \n",
       "10     0.484    0.8481  \n",
       "11     0.426    0.9898  \n",
       "12     0.314    0.9867  \n",
       "13     0.148    0.0000  \n",
       "14     0.267    0.9246  \n",
       "15     0.215    0.8316  \n",
       "16     0.223    0.9246  \n",
       "17     0.274    0.9231  \n",
       "18     0.378    0.9864  \n",
       "19     0.378    0.9864  \n",
       "20     0.374    0.9842  \n",
       "21     0.137    0.4019  \n",
       "22     0.096    0.1779  \n",
       "23     0.000    0.0000  \n",
       "24     0.000   -0.1779  \n",
       "25     0.000    0.0000  \n",
       "26     0.397    0.8885  \n",
       "27     0.131   -0.2023  \n",
       "28     0.000    0.0000  \n",
       "29     0.000   -0.4404  "
      ]
     },
     "execution_count": 55,
     "metadata": {},
     "output_type": "execute_result"
    }
   ],
   "source": [
    "df['new_labels'] = df['Compound'].apply(lambda val: polarity_score(val))\n",
    "df.head(30)"
   ]
  },
  {
   "cell_type": "markdown",
   "id": "7286f5df",
   "metadata": {},
   "source": [
    "## Check polarity score of 3000 column in post_text"
   ]
  },
  {
   "cell_type": "code",
   "execution_count": 56,
   "id": "93e9e943",
   "metadata": {},
   "outputs": [
    {
     "data": {
      "text/plain": [
       "{'neg': 0.136, 'neu': 0.682, 'pos': 0.182, 'compound': 0.2023}"
      ]
     },
     "execution_count": 56,
     "metadata": {},
     "output_type": "execute_result"
    }
   ],
   "source": [
    "sid.polarity_scores(df.loc[3000]['post_text'])"
   ]
  },
  {
   "cell_type": "markdown",
   "id": "e8fe00f8",
   "metadata": {},
   "source": [
    "## Check polarity score of 2 column"
   ]
  },
  {
   "cell_type": "code",
   "execution_count": 57,
   "id": "2a73f541",
   "metadata": {},
   "outputs": [
    {
     "data": {
      "text/plain": [
       "{'neg': 0.0, 'neu': 0.588, 'pos': 0.412, 'compound': 0.7717}"
      ]
     },
     "execution_count": 57,
     "metadata": {},
     "output_type": "execute_result"
    }
   ],
   "source": [
    "sid.polarity_scores(df.loc[2]['post_text'])"
   ]
  },
  {
   "cell_type": "markdown",
   "id": "719b75da",
   "metadata": {},
   "source": [
    "## Find the polarity score of 3633 row in df"
   ]
  },
  {
   "cell_type": "code",
   "execution_count": 99,
   "id": "7647816f",
   "metadata": {},
   "outputs": [
    {
     "data": {
      "text/plain": [
       "{'neg': 0.0, 'neu': 0.538, 'pos': 0.462, 'compound': 0.7184}"
      ]
     },
     "execution_count": 99,
     "metadata": {},
     "output_type": "execute_result"
    }
   ],
   "source": [
    "sid.polarity_scores(df.loc[3633]['post_text'])"
   ]
  },
  {
   "cell_type": "markdown",
   "id": "0873bbc9",
   "metadata": {},
   "source": [
    "## Find the polarity score of 984 row in df"
   ]
  },
  {
   "cell_type": "code",
   "execution_count": 100,
   "id": "d22e0f06",
   "metadata": {},
   "outputs": [
    {
     "data": {
      "text/plain": [
       "{'neg': 0.0, 'neu': 1.0, 'pos': 0.0, 'compound': 0.0}"
      ]
     },
     "execution_count": 100,
     "metadata": {},
     "output_type": "execute_result"
    }
   ],
   "source": [
    "sid.polarity_scores(df.loc[984]['post_text'])"
   ]
  },
  {
   "cell_type": "markdown",
   "id": "d1211f08",
   "metadata": {},
   "source": [
    "## Find the polarity score of 1033 row in df"
   ]
  },
  {
   "cell_type": "code",
   "execution_count": 101,
   "id": "7cae9505",
   "metadata": {},
   "outputs": [
    {
     "data": {
      "text/plain": [
       "{'neg': 0.0, 'neu': 1.0, 'pos': 0.0, 'compound': 0.0}"
      ]
     },
     "execution_count": 101,
     "metadata": {},
     "output_type": "execute_result"
    }
   ],
   "source": [
    "sid.polarity_scores(df.loc[1033]['post_text'])"
   ]
  },
  {
   "cell_type": "markdown",
   "id": "c87b52f6",
   "metadata": {},
   "source": [
    "## Check polarity score of 10 column"
   ]
  },
  {
   "cell_type": "code",
   "execution_count": 58,
   "id": "fb288f8c",
   "metadata": {},
   "outputs": [
    {
     "data": {
      "text/plain": [
       "{'neg': 0.116, 'neu': 0.4, 'pos': 0.484, 'compound': 0.8481}"
      ]
     },
     "execution_count": 58,
     "metadata": {},
     "output_type": "execute_result"
    }
   ],
   "source": [
    "sid.polarity_scores(df.loc[10]['post_text'])"
   ]
  },
  {
   "cell_type": "markdown",
   "id": "bcb2b465",
   "metadata": {},
   "source": [
    "## Check polarity score of 23 column"
   ]
  },
  {
   "cell_type": "code",
   "execution_count": 59,
   "id": "299bab3a",
   "metadata": {},
   "outputs": [
    {
     "data": {
      "text/plain": [
       "{'neg': 0.0, 'neu': 1.0, 'pos': 0.0, 'compound': 0.0}"
      ]
     },
     "execution_count": 59,
     "metadata": {},
     "output_type": "execute_result"
    }
   ],
   "source": [
    "sid.polarity_scores(df.loc[23]['post_text'])"
   ]
  },
  {
   "cell_type": "markdown",
   "id": "c26d642b",
   "metadata": {},
   "source": [
    "## Count values in df dataframe"
   ]
  },
  {
   "cell_type": "code",
   "execution_count": 60,
   "id": "37f13dda",
   "metadata": {},
   "outputs": [
    {
     "data": {
      "text/plain": [
       "negative    2344\n",
       "positive    1666\n",
       "Name: new_labels, dtype: int64"
      ]
     },
     "execution_count": 60,
     "metadata": {},
     "output_type": "execute_result"
    }
   ],
   "source": [
    "df['new_labels'].value_counts()"
   ]
  },
  {
   "cell_type": "markdown",
   "id": "ecf6c737",
   "metadata": {},
   "source": [
    "## Check for null values"
   ]
  },
  {
   "cell_type": "code",
   "execution_count": 61,
   "id": "ab6a2f28",
   "metadata": {},
   "outputs": [
    {
     "data": {
      "text/plain": [
       "post_text     0\n",
       "new_labels    0\n",
       "labels        0\n",
       "Negative      0\n",
       "Neutral       0\n",
       "Positive      0\n",
       "Compound      0\n",
       "dtype: int64"
      ]
     },
     "execution_count": 61,
     "metadata": {},
     "output_type": "execute_result"
    }
   ],
   "source": [
    "df.isna().sum()"
   ]
  },
  {
   "cell_type": "markdown",
   "id": "b1ccc718",
   "metadata": {},
   "source": [
    "## Drop those columns who have unnecessary"
   ]
  },
  {
   "cell_type": "code",
   "execution_count": 62,
   "id": "bf7cf2d2",
   "metadata": {},
   "outputs": [
    {
     "data": {
      "text/html": [
       "<div>\n",
       "<style scoped>\n",
       "    .dataframe tbody tr th:only-of-type {\n",
       "        vertical-align: middle;\n",
       "    }\n",
       "\n",
       "    .dataframe tbody tr th {\n",
       "        vertical-align: top;\n",
       "    }\n",
       "\n",
       "    .dataframe thead th {\n",
       "        text-align: right;\n",
       "    }\n",
       "</style>\n",
       "<table border=\"1\" class=\"dataframe\">\n",
       "  <thead>\n",
       "    <tr style=\"text-align: right;\">\n",
       "      <th></th>\n",
       "      <th>post_text</th>\n",
       "      <th>new_labels</th>\n",
       "    </tr>\n",
       "  </thead>\n",
       "  <tbody>\n",
       "    <tr>\n",
       "      <th>0</th>\n",
       "      <td>start right foot first impression - square edg...</td>\n",
       "      <td>positive</td>\n",
       "    </tr>\n",
       "    <tr>\n",
       "      <th>1</th>\n",
       "      <td>getting crop top + wide trousers combo right s...</td>\n",
       "      <td>positive</td>\n",
       "    </tr>\n",
       "    <tr>\n",
       "      <th>2</th>\n",
       "      <td>sweet dreams made - bubble dream heel sandals ...</td>\n",
       "      <td>positive</td>\n",
       "    </tr>\n",
       "    <tr>\n",
       "      <th>3</th>\n",
       "      <td>@annavanticalopez: \"disney’s ceo, bob iger, bi...</td>\n",
       "      <td>positive</td>\n",
       "    </tr>\n",
       "    <tr>\n",
       "      <th>4</th>\n",
       "      <td>@annavanticalopez: \"when first started modelli...</td>\n",
       "      <td>positive</td>\n",
       "    </tr>\n",
       "    <tr>\n",
       "      <th>...</th>\n",
       "      <td>...</td>\n",
       "      <td>...</td>\n",
       "    </tr>\n",
       "    <tr>\n",
       "      <th>4005</th>\n",
       "      <td>flush blush pop pink, embrace season's colour ...</td>\n",
       "      <td>positive</td>\n",
       "    </tr>\n",
       "    <tr>\n",
       "      <th>4006</th>\n",
       "      <td>none</td>\n",
       "      <td>negative</td>\n",
       "    </tr>\n",
       "    <tr>\n",
       "      <th>4007</th>\n",
       "      <td>none</td>\n",
       "      <td>negative</td>\n",
       "    </tr>\n",
       "    <tr>\n",
       "      <th>4008</th>\n",
       "      <td>none</td>\n",
       "      <td>negative</td>\n",
       "    </tr>\n",
       "    <tr>\n",
       "      <th>4009</th>\n",
       "      <td>none</td>\n",
       "      <td>negative</td>\n",
       "    </tr>\n",
       "  </tbody>\n",
       "</table>\n",
       "<p>4010 rows × 2 columns</p>\n",
       "</div>"
      ],
      "text/plain": [
       "                                              post_text new_labels\n",
       "0     start right foot first impression - square edg...   positive\n",
       "1     getting crop top + wide trousers combo right s...   positive\n",
       "2     sweet dreams made - bubble dream heel sandals ...   positive\n",
       "3     @annavanticalopez: \"disney’s ceo, bob iger, bi...   positive\n",
       "4     @annavanticalopez: \"when first started modelli...   positive\n",
       "...                                                 ...        ...\n",
       "4005  flush blush pop pink, embrace season's colour ...   positive\n",
       "4006                                               none   negative\n",
       "4007                                               none   negative\n",
       "4008                                               none   negative\n",
       "4009                                               none   negative\n",
       "\n",
       "[4010 rows x 2 columns]"
      ]
     },
     "execution_count": 62,
     "metadata": {},
     "output_type": "execute_result"
    }
   ],
   "source": [
    "df.drop(['labels', 'Negative', 'Neutral', 'Positive', 'Compound'], axis=1, inplace=True)\n",
    "df"
   ]
  },
  {
   "cell_type": "markdown",
   "id": "f93154ae",
   "metadata": {},
   "source": [
    "## Check no of rows and columns in dataframe"
   ]
  },
  {
   "cell_type": "code",
   "execution_count": 63,
   "id": "799446c3",
   "metadata": {},
   "outputs": [
    {
     "data": {
      "text/plain": [
       "(4010, 2)"
      ]
     },
     "execution_count": 63,
     "metadata": {},
     "output_type": "execute_result"
    }
   ],
   "source": [
    "df.shape"
   ]
  },
  {
   "cell_type": "markdown",
   "id": "4ea4c596",
   "metadata": {},
   "source": [
    "## Check for null values"
   ]
  },
  {
   "cell_type": "code",
   "execution_count": 64,
   "id": "3df9e557",
   "metadata": {},
   "outputs": [
    {
     "data": {
      "text/plain": [
       "post_text     0\n",
       "new_labels    0\n",
       "dtype: int64"
      ]
     },
     "execution_count": 64,
     "metadata": {},
     "output_type": "execute_result"
    }
   ],
   "source": [
    "df.isna().sum()"
   ]
  },
  {
   "cell_type": "markdown",
   "id": "e2f0b7dc",
   "metadata": {},
   "source": [
    "## Replace labels pos and neg as 1, 0"
   ]
  },
  {
   "cell_type": "code",
   "execution_count": 65,
   "id": "00a1cc27",
   "metadata": {},
   "outputs": [],
   "source": [
    "df['new_labels'].replace(['positive', 'negative'], [1, 0], inplace=True)"
   ]
  },
  {
   "cell_type": "markdown",
   "id": "a5bb33c3",
   "metadata": {},
   "source": [
    "## See the count values of 1, 0 of labels column"
   ]
  },
  {
   "cell_type": "code",
   "execution_count": 66,
   "id": "721858a6",
   "metadata": {},
   "outputs": [
    {
     "data": {
      "text/plain": [
       "<AxesSubplot:xlabel='new_labels', ylabel='count'>"
      ]
     },
     "execution_count": 66,
     "metadata": {},
     "output_type": "execute_result"
    },
    {
     "data": {
      "image/png": "[encoded data removed]",
      "text/plain": [
       "<Figure size 432x288 with 1 Axes>"
      ]
     },
     "metadata": {
      "needs_background": "light"
     },
     "output_type": "display_data"
    }
   ],
   "source": [
    "sns.countplot(df['new_labels'])"
   ]
  },
  {
   "cell_type": "markdown",
   "id": "dccbf8bf",
   "metadata": {},
   "source": [
    "## Create dependent and independent variables"
   ]
  },
  {
   "cell_type": "code",
   "execution_count": 67,
   "id": "b112cc0e",
   "metadata": {},
   "outputs": [
    {
     "data": {
      "text/html": [
       "<div>\n",
       "<style scoped>\n",
       "    .dataframe tbody tr th:only-of-type {\n",
       "        vertical-align: middle;\n",
       "    }\n",
       "\n",
       "    .dataframe tbody tr th {\n",
       "        vertical-align: top;\n",
       "    }\n",
       "\n",
       "    .dataframe thead th {\n",
       "        text-align: right;\n",
       "    }\n",
       "</style>\n",
       "<table border=\"1\" class=\"dataframe\">\n",
       "  <thead>\n",
       "    <tr style=\"text-align: right;\">\n",
       "      <th></th>\n",
       "      <th>post_text</th>\n",
       "    </tr>\n",
       "  </thead>\n",
       "  <tbody>\n",
       "    <tr>\n",
       "      <th>0</th>\n",
       "      <td>start right foot first impression - square edg...</td>\n",
       "    </tr>\n",
       "    <tr>\n",
       "      <th>1</th>\n",
       "      <td>getting crop top + wide trousers combo right s...</td>\n",
       "    </tr>\n",
       "    <tr>\n",
       "      <th>2</th>\n",
       "      <td>sweet dreams made - bubble dream heel sandals ...</td>\n",
       "    </tr>\n",
       "    <tr>\n",
       "      <th>3</th>\n",
       "      <td>@annavanticalopez: \"disney’s ceo, bob iger, bi...</td>\n",
       "    </tr>\n",
       "    <tr>\n",
       "      <th>4</th>\n",
       "      <td>@annavanticalopez: \"when first started modelli...</td>\n",
       "    </tr>\n",
       "    <tr>\n",
       "      <th>...</th>\n",
       "      <td>...</td>\n",
       "    </tr>\n",
       "    <tr>\n",
       "      <th>4005</th>\n",
       "      <td>flush blush pop pink, embrace season's colour ...</td>\n",
       "    </tr>\n",
       "    <tr>\n",
       "      <th>4006</th>\n",
       "      <td>none</td>\n",
       "    </tr>\n",
       "    <tr>\n",
       "      <th>4007</th>\n",
       "      <td>none</td>\n",
       "    </tr>\n",
       "    <tr>\n",
       "      <th>4008</th>\n",
       "      <td>none</td>\n",
       "    </tr>\n",
       "    <tr>\n",
       "      <th>4009</th>\n",
       "      <td>none</td>\n",
       "    </tr>\n",
       "  </tbody>\n",
       "</table>\n",
       "<p>4010 rows × 1 columns</p>\n",
       "</div>"
      ],
      "text/plain": [
       "                                              post_text\n",
       "0     start right foot first impression - square edg...\n",
       "1     getting crop top + wide trousers combo right s...\n",
       "2     sweet dreams made - bubble dream heel sandals ...\n",
       "3     @annavanticalopez: \"disney’s ceo, bob iger, bi...\n",
       "4     @annavanticalopez: \"when first started modelli...\n",
       "...                                                 ...\n",
       "4005  flush blush pop pink, embrace season's colour ...\n",
       "4006                                               none\n",
       "4007                                               none\n",
       "4008                                               none\n",
       "4009                                               none\n",
       "\n",
       "[4010 rows x 1 columns]"
      ]
     },
     "execution_count": 67,
     "metadata": {},
     "output_type": "execute_result"
    }
   ],
   "source": [
    "X=df.drop(['new_labels'], axis=1)\n",
    "X"
   ]
  },
  {
   "cell_type": "code",
   "execution_count": 68,
   "id": "6e16dae4",
   "metadata": {},
   "outputs": [
    {
     "data": {
      "text/plain": [
       "0       1\n",
       "1       1\n",
       "2       1\n",
       "3       1\n",
       "4       1\n",
       "       ..\n",
       "4005    1\n",
       "4006    0\n",
       "4007    0\n",
       "4008    0\n",
       "4009    0\n",
       "Name: new_labels, Length: 4010, dtype: int64"
      ]
     },
     "execution_count": 68,
     "metadata": {},
     "output_type": "execute_result"
    }
   ],
   "source": [
    "y=df['new_labels']\n",
    "y"
   ]
  },
  {
   "cell_type": "markdown",
   "id": "53452962",
   "metadata": {},
   "source": [
    "## See y variable on countplot"
   ]
  },
  {
   "cell_type": "code",
   "execution_count": 69,
   "id": "fd8b61a7",
   "metadata": {},
   "outputs": [
    {
     "data": {
      "text/plain": [
       "<AxesSubplot:xlabel='new_labels', ylabel='count'>"
      ]
     },
     "execution_count": 69,
     "metadata": {},
     "output_type": "execute_result"
    },
    {
     "data": {
      "image/png": "[encoded data removed]",
      "text/plain": [
       "<Figure size 432x288 with 1 Axes>"
      ]
     },
     "metadata": {
      "needs_background": "light"
     },
     "output_type": "display_data"
    }
   ],
   "source": [
    "sns.countplot(y)"
   ]
  },
  {
   "cell_type": "markdown",
   "id": "3a9fcd3a",
   "metadata": {},
   "source": [
    "## Use NLP for text classification convert X['post_text'] to vectors using tfidf"
   ]
  },
  {
   "cell_type": "code",
   "execution_count": 70,
   "id": "c26083a1",
   "metadata": {},
   "outputs": [],
   "source": [
    "cv=CountVectorizer(stop_words=\"english\")"
   ]
  },
  {
   "cell_type": "code",
   "execution_count": 71,
   "id": "27a7c591",
   "metadata": {},
   "outputs": [],
   "source": [
    "from nltk.tokenize import word_tokenize\n",
    "X = X['post_text'].apply(lambda x: word_tokenize(x))"
   ]
  },
  {
   "cell_type": "code",
   "execution_count": 72,
   "id": "ae72ee2a",
   "metadata": {},
   "outputs": [
    {
     "data": {
      "text/plain": [
       "0    [start, right, foot, first, impression, -, squ...\n",
       "1    [getting, crop, top, +, wide, trousers, combo,...\n",
       "2    [sweet, dreams, made, -, bubble, dream, heel, ...\n",
       "3    [@, annavanticalopez, :, ``, disney, ’, s, ceo...\n",
       "4    [@, annavanticalopez, :, ``, when, first, star...\n",
       "Name: post_text, dtype: object"
      ]
     },
     "execution_count": 72,
     "metadata": {},
     "output_type": "execute_result"
    }
   ],
   "source": [
    "X.head()"
   ]
  },
  {
   "cell_type": "code",
   "execution_count": 73,
   "id": "47587c15",
   "metadata": {},
   "outputs": [
    {
     "data": {
      "text/plain": [
       "0       [start, right, foot, first, impression, square...\n",
       "1       [getting, crop, top, wide, trousers, combo, ri...\n",
       "2       [sweet, dreams, made, bubble, dream, heel, san...\n",
       "3       [annavanticalopez, disney, s, ceo, bob, iger, ...\n",
       "4       [annavanticalopez, when, first, started, model...\n",
       "                              ...                        \n",
       "4005    [flush, blush, pop, pink, embrace, season, col...\n",
       "4006                                               [none]\n",
       "4007                                               [none]\n",
       "4008                                               [none]\n",
       "4009                                               [none]\n",
       "Name: post_text, Length: 4010, dtype: object"
      ]
     },
     "execution_count": 73,
     "metadata": {},
     "output_type": "execute_result"
    }
   ],
   "source": [
    "X = X.apply(lambda x: [word for word in x if word.isalpha()])\n",
    "X"
   ]
  },
  {
   "cell_type": "code",
   "execution_count": 74,
   "id": "8826ae00",
   "metadata": {},
   "outputs": [
    {
     "name": "stderr",
     "output_type": "stream",
     "text": [
      "[nltk_data] Downloading package wordnet to\n",
      "[nltk_data]     C:\\Users\\ASAD\\AppData\\Roaming\\nltk_data...\n",
      "[nltk_data]   Package wordnet is already up-to-date!\n"
     ]
    },
    {
     "data": {
      "text/plain": [
       "True"
      ]
     },
     "execution_count": 74,
     "metadata": {},
     "output_type": "execute_result"
    }
   ],
   "source": [
    "from nltk.stem import WordNetLemmatizer\n",
    "nltk.download('wordnet')"
   ]
  },
  {
   "cell_type": "code",
   "execution_count": 75,
   "id": "6cc47df9",
   "metadata": {},
   "outputs": [
    {
     "data": {
      "text/plain": [
       "0       [start, right, foot, first, impression, square...\n",
       "1       [getting, crop, top, wide, trouser, combo, rig...\n",
       "2       [sweet, dream, made, bubble, dream, heel, sand...\n",
       "3       [annavanticalopez, disney, s, ceo, bob, iger, ...\n",
       "4       [annavanticalopez, when, first, started, model...\n",
       "                              ...                        \n",
       "4005    [flush, blush, pop, pink, embrace, season, col...\n",
       "4006                                               [none]\n",
       "4007                                               [none]\n",
       "4008                                               [none]\n",
       "4009                                               [none]\n",
       "Name: post_text, Length: 4010, dtype: object"
      ]
     },
     "execution_count": 75,
     "metadata": {},
     "output_type": "execute_result"
    }
   ],
   "source": [
    "X = X.apply(lambda x: [WordNetLemmatizer().lemmatize(word) for word in x])\n",
    "X"
   ]
  },
  {
   "cell_type": "code",
   "execution_count": 76,
   "id": "ec938c3d",
   "metadata": {},
   "outputs": [],
   "source": [
    "Tfidf_vect = TfidfVectorizer()\n",
    "X = Tfidf_vect.fit_transform(X.astype(str))"
   ]
  },
  {
   "cell_type": "code",
   "execution_count": 77,
   "id": "755591ff",
   "metadata": {},
   "outputs": [
    {
     "data": {
      "text/plain": [
       "TfidfVectorizer()"
      ]
     },
     "execution_count": 77,
     "metadata": {},
     "output_type": "execute_result"
    }
   ],
   "source": [
    "Tfidf_vect"
   ]
  },
  {
   "cell_type": "code",
   "execution_count": 78,
   "id": "d11b471d",
   "metadata": {},
   "outputs": [
    {
     "name": "stdout",
     "output_type": "stream",
     "text": [
      "  (0, 1947)\t0.2350099366370296\n",
      "  (0, 1059)\t0.19052057268493836\n",
      "  (0, 376)\t0.2718902131801578\n",
      "  (0, 2107)\t0.25540632757360954\n",
      "  (0, 3936)\t0.22518518578668686\n",
      "  (0, 3266)\t0.15297582515078356\n",
      "  (0, 3117)\t0.20241180039850096\n",
      "  (0, 1679)\t0.17429792753981763\n",
      "  (0, 1125)\t0.3386367171004082\n",
      "  (0, 3450)\t0.30574180307134474\n",
      "  (0, 1796)\t0.3281916909485885\n",
      "  (0, 1396)\t0.2660794887630974\n",
      "  (0, 1438)\t0.26087101059004353\n",
      "  (0, 3054)\t0.27506834503576677\n",
      "  (0, 3468)\t0.30574180307134474\n",
      "  (1, 743)\t0.35059060449084833\n",
      "  (1, 3823)\t0.35059060449084833\n",
      "  (1, 4054)\t0.2217729710835412\n",
      "  (1, 3775)\t0.22543027763212858\n",
      "  (1, 888)\t0.36793008658644677\n",
      "  (1, 1525)\t0.30864600572922285\n",
      "  (1, 1947)\t0.19978782527144467\n",
      "  (1, 1059)\t0.16196630419497118\n",
      "  (1, 2107)\t0.21712730736704317\n",
      "  (1, 3936)\t0.19143555883406688\n",
      "  :\t:\n",
      "  (4004, 3712)\t0.30900715042088833\n",
      "  (4004, 1748)\t0.11125294819878268\n",
      "  (4004, 2561)\t0.21357879275798886\n",
      "  (4004, 4094)\t0.2497191610248712\n",
      "  (4004, 3557)\t0.17571511377813376\n",
      "  (4004, 3166)\t0.19633310158261041\n",
      "  (4004, 1252)\t0.241639486166066\n",
      "  (4004, 199)\t0.34816634698926047\n",
      "  (4004, 2136)\t0.176366824031201\n",
      "  (4004, 3266)\t0.14913433115317085\n",
      "  (4005, 1426)\t0.44761039997919017\n",
      "  (4005, 1166)\t0.3999397806875798\n",
      "  (4005, 3712)\t0.32781691791466583\n",
      "  (4005, 1748)\t0.11802509598166103\n",
      "  (4005, 2749)\t0.3332983670394637\n",
      "  (4005, 401)\t0.3463731630799776\n",
      "  (4005, 3166)\t0.20828421658778432\n",
      "  (4005, 655)\t0.30672233283125955\n",
      "  (4005, 2702)\t0.25768253851480594\n",
      "  (4005, 734)\t0.24154652731850398\n",
      "  (4005, 3266)\t0.15821238028734239\n",
      "  (4006, 2453)\t1.0\n",
      "  (4007, 2453)\t1.0\n",
      "  (4008, 2453)\t1.0\n",
      "  (4009, 2453)\t1.0\n"
     ]
    }
   ],
   "source": [
    "print(X)"
   ]
  },
  {
   "cell_type": "markdown",
   "id": "e4ae021e",
   "metadata": {},
   "source": [
    "## Train model on 70% data"
   ]
  },
  {
   "cell_type": "code",
   "execution_count": 79,
   "id": "7a803491",
   "metadata": {},
   "outputs": [
    {
     "name": "stdout",
     "output_type": "stream",
     "text": [
      "(2807, 4231) (2807,)\n",
      "(1203, 4231) (1203,)\n"
     ]
    }
   ],
   "source": [
    "X_train, X_test, y_train, y_test = train_test_split(X, y, test_size=0.3, random_state=25)\n",
    "print(X_train.shape, y_train.shape)\n",
    "print(X_test.shape, y_test.shape)"
   ]
  },
  {
   "cell_type": "code",
   "execution_count": 80,
   "id": "eec43cd2",
   "metadata": {},
   "outputs": [
    {
     "name": "stdout",
     "output_type": "stream",
     "text": [
      "  (0, 2453)\t1.0\n",
      "  (1, 3042)\t0.4260230318690522\n",
      "  (1, 817)\t0.342387722582339\n",
      "  (1, 1042)\t0.16316227786676152\n",
      "  (1, 2361)\t0.16175037907908943\n",
      "  (1, 1748)\t0.117888733478802\n",
      "  (1, 1439)\t0.2777845008399355\n",
      "  (1, 3807)\t0.2694892342161558\n",
      "  (1, 1191)\t0.27122157927777746\n",
      "  (1, 2483)\t0.38199274150247325\n",
      "  (1, 2039)\t0.22343018065085984\n",
      "  (1, 1332)\t0.22204435080578191\n",
      "  (1, 3722)\t0.3498240351139461\n",
      "  (1, 3117)\t0.20909874563037126\n",
      "  (2, 2453)\t1.0\n",
      "  (3, 2453)\t1.0\n",
      "  (4, 2453)\t1.0\n",
      "  (5, 2453)\t1.0\n",
      "  (6, 1919)\t0.34213104459164656\n",
      "  (6, 2231)\t0.3324606473425553\n",
      "  (6, 3897)\t0.28743592931822554\n",
      "  (6, 2807)\t0.2301094200271402\n",
      "  (6, 1999)\t0.30129943796677805\n",
      "  (6, 3478)\t0.30129943796677805\n",
      "  (6, 1748)\t0.10932442986031603\n",
      "  :\t:\n",
      "  (2801, 2131)\t0.3157208818119816\n",
      "  (2802, 2453)\t1.0\n",
      "  (2803, 2951)\t0.403815373383496\n",
      "  (2803, 1799)\t0.36080893535265696\n",
      "  (2803, 3404)\t0.36080893535265696\n",
      "  (2803, 2507)\t0.3522516069183645\n",
      "  (2803, 810)\t0.3062160299763112\n",
      "  (2803, 994)\t0.19843762956944214\n",
      "  (2803, 2433)\t0.16817236505984154\n",
      "  (2803, 115)\t0.23009342199203156\n",
      "  (2803, 1282)\t0.2383043624120013\n",
      "  (2803, 2337)\t0.2736829155072496\n",
      "  (2803, 729)\t0.2828007408653456\n",
      "  (2803, 1679)\t0.16262696733752044\n",
      "  (2804, 29)\t0.46622366447994645\n",
      "  (2804, 3232)\t0.40147441352987046\n",
      "  (2804, 1748)\t0.2674096982302048\n",
      "  (2804, 3166)\t0.2359549849995816\n",
      "  (2804, 381)\t0.25626153595270595\n",
      "  (2804, 2690)\t0.34747070434755695\n",
      "  (2804, 1523)\t0.20404008420101377\n",
      "  (2804, 337)\t0.37136772635176507\n",
      "  (2804, 3450)\t0.35821624611531944\n",
      "  (2805, 2453)\t1.0\n",
      "  (2806, 2453)\t1.0\n"
     ]
    }
   ],
   "source": [
    "print(X_train)"
   ]
  },
  {
   "cell_type": "markdown",
   "id": "0a94093c",
   "metadata": {},
   "source": [
    "## Train at least three classification algorithms"
   ]
  },
  {
   "cell_type": "code",
   "execution_count": 81,
   "id": "c05ee73e",
   "metadata": {},
   "outputs": [
    {
     "data": {
      "text/plain": [
       "DecisionTreeClassifier(random_state=25)"
      ]
     },
     "execution_count": 81,
     "metadata": {},
     "output_type": "execute_result"
    }
   ],
   "source": [
    "#Decision Tree Classifier.\n",
    "dt_clf=DecisionTreeClassifier(random_state=25)\n",
    "dt_clf.fit(X_train, y_train)"
   ]
  },
  {
   "cell_type": "code",
   "execution_count": 82,
   "id": "3d51ae03",
   "metadata": {},
   "outputs": [],
   "source": [
    "dt_pred = dt_clf.predict(X_test)"
   ]
  },
  {
   "cell_type": "code",
   "execution_count": 83,
   "id": "69039e4a",
   "metadata": {},
   "outputs": [
    {
     "name": "stdout",
     "output_type": "stream",
     "text": [
      "[[631  88]\n",
      " [105 379]]\n",
      "              precision    recall  f1-score   support\n",
      "\n",
      "           0       0.86      0.88      0.87       719\n",
      "           1       0.81      0.78      0.80       484\n",
      "\n",
      "    accuracy                           0.84      1203\n",
      "   macro avg       0.83      0.83      0.83      1203\n",
      "weighted avg       0.84      0.84      0.84      1203\n",
      "\n"
     ]
    },
    {
     "data": {
      "text/plain": [
       "84"
      ]
     },
     "execution_count": 83,
     "metadata": {},
     "output_type": "execute_result"
    }
   ],
   "source": [
    "print(confusion_matrix(y_test,dt_pred))\n",
    "print(classification_report(y_test,dt_pred))\n",
    "Decision_Tree_Accuracy = round(accuracy_score(y_test, dt_pred)*100)\n",
    "Decision_Tree_Accuracy"
   ]
  },
  {
   "cell_type": "code",
   "execution_count": 84,
   "id": "0f5166ca",
   "metadata": {},
   "outputs": [
    {
     "name": "stdout",
     "output_type": "stream",
     "text": [
      "AUC: 0.8303328199174703\n"
     ]
    },
    {
     "data": {
      "image/png": "[encoded data removed]",
      "text/plain": [
       "<Figure size 720x432 with 1 Axes>"
      ]
     },
     "metadata": {
      "needs_background": "light"
     },
     "output_type": "display_data"
    }
   ],
   "source": [
    "# Roc auc curve\n",
    "fpr, tpr, thresholds = roc_curve(y_test, dt_pred)\n",
    "auc = roc_auc_score(y_test, dt_pred)\n",
    "print('AUC:', auc)\n",
    "\n",
    "plt.figure(figsize = (10, 6))\n",
    "plt.plot(fpr, tpr, color = 'red', label = 'ROC curve (area = %f)' % auc)\n",
    "plt.plot([-0.05, 1.05], [-0.05, 1.05], linestyle = '--', color = 'darkgreen')\n",
    "plt.xlim([-0.05, 1.05])\n",
    "plt.ylim([-0.05, 1.05])\n",
    "plt.xlabel('False Positive Rate')\n",
    "plt.ylabel('True Positive Rate')\n",
    "plt.title('ROC_AUC Curve')\n",
    "plt.legend(loc = \"lower right\")\n",
    "plt.show()"
   ]
  },
  {
   "cell_type": "code",
   "execution_count": 85,
   "id": "abe73c3b",
   "metadata": {},
   "outputs": [],
   "source": [
    "#Logistic regression.\n",
    "lr_model = LogisticRegression(random_state=25)"
   ]
  },
  {
   "cell_type": "code",
   "execution_count": 86,
   "id": "39c0ba5f",
   "metadata": {},
   "outputs": [
    {
     "data": {
      "text/plain": [
       "LogisticRegression(random_state=25)"
      ]
     },
     "execution_count": 86,
     "metadata": {},
     "output_type": "execute_result"
    }
   ],
   "source": [
    "lr_model.fit(X_train, y_train)"
   ]
  },
  {
   "cell_type": "code",
   "execution_count": 87,
   "id": "da40a803",
   "metadata": {},
   "outputs": [
    {
     "data": {
      "text/plain": [
       "0.9291058069112932"
      ]
     },
     "execution_count": 87,
     "metadata": {},
     "output_type": "execute_result"
    }
   ],
   "source": [
    "lr_model.score(X_train, y_train)"
   ]
  },
  {
   "cell_type": "code",
   "execution_count": 88,
   "id": "09bb1ebb",
   "metadata": {},
   "outputs": [],
   "source": [
    "pred_1 = lr_model.predict(X_test)"
   ]
  },
  {
   "cell_type": "code",
   "execution_count": 89,
   "id": "23c81ba4",
   "metadata": {},
   "outputs": [
    {
     "name": "stdout",
     "output_type": "stream",
     "text": [
      "[[558 161]\n",
      " [ 24 460]]\n",
      "              precision    recall  f1-score   support\n",
      "\n",
      "           0       0.96      0.78      0.86       719\n",
      "           1       0.74      0.95      0.83       484\n",
      "\n",
      "    accuracy                           0.85      1203\n",
      "   macro avg       0.85      0.86      0.85      1203\n",
      "weighted avg       0.87      0.85      0.85      1203\n",
      "\n",
      "85\n"
     ]
    }
   ],
   "source": [
    "print(confusion_matrix(y_test,pred_1))\n",
    "print(classification_report(y_test,pred_1))\n",
    "Logistic_regression_Accuracy = round(accuracy_score(y_test, pred_1)*100)\n",
    "print(Logistic_regression_Accuracy)"
   ]
  },
  {
   "cell_type": "code",
   "execution_count": 90,
   "id": "fe880f14",
   "metadata": {},
   "outputs": [
    {
     "name": "stdout",
     "output_type": "stream",
     "text": [
      "AUC: 0.863245554546604\n"
     ]
    },
    {
     "data": {
      "image/png": "[encoded data removed]",
      "text/plain": [
       "<Figure size 720x432 with 1 Axes>"
      ]
     },
     "metadata": {
      "needs_background": "light"
     },
     "output_type": "display_data"
    }
   ],
   "source": [
    "# Roc auc curve\n",
    "fpr, tpr, thresholds = roc_curve(y_test, pred_1)\n",
    "auc = roc_auc_score(y_test, pred_1)\n",
    "print('AUC:', auc)\n",
    "\n",
    "plt.figure(figsize = (10, 6))\n",
    "plt.plot(fpr, tpr, color = 'red', label = 'ROC curve (area = %f)' % auc)\n",
    "plt.plot([-0.05, 1.05], [-0.05, 1.05], linestyle = '--', color = 'darkgreen')\n",
    "plt.xlim([-0.05, 1.05])\n",
    "plt.ylim([-0.05, 1.05])\n",
    "plt.xlabel('False Positive Rate')\n",
    "plt.ylabel('True Positive Rate')\n",
    "plt.title('ROC_AUC Curve')\n",
    "plt.legend(loc = \"lower right\")\n",
    "plt.show()"
   ]
  },
  {
   "cell_type": "code",
   "execution_count": 91,
   "id": "6653cb36",
   "metadata": {},
   "outputs": [],
   "source": [
    "#Multinomial Naive bayes algorithm. \n",
    "from sklearn.naive_bayes import MultinomialNB"
   ]
  },
  {
   "cell_type": "code",
   "execution_count": 92,
   "id": "574801a4",
   "metadata": {},
   "outputs": [],
   "source": [
    "clf = MultinomialNB()"
   ]
  },
  {
   "cell_type": "code",
   "execution_count": 93,
   "id": "efc35246",
   "metadata": {},
   "outputs": [
    {
     "data": {
      "text/plain": [
       "MultinomialNB()"
      ]
     },
     "execution_count": 93,
     "metadata": {},
     "output_type": "execute_result"
    }
   ],
   "source": [
    "clf.fit(X_train, y_train)"
   ]
  },
  {
   "cell_type": "code",
   "execution_count": 94,
   "id": "703ae4e7",
   "metadata": {},
   "outputs": [],
   "source": [
    "pred_2 = clf.predict(X_test)"
   ]
  },
  {
   "cell_type": "code",
   "execution_count": 95,
   "id": "87a6c0b2",
   "metadata": {},
   "outputs": [
    {
     "name": "stdout",
     "output_type": "stream",
     "text": [
      "[[583 136]\n",
      " [ 41 443]]\n",
      "              precision    recall  f1-score   support\n",
      "\n",
      "           0       0.93      0.81      0.87       719\n",
      "           1       0.77      0.92      0.83       484\n",
      "\n",
      "    accuracy                           0.85      1203\n",
      "   macro avg       0.85      0.86      0.85      1203\n",
      "weighted avg       0.87      0.85      0.85      1203\n",
      "\n",
      "85\n"
     ]
    }
   ],
   "source": [
    "print(confusion_matrix(y_test,pred_2))\n",
    "print(classification_report(y_test,pred_2))\n",
    "Multinomial_naive_bayes = round(accuracy_score(y_test, pred_2)*100)\n",
    "print(Multinomial_naive_bayes)"
   ]
  },
  {
   "cell_type": "code",
   "execution_count": 96,
   "id": "2be4c06f",
   "metadata": {},
   "outputs": [
    {
     "name": "stdout",
     "output_type": "stream",
     "text": [
      "AUC: 0.8630688283773377\n"
     ]
    },
    {
     "data": {
      "image/png": "[encoded data removed]",
      "text/plain": [
       "<Figure size 720x432 with 1 Axes>"
      ]
     },
     "metadata": {
      "needs_background": "light"
     },
     "output_type": "display_data"
    }
   ],
   "source": [
    "# Roc auc curve\n",
    "fpr, tpr, thresholds = roc_curve(y_test, pred_2)\n",
    "auc = roc_auc_score(y_test, pred_2)\n",
    "print('AUC:', auc)\n",
    "\n",
    "plt.figure(figsize = (10, 6))\n",
    "plt.plot(fpr, tpr, color = 'red', label = 'ROC curve (area = %f)' % auc)\n",
    "plt.plot([-0.05, 1.05], [-0.05, 1.05], linestyle = '--', color = 'darkgreen')\n",
    "plt.xlim([-0.05, 1.05])\n",
    "plt.ylim([-0.05, 1.05])\n",
    "plt.xlabel('False Positive Rate')\n",
    "plt.ylabel('True Positive Rate')\n",
    "plt.title('ROC_AUC Curve')\n",
    "plt.legend(loc = \"lower right\")\n",
    "plt.show()"
   ]
  },
  {
   "cell_type": "markdown",
   "id": "4169574c",
   "metadata": {},
   "source": [
    "## Create a dataframe from algorithm results"
   ]
  },
  {
   "cell_type": "code",
   "execution_count": 97,
   "id": "b8e61d1a",
   "metadata": {},
   "outputs": [
    {
     "data": {
      "text/html": [
       "<div>\n",
       "<style scoped>\n",
       "    .dataframe tbody tr th:only-of-type {\n",
       "        vertical-align: middle;\n",
       "    }\n",
       "\n",
       "    .dataframe tbody tr th {\n",
       "        vertical-align: top;\n",
       "    }\n",
       "\n",
       "    .dataframe thead th {\n",
       "        text-align: right;\n",
       "    }\n",
       "</style>\n",
       "<table border=\"1\" class=\"dataframe\">\n",
       "  <thead>\n",
       "    <tr style=\"text-align: right;\">\n",
       "      <th></th>\n",
       "      <th>Models</th>\n",
       "      <th>Accuracy of Models</th>\n",
       "    </tr>\n",
       "  </thead>\n",
       "  <tbody>\n",
       "    <tr>\n",
       "      <th>0</th>\n",
       "      <td>Decision Tree Classifier</td>\n",
       "      <td>84</td>\n",
       "    </tr>\n",
       "    <tr>\n",
       "      <th>1</th>\n",
       "      <td>Logistic Regression</td>\n",
       "      <td>85</td>\n",
       "    </tr>\n",
       "    <tr>\n",
       "      <th>2</th>\n",
       "      <td>Multinomial Naive Bayes</td>\n",
       "      <td>85</td>\n",
       "    </tr>\n",
       "  </tbody>\n",
       "</table>\n",
       "</div>"
      ],
      "text/plain": [
       "                     Models  Accuracy of Models\n",
       "0  Decision Tree Classifier                  84\n",
       "1       Logistic Regression                  85\n",
       "2   Multinomial Naive Bayes                  85"
      ]
     },
     "metadata": {},
     "output_type": "display_data"
    }
   ],
   "source": [
    "data = {'Models': ['Decision Tree Classifier', 'Logistic Regression',  'Multinomial Naive Bayes'], 'Accuracy of Models': [Decision_Tree_Accuracy, Logistic_regression_Accuracy, Multinomial_naive_bayes]}\n",
    "data1 = pd.DataFrame(data)\n",
    "display(data1)"
   ]
  },
  {
   "cell_type": "markdown",
   "id": "36c41219",
   "metadata": {},
   "source": [
    "## Create a barplot from dataframe"
   ]
  },
  {
   "cell_type": "code",
   "execution_count": 98,
   "id": "fb555275",
   "metadata": {},
   "outputs": [
    {
     "data": {
      "image/png": "[encoded data removed]",
      "text/plain": [
       "<Figure size 720x360 with 1 Axes>"
      ]
     },
     "metadata": {
      "needs_background": "light"
     },
     "output_type": "display_data"
    }
   ],
   "source": [
    "#Create barplot on the above dataframe.\n",
    "data1.plot(x='Models', y='Accuracy of Models', kind='bar', color = ['red', 'green', 'yellow'], figsize = (10, 5),legend=None)\n",
    "plt.show()"
   ]
  },
  {
   "cell_type": "code",
   "execution_count": null,
   "id": "6abfd323",
   "metadata": {},
   "outputs": [],
   "source": []
  }
 ],
 "metadata": {
  "kernelspec": {
   "display_name": "Python 3",
   "language": "python",
   "name": "python3"
  },
  "language_info": {
   "codemirror_mode": {
    "name": "ipython",
    "version": 3
   },
   "file_extension": ".py",
   "mimetype": "text/x-python",
   "name": "python",
   "nbconvert_exporter": "python",
   "pygments_lexer": "ipython3",
   "version": "3.8.8"
  }
 },
 "nbformat": 4,
 "nbformat_minor": 5
}

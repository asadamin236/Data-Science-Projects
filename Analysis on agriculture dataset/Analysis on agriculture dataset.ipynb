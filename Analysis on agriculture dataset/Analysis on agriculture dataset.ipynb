{
 "cells": [
  {
   "cell_type": "code",
   "execution_count": 1,
   "id": "d4195c48",
   "metadata": {},
   "outputs": [],
   "source": [
    "import numpy as np\n",
    "import pandas as pd\n",
    "import seaborn as sns\n",
    "import matplotlib.pyplot as plt\n",
    "from ipywidgets import interact"
   ]
  },
  {
   "cell_type": "code",
   "execution_count": 2,
   "id": "83484624",
   "metadata": {},
   "outputs": [],
   "source": [
    "Df = pd.read_csv('Crop_recommendation.csv')"
   ]
  },
  {
   "cell_type": "code",
   "execution_count": 3,
   "id": "8d01b5e5",
   "metadata": {},
   "outputs": [
    {
     "data": {
      "text/html": [
       "<div>\n",
       "<style scoped>\n",
       "    .dataframe tbody tr th:only-of-type {\n",
       "        vertical-align: middle;\n",
       "    }\n",
       "\n",
       "    .dataframe tbody tr th {\n",
       "        vertical-align: top;\n",
       "    }\n",
       "\n",
       "    .dataframe thead th {\n",
       "        text-align: right;\n",
       "    }\n",
       "</style>\n",
       "<table border=\"1\" class=\"dataframe\">\n",
       "  <thead>\n",
       "    <tr style=\"text-align: right;\">\n",
       "      <th></th>\n",
       "      <th>N</th>\n",
       "      <th>P</th>\n",
       "      <th>K</th>\n",
       "      <th>temperature</th>\n",
       "      <th>humidity</th>\n",
       "      <th>ph</th>\n",
       "      <th>rainfall</th>\n",
       "      <th>label</th>\n",
       "    </tr>\n",
       "  </thead>\n",
       "  <tbody>\n",
       "    <tr>\n",
       "      <th>0</th>\n",
       "      <td>90</td>\n",
       "      <td>42</td>\n",
       "      <td>43</td>\n",
       "      <td>20.879744</td>\n",
       "      <td>82.002744</td>\n",
       "      <td>6.502985</td>\n",
       "      <td>202.935536</td>\n",
       "      <td>rice</td>\n",
       "    </tr>\n",
       "    <tr>\n",
       "      <th>1</th>\n",
       "      <td>85</td>\n",
       "      <td>58</td>\n",
       "      <td>41</td>\n",
       "      <td>21.770462</td>\n",
       "      <td>80.319644</td>\n",
       "      <td>7.038096</td>\n",
       "      <td>226.655537</td>\n",
       "      <td>rice</td>\n",
       "    </tr>\n",
       "    <tr>\n",
       "      <th>2</th>\n",
       "      <td>60</td>\n",
       "      <td>55</td>\n",
       "      <td>44</td>\n",
       "      <td>23.004459</td>\n",
       "      <td>82.320763</td>\n",
       "      <td>7.840207</td>\n",
       "      <td>263.964248</td>\n",
       "      <td>rice</td>\n",
       "    </tr>\n",
       "    <tr>\n",
       "      <th>3</th>\n",
       "      <td>74</td>\n",
       "      <td>35</td>\n",
       "      <td>40</td>\n",
       "      <td>26.491096</td>\n",
       "      <td>80.158363</td>\n",
       "      <td>6.980401</td>\n",
       "      <td>242.864034</td>\n",
       "      <td>rice</td>\n",
       "    </tr>\n",
       "    <tr>\n",
       "      <th>4</th>\n",
       "      <td>78</td>\n",
       "      <td>42</td>\n",
       "      <td>42</td>\n",
       "      <td>20.130175</td>\n",
       "      <td>81.604873</td>\n",
       "      <td>7.628473</td>\n",
       "      <td>262.717340</td>\n",
       "      <td>rice</td>\n",
       "    </tr>\n",
       "    <tr>\n",
       "      <th>...</th>\n",
       "      <td>...</td>\n",
       "      <td>...</td>\n",
       "      <td>...</td>\n",
       "      <td>...</td>\n",
       "      <td>...</td>\n",
       "      <td>...</td>\n",
       "      <td>...</td>\n",
       "      <td>...</td>\n",
       "    </tr>\n",
       "    <tr>\n",
       "      <th>2195</th>\n",
       "      <td>107</td>\n",
       "      <td>34</td>\n",
       "      <td>32</td>\n",
       "      <td>26.774637</td>\n",
       "      <td>66.413269</td>\n",
       "      <td>6.780064</td>\n",
       "      <td>177.774507</td>\n",
       "      <td>coffee</td>\n",
       "    </tr>\n",
       "    <tr>\n",
       "      <th>2196</th>\n",
       "      <td>99</td>\n",
       "      <td>15</td>\n",
       "      <td>27</td>\n",
       "      <td>27.417112</td>\n",
       "      <td>56.636362</td>\n",
       "      <td>6.086922</td>\n",
       "      <td>127.924610</td>\n",
       "      <td>coffee</td>\n",
       "    </tr>\n",
       "    <tr>\n",
       "      <th>2197</th>\n",
       "      <td>118</td>\n",
       "      <td>33</td>\n",
       "      <td>30</td>\n",
       "      <td>24.131797</td>\n",
       "      <td>67.225123</td>\n",
       "      <td>6.362608</td>\n",
       "      <td>173.322839</td>\n",
       "      <td>coffee</td>\n",
       "    </tr>\n",
       "    <tr>\n",
       "      <th>2198</th>\n",
       "      <td>117</td>\n",
       "      <td>32</td>\n",
       "      <td>34</td>\n",
       "      <td>26.272418</td>\n",
       "      <td>52.127394</td>\n",
       "      <td>6.758793</td>\n",
       "      <td>127.175293</td>\n",
       "      <td>coffee</td>\n",
       "    </tr>\n",
       "    <tr>\n",
       "      <th>2199</th>\n",
       "      <td>104</td>\n",
       "      <td>18</td>\n",
       "      <td>30</td>\n",
       "      <td>23.603016</td>\n",
       "      <td>60.396475</td>\n",
       "      <td>6.779833</td>\n",
       "      <td>140.937041</td>\n",
       "      <td>coffee</td>\n",
       "    </tr>\n",
       "  </tbody>\n",
       "</table>\n",
       "<p>2200 rows × 8 columns</p>\n",
       "</div>"
      ],
      "text/plain": [
       "        N   P   K  temperature   humidity        ph    rainfall   label\n",
       "0      90  42  43    20.879744  82.002744  6.502985  202.935536    rice\n",
       "1      85  58  41    21.770462  80.319644  7.038096  226.655537    rice\n",
       "2      60  55  44    23.004459  82.320763  7.840207  263.964248    rice\n",
       "3      74  35  40    26.491096  80.158363  6.980401  242.864034    rice\n",
       "4      78  42  42    20.130175  81.604873  7.628473  262.717340    rice\n",
       "...   ...  ..  ..          ...        ...       ...         ...     ...\n",
       "2195  107  34  32    26.774637  66.413269  6.780064  177.774507  coffee\n",
       "2196   99  15  27    27.417112  56.636362  6.086922  127.924610  coffee\n",
       "2197  118  33  30    24.131797  67.225123  6.362608  173.322839  coffee\n",
       "2198  117  32  34    26.272418  52.127394  6.758793  127.175293  coffee\n",
       "2199  104  18  30    23.603016  60.396475  6.779833  140.937041  coffee\n",
       "\n",
       "[2200 rows x 8 columns]"
      ]
     },
     "execution_count": 3,
     "metadata": {},
     "output_type": "execute_result"
    }
   ],
   "source": [
    "Df"
   ]
  },
  {
   "cell_type": "code",
   "execution_count": 4,
   "id": "956df88e",
   "metadata": {},
   "outputs": [
    {
     "name": "stdout",
     "output_type": "stream",
     "text": [
      "Shape of dataframe = (2200, 8)\n"
     ]
    }
   ],
   "source": [
    "print(\"Shape of dataframe =\", Df.shape)"
   ]
  },
  {
   "cell_type": "code",
   "execution_count": 5,
   "id": "ed9ecd40",
   "metadata": {},
   "outputs": [
    {
     "data": {
      "text/html": [
       "<div>\n",
       "<style scoped>\n",
       "    .dataframe tbody tr th:only-of-type {\n",
       "        vertical-align: middle;\n",
       "    }\n",
       "\n",
       "    .dataframe tbody tr th {\n",
       "        vertical-align: top;\n",
       "    }\n",
       "\n",
       "    .dataframe thead th {\n",
       "        text-align: right;\n",
       "    }\n",
       "</style>\n",
       "<table border=\"1\" class=\"dataframe\">\n",
       "  <thead>\n",
       "    <tr style=\"text-align: right;\">\n",
       "      <th></th>\n",
       "      <th>N</th>\n",
       "      <th>P</th>\n",
       "      <th>K</th>\n",
       "      <th>temperature</th>\n",
       "      <th>humidity</th>\n",
       "      <th>ph</th>\n",
       "      <th>rainfall</th>\n",
       "      <th>label</th>\n",
       "    </tr>\n",
       "  </thead>\n",
       "  <tbody>\n",
       "    <tr>\n",
       "      <th>0</th>\n",
       "      <td>90</td>\n",
       "      <td>42</td>\n",
       "      <td>43</td>\n",
       "      <td>20.879744</td>\n",
       "      <td>82.002744</td>\n",
       "      <td>6.502985</td>\n",
       "      <td>202.935536</td>\n",
       "      <td>rice</td>\n",
       "    </tr>\n",
       "    <tr>\n",
       "      <th>1</th>\n",
       "      <td>85</td>\n",
       "      <td>58</td>\n",
       "      <td>41</td>\n",
       "      <td>21.770462</td>\n",
       "      <td>80.319644</td>\n",
       "      <td>7.038096</td>\n",
       "      <td>226.655537</td>\n",
       "      <td>rice</td>\n",
       "    </tr>\n",
       "    <tr>\n",
       "      <th>2</th>\n",
       "      <td>60</td>\n",
       "      <td>55</td>\n",
       "      <td>44</td>\n",
       "      <td>23.004459</td>\n",
       "      <td>82.320763</td>\n",
       "      <td>7.840207</td>\n",
       "      <td>263.964248</td>\n",
       "      <td>rice</td>\n",
       "    </tr>\n",
       "    <tr>\n",
       "      <th>3</th>\n",
       "      <td>74</td>\n",
       "      <td>35</td>\n",
       "      <td>40</td>\n",
       "      <td>26.491096</td>\n",
       "      <td>80.158363</td>\n",
       "      <td>6.980401</td>\n",
       "      <td>242.864034</td>\n",
       "      <td>rice</td>\n",
       "    </tr>\n",
       "    <tr>\n",
       "      <th>4</th>\n",
       "      <td>78</td>\n",
       "      <td>42</td>\n",
       "      <td>42</td>\n",
       "      <td>20.130175</td>\n",
       "      <td>81.604873</td>\n",
       "      <td>7.628473</td>\n",
       "      <td>262.717340</td>\n",
       "      <td>rice</td>\n",
       "    </tr>\n",
       "  </tbody>\n",
       "</table>\n",
       "</div>"
      ],
      "text/plain": [
       "    N   P   K  temperature   humidity        ph    rainfall label\n",
       "0  90  42  43    20.879744  82.002744  6.502985  202.935536  rice\n",
       "1  85  58  41    21.770462  80.319644  7.038096  226.655537  rice\n",
       "2  60  55  44    23.004459  82.320763  7.840207  263.964248  rice\n",
       "3  74  35  40    26.491096  80.158363  6.980401  242.864034  rice\n",
       "4  78  42  42    20.130175  81.604873  7.628473  262.717340  rice"
      ]
     },
     "execution_count": 5,
     "metadata": {},
     "output_type": "execute_result"
    }
   ],
   "source": [
    "Df.head()"
   ]
  },
  {
   "cell_type": "code",
   "execution_count": 6,
   "id": "8d9f5ff1",
   "metadata": {},
   "outputs": [
    {
     "data": {
      "text/plain": [
       "N              0\n",
       "P              0\n",
       "K              0\n",
       "temperature    0\n",
       "humidity       0\n",
       "ph             0\n",
       "rainfall       0\n",
       "label          0\n",
       "dtype: int64"
      ]
     },
     "execution_count": 6,
     "metadata": {},
     "output_type": "execute_result"
    }
   ],
   "source": [
    "Df.isna().sum()"
   ]
  },
  {
   "cell_type": "code",
   "execution_count": 7,
   "id": "5d6e4cfd",
   "metadata": {},
   "outputs": [
    {
     "data": {
      "text/plain": [
       "chickpea       100\n",
       "rice           100\n",
       "watermelon     100\n",
       "maize          100\n",
       "grapes         100\n",
       "apple          100\n",
       "coconut        100\n",
       "mango          100\n",
       "banana         100\n",
       "papaya         100\n",
       "blackgram      100\n",
       "mungbean       100\n",
       "orange         100\n",
       "pigeonpeas     100\n",
       "mothbeans      100\n",
       "lentil         100\n",
       "cotton         100\n",
       "muskmelon      100\n",
       "kidneybeans    100\n",
       "pomegranate    100\n",
       "coffee         100\n",
       "jute           100\n",
       "Name: label, dtype: int64"
      ]
     },
     "execution_count": 7,
     "metadata": {},
     "output_type": "execute_result"
    }
   ],
   "source": [
    "Df['label'].value_counts()"
   ]
  },
  {
   "cell_type": "code",
   "execution_count": 8,
   "id": "02868daa",
   "metadata": {},
   "outputs": [
    {
     "name": "stdout",
     "output_type": "stream",
     "text": [
      "Nitrogen summery for crops: 50.551818181818184\n",
      "Phosphorous summery for crops: 53.36272727272727\n",
      "Potassium summery for crops: 48.14909090909091\n",
      "temperature summery for crops: 25.616243851779533\n",
      "humidity summery for crops: 71.48177921778648\n",
      "ph summery for crops: 6.469480065256369\n",
      "rainfall summery for crops: 103.46365541576832\n"
     ]
    }
   ],
   "source": [
    "# Check summery for all the crops\n",
    "print(\"Nitrogen summery for crops:\", Df['N'].mean())\n",
    "print(\"Phosphorous summery for crops:\", Df['P'].mean())\n",
    "print(\"Potassium summery for crops:\", Df['K'].mean())\n",
    "print(\"temperature summery for crops:\", Df['temperature'].mean())\n",
    "print(\"humidity summery for crops:\", Df['humidity'].mean())\n",
    "print(\"ph summery for crops:\", Df['ph'].mean())\n",
    "print(\"rainfall summery for crops:\", Df['rainfall'].mean())"
   ]
  },
  {
   "cell_type": "code",
   "execution_count": 9,
   "id": "08f7ca5d",
   "metadata": {},
   "outputs": [
    {
     "data": {
      "application/vnd.jupyter.widget-view+json": {
       "model_id": "14fc4e6bb40a445b9dda373ceff070c0",
       "version_major": 2,
       "version_minor": 0
      },
      "text/plain": [
       "interactive(children=(Dropdown(description='Crops', options=('chickpea', 'rice', 'watermelon', 'maize', 'grape…"
      ]
     },
     "metadata": {},
     "output_type": "display_data"
    }
   ],
   "source": [
    "# Check statistics summary for each crops \n",
    "@interact\n",
    "def summary(Crops = list(Df['label'].value_counts().index)):\n",
    "    X = Df[Df['label']==Crops]\n",
    "    print(\"-----------------------\")\n",
    "    print('Statistics for nitrogen')\n",
    "    print('Min nitrogen required:', X['N'].min())\n",
    "    print('Max nitrogen required:', X['N'].max())\n",
    "    print('Average nitrogen required:', X['N'].mean())\n",
    "    print(\"-----------------------\")\n",
    "    print('Min Phosphorous required:', X['P'].min())\n",
    "    print('Max Phosphorous required:', X['P'].max())\n",
    "    print('Average Phosphorous required:', X['P'].mean())\n",
    "    print(\"-----------------------\")\n",
    "    print('Min Potassium  required:', X['K'].min())\n",
    "    print('Max Potassium  required:', X['K'].max())\n",
    "    print('Average Potassium  required:', X['K'].mean())\n",
    "    print(\"-----------------------\")\n",
    "    print('Min temperature  required:', X['temperature'].min())\n",
    "    print('Max temperature  required:', X['temperature'].max())\n",
    "    print('Average temperature  required:', X['temperature'].mean())\n",
    "    print(\"-----------------------\")\n",
    "    print('Min humidity  required:', X['humidity'].min())\n",
    "    print('Max humidity  required:', X['humidity'].max())\n",
    "    print('Average humidity  required:', X['humidity'].mean())\n",
    "    print(\"-----------------------\")\n",
    "    print('Min ph required:', X['ph'].min())\n",
    "    print('Max ph required:', X['ph'].max())\n",
    "    print('Average ph required:', X['ph'].mean())\n",
    "    print(\"-----------------------\")\n",
    "    print('Min rainfall  required:', X['rainfall'].min())\n",
    "    print('Max rainfall  required:', X['rainfall'].max())\n",
    "    print('Average rainfall  required:', X['rainfall'].mean())"
   ]
  },
  {
   "cell_type": "code",
   "execution_count": 10,
   "id": "8957d2ec",
   "metadata": {},
   "outputs": [
    {
     "data": {
      "application/vnd.jupyter.widget-view+json": {
       "model_id": "362a13c6013a47ca902e0b403a7b5954",
       "version_major": 2,
       "version_minor": 0
      },
      "text/plain": [
       "interactive(children=(Dropdown(description='condition', options=('N', 'P', 'K', 'temperature', 'humidity', 'ph…"
      ]
     },
     "metadata": {},
     "output_type": "display_data"
    }
   ],
   "source": [
    "@interact\n",
    "def compare(condition = ['N', 'P', 'K', 'temperature', 'humidity', 'ph', 'rainfall']):\n",
    "    print(\"Average summary for\", condition, \"is:\", Df[condition].mean())\n",
    "    print(\"-------------------------------------------\")\n",
    "    print(\"Lentil:\", Df[(Df['label']==\"lentil\")][condition].mean())\n",
    "    print(\"Jute:\", Df[(Df['label']==\"jute\")][condition].mean())\n",
    "    print(\"Cotton:\", Df[(Df['label']==\"cotton\")][condition].mean())\n",
    "    print(\"Rice:\", Df[(Df['label']==\"rice\")][condition].mean())\n",
    "    print(\"Kidneybeans:\", Df[(Df['label']==\"kidneybeans\")][condition].mean())\n",
    "    print(\"Mothbeans:\", Df[(Df['label']==\"mothbeans\")][condition].mean())\n",
    "    print(\"Coffee:\", Df[(Df['label']==\"coffee\")][condition].mean())\n",
    "    print(\"Muskmelon:\", Df[(Df['label']==\"muskmelon\")][condition].mean())\n",
    "    print(\"Chickpea:\", Df[(Df['label']==\"chickpea\")][condition].mean())\n",
    "    print(\"Orange:\", Df[(Df['label']==\"orange\")][condition].mean())\n",
    "    print(\"Blackgram:\", Df[(Df['label']==\"blackgram\")][condition].mean())\n",
    "    print(\"Mungbean:\", Df[(Df['label']==\"mungbean\")][condition].mean())\n",
    "    print(\"Banana:\", Df[(Df['label']==\"banana\")][condition].mean())\n",
    "    print(\"Grapes:\", Df[(Df['label']==\"grapes\")][condition].mean())\n",
    "    print(\"Coconut:\", Df[(Df['label']==\"coconut\")][condition].mean())\n",
    "    print(\"Papaya:\", Df[(Df['label']==\"papaya\")][condition].mean())\n",
    "    print(\"Mango:\", Df[(Df['label']==\"mango\")][condition].mean())\n",
    "    print(\"Pigeonpeas:\", Df[(Df['label']==\"pigeonpeas\")][condition].mean())\n",
    "    print(\"Apple:\", Df[(Df['label']==\"apple\")][condition].mean())\n",
    "    print(\"Watermelon:\", Df[(Df['label']==\"watermelon\")][condition].mean())\n",
    "    print(\"Maize:\", Df[(Df['label']==\"maize\")][condition].mean())\n",
    "    print(\"Pomegranate:\", Df[(Df['label']==\"pomegranate\")][condition].mean())"
   ]
  },
  {
   "cell_type": "code",
   "execution_count": 11,
   "id": "50a8f03d",
   "metadata": {},
   "outputs": [
    {
     "data": {
      "application/vnd.jupyter.widget-view+json": {
       "model_id": "cb9bb67477aa4d9ea68fe401fe174dce",
       "version_major": 2,
       "version_minor": 0
      },
      "text/plain": [
       "interactive(children=(Dropdown(description='condition', options=('N', 'P', 'K', 'temperature', 'humidity', 'ph…"
      ]
     },
     "metadata": {},
     "output_type": "display_data"
    }
   ],
   "source": [
    "# Find unique labels for all the conditions less than or greater than all conditions..\n",
    "@interact\n",
    "def compare(condition = ['N', 'P', 'K', 'temperature', 'humidity', 'ph', 'rainfall']):\n",
    "    print(\"Crops which is required greater than average:\", condition, \"\\n\")\n",
    "    print(Df[Df[condition] >= Df[condition].mean()]['label'].unique())\n",
    "    print(\"Crops which is required less than average:\", condition, \"\\n\")\n",
    "    print(Df[Df[condition] <= Df[condition].mean()]['label'].unique())"
   ]
  },
  {
   "cell_type": "code",
   "execution_count": 12,
   "id": "0f5969b2",
   "metadata": {},
   "outputs": [
    {
     "name": "stdout",
     "output_type": "stream",
     "text": [
      "Crops which requires very high ratio of nitrogen ['cotton']\n",
      "Crops which requires very low ratio of nitrogen ['rice' 'maize' 'chickpea' 'kidneybeans' 'pigeonpeas' 'mothbeans'\n",
      " 'mungbean' 'blackgram' 'lentil' 'pomegranate' 'banana' 'mango' 'grapes'\n",
      " 'watermelon' 'muskmelon' 'apple' 'orange' 'papaya' 'coconut' 'cotton'\n",
      " 'jute' 'coffee']\n",
      "Crops which requires very high ratio of Phosphorous ['rice' 'maize' 'chickpea' 'kidneybeans' 'pigeonpeas' 'mothbeans'\n",
      " 'mungbean' 'blackgram' 'lentil' 'banana' 'grapes' 'apple' 'papaya'\n",
      " 'cotton' 'jute']\n",
      "Crops which requires very low ratio of Phosphorous ['rice' 'maize' 'mothbeans' 'mungbean' 'pomegranate' 'mango' 'watermelon'\n",
      " 'muskmelon' 'orange' 'papaya' 'coconut' 'cotton' 'jute' 'coffee']\n",
      "Crops which requires very high ratio of Potassium  ['rice' 'maize' 'chickpea' 'kidneybeans' 'pigeonpeas' 'mothbeans'\n",
      " 'mungbean' 'blackgram' 'lentil' 'pomegranate' 'banana' 'mango' 'grapes'\n",
      " 'watermelon' 'muskmelon' 'apple' 'papaya' 'coconut' 'cotton' 'jute'\n",
      " 'coffee']\n",
      "Crops which requires very low ratio of Potassium  ['maize' 'kidneybeans' 'pigeonpeas' 'mothbeans' 'mungbean' 'blackgram'\n",
      " 'lentil' 'orange' 'cotton']\n",
      "Crops which requires very high ratio of temperature ['rice' 'maize' 'chickpea' 'kidneybeans' 'pigeonpeas' 'mothbeans'\n",
      " 'mungbean' 'blackgram' 'lentil' 'pomegranate' 'banana' 'mango' 'grapes'\n",
      " 'watermelon' 'muskmelon' 'apple' 'orange' 'papaya' 'coconut' 'cotton'\n",
      " 'jute' 'coffee']\n",
      "Crops which requires very low ratio of temperature ['maize' 'chickpea' 'kidneybeans' 'pigeonpeas' 'lentil' 'pomegranate'\n",
      " 'grapes' 'orange']\n",
      "Crops which requires very high ratio of humidity ['rice' 'maize' 'mungbean' 'pomegranate' 'banana' 'grapes' 'watermelon'\n",
      " 'muskmelon' 'apple' 'orange' 'papaya' 'coconut' 'cotton' 'jute']\n",
      "Crops which requires very low ratio of humidity ['maize' 'chickpea' 'kidneybeans' 'pigeonpeas' 'mothbeans' 'blackgram'\n",
      " 'lentil' 'mango' 'coffee']\n",
      "Crops which requires very high ratio of ph ['rice' 'maize' 'chickpea' 'kidneybeans' 'pigeonpeas' 'mothbeans'\n",
      " 'mungbean' 'blackgram' 'lentil' 'pomegranate' 'banana' 'mango' 'grapes'\n",
      " 'watermelon' 'muskmelon' 'apple' 'orange' 'papaya' 'coconut' 'cotton'\n",
      " 'jute' 'coffee']\n",
      "Crops which requires very low ratio of ph ['pigeonpeas' 'mothbeans' 'mango']\n",
      "Crops which requires very high ratio of rainfall ['rice' 'maize' 'chickpea' 'kidneybeans' 'pigeonpeas' 'pomegranate'\n",
      " 'banana' 'mango' 'apple' 'orange' 'papaya' 'coconut' 'cotton' 'jute'\n",
      " 'coffee']\n",
      "Crops which requires very low ratio of rainfall ['maize' 'chickpea' 'kidneybeans' 'mothbeans' 'mungbean' 'blackgram'\n",
      " 'lentil' 'grapes' 'watermelon' 'muskmelon' 'papaya' 'cotton']\n"
     ]
    }
   ],
   "source": [
    "print(\"Crops which requires very high ratio of nitrogen\", Df[Df['N'] > 120]['label'].unique())\n",
    "print(\"Crops which requires very low ratio of nitrogen\", Df[Df['N'] < 120]['label'].unique())\n",
    "print(\"Crops which requires very high ratio of Phosphorous\", Df[Df['P'] > 50]['label'].unique())\n",
    "print(\"Crops which requires very low ratio of Phosphorous\", Df[Df['P'] < 50]['label'].unique())\n",
    "print(\"Crops which requires very high ratio of Potassium \", Df[Df['K'] > 20]['label'].unique())\n",
    "print(\"Crops which requires very low ratio of Potassium \", Df[Df['K'] < 20]['label'].unique())\n",
    "print(\"Crops which requires very high ratio of temperature\", Df[Df['temperature'] > 20]['label'].unique())\n",
    "print(\"Crops which requires very low ratio of temperature\", Df[Df['temperature'] < 20]['label'].unique())\n",
    "print(\"Crops which requires very high ratio of humidity\", Df[Df['humidity'] > 70]['label'].unique())\n",
    "print(\"Crops which requires very low ratio of humidity\", Df[Df['humidity'] < 70]['label'].unique())\n",
    "print(\"Crops which requires very high ratio of ph\", Df[Df['ph'] > 5]['label'].unique())\n",
    "print(\"Crops which requires very low ratio of ph\", Df[Df['ph'] < 5]['label'].unique())\n",
    "print(\"Crops which requires very high ratio of rainfall\", Df[Df['rainfall'] > 80]['label'].unique())\n",
    "print(\"Crops which requires very low ratio of rainfall\", Df[Df['rainfall'] < 80]['label'].unique())"
   ]
  },
  {
   "cell_type": "code",
   "execution_count": 13,
   "id": "5f875197",
   "metadata": {},
   "outputs": [
    {
     "name": "stdout",
     "output_type": "stream",
     "text": [
      "Summer crops\n",
      "['pigeonpeas' 'mothbeans' 'blackgram' 'mango' 'grapes' 'orange' 'papaya']\n",
      "Winter crops\n",
      "['maize' 'pigeonpeas' 'lentil' 'pomegranate' 'grapes' 'orange']\n",
      "Rainy crops\n",
      "['rice' 'papaya' 'coconut']\n"
     ]
    }
   ],
   "source": [
    "# lets check which crops is grow in summer season, winter season, rainy season\n",
    "\n",
    "print(\"Summer crops\")\n",
    "print(Df[(Df['temperature'] > 30) & (Df['humidity'] > 50)]['label'].unique())\n",
    "\n",
    "print(\"Winter crops\")\n",
    "print(Df[(Df['temperature'] < 20) & (Df['humidity'] > 30)]['label'].unique())\n",
    "\n",
    "print(\"Rainy crops\")\n",
    "print(Df[(Df[\"rainfall\"] > 200) & (Df['humidity'] > 30)]['label'].unique())"
   ]
  },
  {
   "cell_type": "code",
   "execution_count": 14,
   "id": "6da4a26d",
   "metadata": {},
   "outputs": [],
   "source": [
    "from sklearn.cluster import k_means, KMeans"
   ]
  },
  {
   "cell_type": "code",
   "execution_count": 15,
   "id": "40b87b6b",
   "metadata": {},
   "outputs": [],
   "source": [
    "x=Df.drop(['label'], axis=1)"
   ]
  },
  {
   "cell_type": "code",
   "execution_count": 16,
   "id": "05b53a5c",
   "metadata": {},
   "outputs": [],
   "source": [
    "x=x.values"
   ]
  },
  {
   "cell_type": "code",
   "execution_count": 17,
   "id": "03e81fb5",
   "metadata": {},
   "outputs": [
    {
     "data": {
      "text/plain": [
       "array([[ 90.        ,  42.        ,  43.        , ...,  82.00274423,\n",
       "          6.50298529, 202.9355362 ],\n",
       "       [ 85.        ,  58.        ,  41.        , ...,  80.31964408,\n",
       "          7.03809636, 226.6555374 ],\n",
       "       [ 60.        ,  55.        ,  44.        , ...,  82.3207629 ,\n",
       "          7.84020714, 263.9642476 ],\n",
       "       ...,\n",
       "       [118.        ,  33.        ,  30.        , ...,  67.22512329,\n",
       "          6.36260785, 173.3228386 ],\n",
       "       [117.        ,  32.        ,  34.        , ...,  52.12739421,\n",
       "          6.75879255, 127.1752928 ],\n",
       "       [104.        ,  18.        ,  30.        , ...,  60.39647474,\n",
       "          6.77983261, 140.9370415 ]])"
      ]
     },
     "execution_count": 17,
     "metadata": {},
     "output_type": "execute_result"
    }
   ],
   "source": [
    "x"
   ]
  },
  {
   "cell_type": "code",
   "execution_count": 18,
   "id": "ca367f37",
   "metadata": {},
   "outputs": [
    {
     "data": {
      "text/plain": [
       "(2200, 7)"
      ]
     },
     "execution_count": 18,
     "metadata": {},
     "output_type": "execute_result"
    }
   ],
   "source": [
    "x.shape"
   ]
  },
  {
   "cell_type": "code",
   "execution_count": 19,
   "id": "ee62423d",
   "metadata": {},
   "outputs": [
    {
     "data": {
      "image/png": "[encoded data removed]",
      "text/plain": [
       "<Figure size 720x288 with 1 Axes>"
      ]
     },
     "metadata": {
      "needs_background": "light"
     },
     "output_type": "display_data"
    }
   ],
   "source": [
    "plt.rcParams['figure.figsize']=(10, 4)\n",
    "wcss = []\n",
    "for i in range(1, 11):\n",
    "    km = KMeans(n_clusters=i, init='k-means++', max_iter=300, n_init=10, random_state=0)\n",
    "    km.fit(x)\n",
    "    wcss.append(km.inertia_)\n",
    "    \n",
    "#plot the results\n",
    "plt.plot(range(1, 11), wcss)\n",
    "plt.title('The ELbo Chart', fontsize=15)\n",
    "plt.xlabel('No of clusters')\n",
    "plt.ylabel('wcss')\n",
    "plt.show()"
   ]
  },
  {
   "cell_type": "code",
   "execution_count": 20,
   "id": "3c6e6c38",
   "metadata": {},
   "outputs": [
    {
     "name": "stdout",
     "output_type": "stream",
     "text": [
      "Lets check the result after applying the k means clustering \n",
      "\n",
      "Crops in first cluster ['maize' 'chickpea' 'kidneybeans' 'pigeonpeas' 'mothbeans' 'mungbean'\n",
      " 'blackgram' 'lentil' 'pomegranate' 'mango' 'orange' 'papaya' 'coconut']\n",
      "Crops in second cluster ['maize' 'banana' 'watermelon' 'muskmelon' 'papaya' 'cotton' 'coffee']\n",
      "Crops in third cluster ['grapes' 'apple']\n",
      "Crops in forth cluster ['rice' 'pigeonpeas' 'papaya' 'coconut' 'jute' 'coffee']\n"
     ]
    }
   ],
   "source": [
    "km = KMeans(n_clusters=4, init=\"k-means++\", max_iter=300, n_init=10, random_state=0)\n",
    "y_means = km.fit_predict(x)\n",
    "\n",
    "a=Df['label']\n",
    "y_means = pd.DataFrame(y_means)\n",
    "z=pd.concat([y_means, a], axis=1)\n",
    "z=z.rename(columns={0: \"cluster\"})\n",
    "print(\"Lets check the result after applying the k means clustering\", \"\\n\")\n",
    "\n",
    "print(\"Crops in first cluster\", z[z['cluster']==0]['label'].unique())\n",
    "print(\"Crops in second cluster\", z[z['cluster']==1]['label'].unique())\n",
    "print(\"Crops in third cluster\", z[z['cluster']==2]['label'].unique())\n",
    "print(\"Crops in forth cluster\", z[z['cluster']==3]['label'].unique())"
   ]
  },
  {
   "cell_type": "code",
   "execution_count": 21,
   "id": "177beed8",
   "metadata": {},
   "outputs": [],
   "source": [
    "x = Df.drop(['label'], axis=1)"
   ]
  },
  {
   "cell_type": "code",
   "execution_count": 22,
   "id": "f3257dba",
   "metadata": {},
   "outputs": [],
   "source": [
    "y = Df['label']"
   ]
  },
  {
   "cell_type": "code",
   "execution_count": 23,
   "id": "a765685c",
   "metadata": {},
   "outputs": [
    {
     "data": {
      "text/plain": [
       "(2200, 7)"
      ]
     },
     "execution_count": 23,
     "metadata": {},
     "output_type": "execute_result"
    }
   ],
   "source": [
    "x.shape"
   ]
  },
  {
   "cell_type": "code",
   "execution_count": 24,
   "id": "05dccef5",
   "metadata": {},
   "outputs": [
    {
     "data": {
      "text/plain": [
       "(2200,)"
      ]
     },
     "execution_count": 24,
     "metadata": {},
     "output_type": "execute_result"
    }
   ],
   "source": [
    "y.shape"
   ]
  },
  {
   "cell_type": "code",
   "execution_count": 25,
   "id": "2b446466",
   "metadata": {},
   "outputs": [],
   "source": [
    "from sklearn.model_selection import train_test_split"
   ]
  },
  {
   "cell_type": "code",
   "execution_count": 26,
   "id": "97e399d7",
   "metadata": {},
   "outputs": [],
   "source": [
    "X_train, X_test, y_train, y_test = train_test_split(x, y, test_size=0.2, random_state=0)"
   ]
  },
  {
   "cell_type": "code",
   "execution_count": 27,
   "id": "8216f9e4",
   "metadata": {},
   "outputs": [],
   "source": [
    "from sklearn.linear_model import LogisticRegression"
   ]
  },
  {
   "cell_type": "code",
   "execution_count": 28,
   "id": "62751887",
   "metadata": {},
   "outputs": [],
   "source": [
    "lg = LogisticRegression()"
   ]
  },
  {
   "cell_type": "code",
   "execution_count": 29,
   "id": "2b0f9d1d",
   "metadata": {},
   "outputs": [
    {
     "name": "stderr",
     "output_type": "stream",
     "text": [
      "C:\\Users\\ASAD\\anaconda3\\lib\\site-packages\\sklearn\\linear_model\\_logistic.py:814: ConvergenceWarning: lbfgs failed to converge (status=1):\n",
      "STOP: TOTAL NO. of ITERATIONS REACHED LIMIT.\n",
      "\n",
      "Increase the number of iterations (max_iter) or scale the data as shown in:\n",
      "    https://scikit-learn.org/stable/modules/preprocessing.html\n",
      "Please also refer to the documentation for alternative solver options:\n",
      "    https://scikit-learn.org/stable/modules/linear_model.html#logistic-regression\n",
      "  n_iter_i = _check_optimize_result(\n"
     ]
    },
    {
     "data": {
      "text/plain": [
       "LogisticRegression()"
      ]
     },
     "execution_count": 29,
     "metadata": {},
     "output_type": "execute_result"
    }
   ],
   "source": [
    "lg.fit(X_train, y_train)"
   ]
  },
  {
   "cell_type": "code",
   "execution_count": 30,
   "id": "e4ea3c26",
   "metadata": {},
   "outputs": [
    {
     "data": {
      "text/plain": [
       "0.9681818181818181"
      ]
     },
     "execution_count": 30,
     "metadata": {},
     "output_type": "execute_result"
    }
   ],
   "source": [
    "lg.score(X_test, y_test)"
   ]
  },
  {
   "cell_type": "code",
   "execution_count": 31,
   "id": "334bbc91",
   "metadata": {},
   "outputs": [],
   "source": [
    "y_pred = lg.predict(X_test)"
   ]
  },
  {
   "cell_type": "code",
   "execution_count": 32,
   "id": "2fda1f73",
   "metadata": {},
   "outputs": [
    {
     "data": {
      "text/plain": [
       "array(['watermelon', 'watermelon', 'grapes', 'chickpea', 'blackgram',\n",
       "       'jute', 'mothbeans', 'kidneybeans', 'muskmelon', 'banana',\n",
       "       'mothbeans', 'coffee', 'lentil', 'mungbean', 'mango', 'apple',\n",
       "       'coffee', 'lentil', 'coffee', 'mango', 'coconut', 'blackgram',\n",
       "       'kidneybeans', 'jute', 'cotton', 'coffee', 'lentil', 'orange',\n",
       "       'mothbeans', 'kidneybeans', 'pomegranate', 'rice', 'maize',\n",
       "       'muskmelon', 'coconut', 'cotton', 'mango', 'mango', 'watermelon',\n",
       "       'mothbeans', 'maize', 'blackgram', 'pigeonpeas', 'watermelon',\n",
       "       'pigeonpeas', 'mungbean', 'kidneybeans', 'kidneybeans', 'cotton',\n",
       "       'mungbean', 'mothbeans', 'blackgram', 'apple', 'muskmelon',\n",
       "       'pigeonpeas', 'banana', 'papaya', 'mango', 'lentil', 'cotton',\n",
       "       'orange', 'mungbean', 'watermelon', 'rice', 'muskmelon', 'apple',\n",
       "       'grapes', 'coffee', 'apple', 'orange', 'coconut', 'pomegranate',\n",
       "       'kidneybeans', 'maize', 'grapes', 'mothbeans', 'chickpea', 'maize',\n",
       "       'jute', 'mango', 'rice', 'mothbeans', 'watermelon', 'watermelon',\n",
       "       'muskmelon', 'cotton', 'maize', 'lentil', 'mothbeans', 'papaya',\n",
       "       'blackgram', 'jute', 'mungbean', 'grapes', 'mungbean', 'maize',\n",
       "       'coffee', 'jute', 'lentil', 'chickpea', 'orange', 'jute',\n",
       "       'mungbean', 'banana', 'banana', 'rice', 'watermelon', 'coffee',\n",
       "       'pigeonpeas', 'muskmelon', 'muskmelon', 'mango', 'coffee',\n",
       "       'grapes', 'orange', 'pomegranate', 'mungbean', 'lentil', 'maize',\n",
       "       'jute', 'pomegranate', 'lentil', 'orange', 'chickpea', 'chickpea',\n",
       "       'blackgram', 'pomegranate', 'orange', 'chickpea', 'papaya',\n",
       "       'mothbeans', 'blackgram', 'muskmelon', 'mungbean', 'cotton',\n",
       "       'mungbean', 'coconut', 'pomegranate', 'orange', 'blackgram',\n",
       "       'lentil', 'grapes', 'apple', 'coffee', 'chickpea', 'apple', 'jute',\n",
       "       'mango', 'watermelon', 'papaya', 'orange', 'coconut', 'mothbeans',\n",
       "       'banana', 'pomegranate', 'chickpea', 'watermelon', 'maize',\n",
       "       'apple', 'jute', 'lentil', 'pigeonpeas', 'jute', 'kidneybeans',\n",
       "       'kidneybeans', 'muskmelon', 'rice', 'muskmelon', 'banana',\n",
       "       'orange', 'pigeonpeas', 'apple', 'mothbeans', 'coconut', 'cotton',\n",
       "       'mungbean', 'kidneybeans', 'pomegranate', 'papaya', 'orange',\n",
       "       'rice', 'papaya', 'papaya', 'pigeonpeas', 'kidneybeans', 'banana',\n",
       "       'coconut', 'pigeonpeas', 'rice', 'papaya', 'maize', 'jute',\n",
       "       'mothbeans', 'rice', 'maize', 'coffee', 'pigeonpeas', 'coconut',\n",
       "       'chickpea', 'mango', 'coconut', 'pomegranate', 'cotton',\n",
       "       'mothbeans', 'mothbeans', 'orange', 'muskmelon', 'maize',\n",
       "       'pigeonpeas', 'banana', 'chickpea', 'blackgram', 'pigeonpeas',\n",
       "       'orange', 'mothbeans', 'mungbean', 'mango', 'papaya', 'muskmelon',\n",
       "       'pomegranate', 'jute', 'rice', 'blackgram', 'papaya', 'blackgram',\n",
       "       'coffee', 'maize', 'coffee', 'orange', 'rice', 'mothbeans',\n",
       "       'mungbean', 'orange', 'kidneybeans', 'pomegranate', 'coconut',\n",
       "       'mango', 'mungbean', 'cotton', 'rice', 'chickpea', 'mungbean',\n",
       "       'apple', 'pigeonpeas', 'mothbeans', 'rice', 'watermelon',\n",
       "       'blackgram', 'pomegranate', 'orange', 'maize', 'grapes',\n",
       "       'chickpea', 'pigeonpeas', 'jute', 'papaya', 'pomegranate',\n",
       "       'coffee', 'mango', 'mothbeans', 'jute', 'watermelon',\n",
       "       'pomegranate', 'rice', 'grapes', 'coconut', 'jute', 'lentil',\n",
       "       'chickpea', 'coffee', 'coffee', 'papaya', 'pomegranate', 'maize',\n",
       "       'rice', 'chickpea', 'pigeonpeas', 'orange', 'pomegranate',\n",
       "       'pigeonpeas', 'coconut', 'kidneybeans', 'pomegranate', 'muskmelon',\n",
       "       'mothbeans', 'mango', 'lentil', 'banana', 'blackgram', 'mango',\n",
       "       'kidneybeans', 'mango', 'cotton', 'mungbean', 'papaya', 'grapes',\n",
       "       'grapes', 'pigeonpeas', 'papaya', 'jute', 'rice', 'chickpea',\n",
       "       'muskmelon', 'coffee', 'watermelon', 'jute', 'jute', 'mothbeans',\n",
       "       'grapes', 'muskmelon', 'blackgram', 'mothbeans', 'mothbeans',\n",
       "       'chickpea', 'blackgram', 'mango', 'banana', 'mango', 'pomegranate',\n",
       "       'jute', 'orange', 'muskmelon', 'chickpea', 'lentil', 'cotton',\n",
       "       'papaya', 'grapes', 'kidneybeans', 'lentil', 'apple', 'rice',\n",
       "       'muskmelon', 'apple', 'papaya', 'blackgram', 'jute', 'chickpea',\n",
       "       'mothbeans', 'lentil', 'grapes', 'jute', 'kidneybeans',\n",
       "       'muskmelon', 'papaya', 'grapes', 'papaya', 'rice', 'coffee',\n",
       "       'muskmelon', 'mothbeans', 'banana', 'papaya', 'orange',\n",
       "       'kidneybeans', 'watermelon', 'pigeonpeas', 'apple', 'watermelon',\n",
       "       'watermelon', 'pigeonpeas', 'kidneybeans', 'blackgram',\n",
       "       'kidneybeans', 'jute', 'coconut', 'cotton', 'kidneybeans',\n",
       "       'orange', 'cotton', 'pigeonpeas', 'pomegranate', 'cotton',\n",
       "       'cotton', 'apple', 'cotton', 'apple', 'orange', 'maize', 'grapes',\n",
       "       'banana', 'apple', 'mothbeans', 'rice', 'kidneybeans', 'banana',\n",
       "       'jute', 'lentil', 'chickpea', 'pomegranate', 'banana', 'chickpea',\n",
       "       'muskmelon', 'pomegranate', 'apple', 'lentil', 'muskmelon',\n",
       "       'orange', 'blackgram', 'muskmelon', 'mothbeans', 'mango',\n",
       "       'chickpea', 'pomegranate', 'mango', 'chickpea', 'coconut',\n",
       "       'muskmelon', 'banana', 'pigeonpeas', 'papaya', 'jute', 'blackgram',\n",
       "       'cotton', 'rice', 'banana', 'coconut', 'rice', 'blackgram',\n",
       "       'maize', 'orange', 'watermelon', 'rice', 'apple', 'grapes',\n",
       "       'pigeonpeas', 'grapes', 'chickpea', 'mango', 'jute', 'pomegranate',\n",
       "       'maize', 'mango', 'grapes', 'banana', 'mungbean', 'pigeonpeas',\n",
       "       'banana', 'cotton', 'blackgram', 'apple'], dtype=object)"
      ]
     },
     "execution_count": 32,
     "metadata": {},
     "output_type": "execute_result"
    }
   ],
   "source": [
    "y_pred"
   ]
  },
  {
   "cell_type": "code",
   "execution_count": 33,
   "id": "f98d48cd",
   "metadata": {},
   "outputs": [],
   "source": [
    "from sklearn.metrics import confusion_matrix, classification_report"
   ]
  },
  {
   "cell_type": "code",
   "execution_count": 34,
   "id": "d49ff939",
   "metadata": {},
   "outputs": [
    {
     "data": {
      "image/png": "[encoded data removed]",
      "text/plain": [
       "<Figure size 720x720 with 2 Axes>"
      ]
     },
     "metadata": {
      "needs_background": "light"
     },
     "output_type": "display_data"
    }
   ],
   "source": [
    "plt.rcParams['figure.figsize']=(10, 10)\n",
    "cm = confusion_matrix(y_test, y_pred)\n",
    "sns.heatmap(cm, annot=True, cmap=\"Wistia\")\n",
    "plt.title(\"Confusion matrics for logistic regression\", fontsize=15)\n",
    "plt.show()"
   ]
  },
  {
   "cell_type": "code",
   "execution_count": 35,
   "id": "9e97f448",
   "metadata": {},
   "outputs": [],
   "source": [
    "cr = classification_report(y_test, y_pred)"
   ]
  },
  {
   "cell_type": "code",
   "execution_count": 36,
   "id": "b9dd9910",
   "metadata": {},
   "outputs": [
    {
     "name": "stdout",
     "output_type": "stream",
     "text": [
      "              precision    recall  f1-score   support\n",
      "\n",
      "       apple       1.00      1.00      1.00        18\n",
      "      banana       1.00      1.00      1.00        18\n",
      "   blackgram       0.86      0.82      0.84        22\n",
      "    chickpea       1.00      1.00      1.00        23\n",
      "     coconut       1.00      1.00      1.00        15\n",
      "      coffee       1.00      1.00      1.00        17\n",
      "      cotton       0.89      1.00      0.94        16\n",
      "      grapes       1.00      1.00      1.00        18\n",
      "        jute       0.84      1.00      0.91        21\n",
      " kidneybeans       1.00      1.00      1.00        20\n",
      "      lentil       0.94      0.94      0.94        17\n",
      "       maize       0.94      0.89      0.91        18\n",
      "       mango       1.00      1.00      1.00        21\n",
      "   mothbeans       0.88      0.92      0.90        25\n",
      "    mungbean       1.00      1.00      1.00        17\n",
      "   muskmelon       1.00      1.00      1.00        23\n",
      "      orange       1.00      1.00      1.00        23\n",
      "      papaya       1.00      0.95      0.98        21\n",
      "  pigeonpeas       1.00      1.00      1.00        22\n",
      " pomegranate       1.00      1.00      1.00        23\n",
      "        rice       1.00      0.84      0.91        25\n",
      "  watermelon       1.00      1.00      1.00        17\n",
      "\n",
      "    accuracy                           0.97       440\n",
      "   macro avg       0.97      0.97      0.97       440\n",
      "weighted avg       0.97      0.97      0.97       440\n",
      "\n"
     ]
    }
   ],
   "source": [
    "print(cr)"
   ]
  },
  {
   "cell_type": "code",
   "execution_count": 37,
   "id": "1459a512",
   "metadata": {},
   "outputs": [
    {
     "name": "stderr",
     "output_type": "stream",
     "text": [
      "C:\\Users\\ASAD\\anaconda3\\lib\\site-packages\\sklearn\\base.py:441: UserWarning: X does not have valid feature names, but LogisticRegression was fitted with feature names\n",
      "  warnings.warn(\n"
     ]
    },
    {
     "data": {
      "text/plain": [
       "array(['rice'], dtype=object)"
      ]
     },
     "execution_count": 37,
     "metadata": {},
     "output_type": "execute_result"
    }
   ],
   "source": [
    "lg.predict([[90, 40, 40, 20, 80,7, 200]])"
   ]
  },
  {
   "cell_type": "code",
   "execution_count": 38,
   "id": "00d316e4",
   "metadata": {},
   "outputs": [
    {
     "name": "stderr",
     "output_type": "stream",
     "text": [
      "C:\\Users\\ASAD\\anaconda3\\lib\\site-packages\\sklearn\\base.py:441: UserWarning: X does not have valid feature names, but LogisticRegression was fitted with feature names\n",
      "  warnings.warn(\n"
     ]
    },
    {
     "data": {
      "text/plain": [
       "array(['mango'], dtype=object)"
      ]
     },
     "execution_count": 38,
     "metadata": {},
     "output_type": "execute_result"
    }
   ],
   "source": [
    "lg.predict([[40, 20, 20, 40, 40, 4, 120]])"
   ]
  },
  {
   "cell_type": "code",
   "execution_count": 39,
   "id": "9b3494e3",
   "metadata": {},
   "outputs": [
    {
     "name": "stderr",
     "output_type": "stream",
     "text": [
      "C:\\Users\\ASAD\\anaconda3\\lib\\site-packages\\sklearn\\base.py:441: UserWarning: X does not have valid feature names, but LogisticRegression was fitted with feature names\n",
      "  warnings.warn(\n"
     ]
    },
    {
     "data": {
      "text/plain": [
       "array(['coffee'], dtype=object)"
      ]
     },
     "execution_count": 39,
     "metadata": {},
     "output_type": "execute_result"
    }
   ],
   "source": [
    "lg.predict([[107, 34, 32, 26.774637, 66.413269, 6.780064, 177.774507]])"
   ]
  },
  {
   "cell_type": "code",
   "execution_count": 40,
   "id": "e3513678",
   "metadata": {},
   "outputs": [
    {
     "name": "stderr",
     "output_type": "stream",
     "text": [
      "C:\\Users\\ASAD\\anaconda3\\lib\\site-packages\\sklearn\\base.py:441: UserWarning: X does not have valid feature names, but LogisticRegression was fitted with feature names\n",
      "  warnings.warn(\n"
     ]
    },
    {
     "data": {
      "text/plain": [
       "array(['papaya'], dtype=object)"
      ]
     },
     "execution_count": 40,
     "metadata": {},
     "output_type": "execute_result"
    }
   ],
   "source": [
    "lg.predict([[20, 20, 40, 15, 50, 4, 90]])"
   ]
  },
  {
   "cell_type": "code",
   "execution_count": 41,
   "id": "26f55958",
   "metadata": {},
   "outputs": [
    {
     "name": "stderr",
     "output_type": "stream",
     "text": [
      "C:\\Users\\ASAD\\anaconda3\\lib\\site-packages\\sklearn\\base.py:441: UserWarning: X does not have valid feature names, but LogisticRegression was fitted with feature names\n",
      "  warnings.warn(\n"
     ]
    },
    {
     "data": {
      "text/plain": [
       "array(['mango'], dtype=object)"
      ]
     },
     "execution_count": 41,
     "metadata": {},
     "output_type": "execute_result"
    }
   ],
   "source": [
    "lg.predict([[20, 20, 40, 40, 50, 4, 90]])"
   ]
  },
  {
   "cell_type": "code",
   "execution_count": 42,
   "id": "3d5ce8a6",
   "metadata": {},
   "outputs": [
    {
     "name": "stderr",
     "output_type": "stream",
     "text": [
      "C:\\Users\\ASAD\\anaconda3\\lib\\site-packages\\sklearn\\base.py:441: UserWarning: X does not have valid feature names, but LogisticRegression was fitted with feature names\n",
      "  warnings.warn(\n"
     ]
    },
    {
     "data": {
      "text/plain": [
       "array(['pigeonpeas'], dtype=object)"
      ]
     },
     "execution_count": 42,
     "metadata": {},
     "output_type": "execute_result"
    }
   ],
   "source": [
    "lg.predict([[20, 100, 20, 20, 50, 4, 90]])"
   ]
  },
  {
   "cell_type": "code",
   "execution_count": 43,
   "id": "4889e5e7",
   "metadata": {},
   "outputs": [],
   "source": [
    "import pickle as pkl  "
   ]
  },
  {
   "cell_type": "code",
   "execution_count": 44,
   "id": "1731a67c",
   "metadata": {},
   "outputs": [],
   "source": [
    "# now, we are saving the trained model as a pickle string.  \n",
    "saved_model1 = pkl.dumps(lg)  "
   ]
  },
  {
   "cell_type": "code",
   "execution_count": 45,
   "id": "9ad88a6d",
   "metadata": {},
   "outputs": [],
   "source": [
    "# here, we are Loading the pickled model  \n",
    "knn_from_pkl = pkl.loads(saved_model1)  "
   ]
  },
  {
   "cell_type": "code",
   "execution_count": 46,
   "id": "304a4402",
   "metadata": {},
   "outputs": [
    {
     "data": {
      "text/plain": [
       "array(['watermelon', 'watermelon', 'grapes', 'chickpea', 'blackgram',\n",
       "       'jute', 'mothbeans', 'kidneybeans', 'muskmelon', 'banana',\n",
       "       'mothbeans', 'coffee', 'lentil', 'mungbean', 'mango', 'apple',\n",
       "       'coffee', 'lentil', 'coffee', 'mango', 'coconut', 'blackgram',\n",
       "       'kidneybeans', 'jute', 'cotton', 'coffee', 'lentil', 'orange',\n",
       "       'mothbeans', 'kidneybeans', 'pomegranate', 'rice', 'maize',\n",
       "       'muskmelon', 'coconut', 'cotton', 'mango', 'mango', 'watermelon',\n",
       "       'mothbeans', 'maize', 'blackgram', 'pigeonpeas', 'watermelon',\n",
       "       'pigeonpeas', 'mungbean', 'kidneybeans', 'kidneybeans', 'cotton',\n",
       "       'mungbean', 'mothbeans', 'blackgram', 'apple', 'muskmelon',\n",
       "       'pigeonpeas', 'banana', 'papaya', 'mango', 'lentil', 'cotton',\n",
       "       'orange', 'mungbean', 'watermelon', 'rice', 'muskmelon', 'apple',\n",
       "       'grapes', 'coffee', 'apple', 'orange', 'coconut', 'pomegranate',\n",
       "       'kidneybeans', 'maize', 'grapes', 'mothbeans', 'chickpea', 'maize',\n",
       "       'jute', 'mango', 'rice', 'mothbeans', 'watermelon', 'watermelon',\n",
       "       'muskmelon', 'cotton', 'maize', 'lentil', 'mothbeans', 'papaya',\n",
       "       'blackgram', 'jute', 'mungbean', 'grapes', 'mungbean', 'maize',\n",
       "       'coffee', 'jute', 'lentil', 'chickpea', 'orange', 'jute',\n",
       "       'mungbean', 'banana', 'banana', 'rice', 'watermelon', 'coffee',\n",
       "       'pigeonpeas', 'muskmelon', 'muskmelon', 'mango', 'coffee',\n",
       "       'grapes', 'orange', 'pomegranate', 'mungbean', 'lentil', 'maize',\n",
       "       'jute', 'pomegranate', 'lentil', 'orange', 'chickpea', 'chickpea',\n",
       "       'blackgram', 'pomegranate', 'orange', 'chickpea', 'papaya',\n",
       "       'mothbeans', 'blackgram', 'muskmelon', 'mungbean', 'cotton',\n",
       "       'mungbean', 'coconut', 'pomegranate', 'orange', 'blackgram',\n",
       "       'lentil', 'grapes', 'apple', 'coffee', 'chickpea', 'apple', 'jute',\n",
       "       'mango', 'watermelon', 'papaya', 'orange', 'coconut', 'mothbeans',\n",
       "       'banana', 'pomegranate', 'chickpea', 'watermelon', 'maize',\n",
       "       'apple', 'jute', 'lentil', 'pigeonpeas', 'jute', 'kidneybeans',\n",
       "       'kidneybeans', 'muskmelon', 'rice', 'muskmelon', 'banana',\n",
       "       'orange', 'pigeonpeas', 'apple', 'mothbeans', 'coconut', 'cotton',\n",
       "       'mungbean', 'kidneybeans', 'pomegranate', 'papaya', 'orange',\n",
       "       'rice', 'papaya', 'papaya', 'pigeonpeas', 'kidneybeans', 'banana',\n",
       "       'coconut', 'pigeonpeas', 'rice', 'papaya', 'maize', 'jute',\n",
       "       'mothbeans', 'rice', 'maize', 'coffee', 'pigeonpeas', 'coconut',\n",
       "       'chickpea', 'mango', 'coconut', 'pomegranate', 'cotton',\n",
       "       'mothbeans', 'mothbeans', 'orange', 'muskmelon', 'maize',\n",
       "       'pigeonpeas', 'banana', 'chickpea', 'blackgram', 'pigeonpeas',\n",
       "       'orange', 'mothbeans', 'mungbean', 'mango', 'papaya', 'muskmelon',\n",
       "       'pomegranate', 'jute', 'rice', 'blackgram', 'papaya', 'blackgram',\n",
       "       'coffee', 'maize', 'coffee', 'orange', 'rice', 'mothbeans',\n",
       "       'mungbean', 'orange', 'kidneybeans', 'pomegranate', 'coconut',\n",
       "       'mango', 'mungbean', 'cotton', 'rice', 'chickpea', 'mungbean',\n",
       "       'apple', 'pigeonpeas', 'mothbeans', 'rice', 'watermelon',\n",
       "       'blackgram', 'pomegranate', 'orange', 'maize', 'grapes',\n",
       "       'chickpea', 'pigeonpeas', 'jute', 'papaya', 'pomegranate',\n",
       "       'coffee', 'mango', 'mothbeans', 'jute', 'watermelon',\n",
       "       'pomegranate', 'rice', 'grapes', 'coconut', 'jute', 'lentil',\n",
       "       'chickpea', 'coffee', 'coffee', 'papaya', 'pomegranate', 'maize',\n",
       "       'rice', 'chickpea', 'pigeonpeas', 'orange', 'pomegranate',\n",
       "       'pigeonpeas', 'coconut', 'kidneybeans', 'pomegranate', 'muskmelon',\n",
       "       'mothbeans', 'mango', 'lentil', 'banana', 'blackgram', 'mango',\n",
       "       'kidneybeans', 'mango', 'cotton', 'mungbean', 'papaya', 'grapes',\n",
       "       'grapes', 'pigeonpeas', 'papaya', 'jute', 'rice', 'chickpea',\n",
       "       'muskmelon', 'coffee', 'watermelon', 'jute', 'jute', 'mothbeans',\n",
       "       'grapes', 'muskmelon', 'blackgram', 'mothbeans', 'mothbeans',\n",
       "       'chickpea', 'blackgram', 'mango', 'banana', 'mango', 'pomegranate',\n",
       "       'jute', 'orange', 'muskmelon', 'chickpea', 'lentil', 'cotton',\n",
       "       'papaya', 'grapes', 'kidneybeans', 'lentil', 'apple', 'rice',\n",
       "       'muskmelon', 'apple', 'papaya', 'blackgram', 'jute', 'chickpea',\n",
       "       'mothbeans', 'lentil', 'grapes', 'jute', 'kidneybeans',\n",
       "       'muskmelon', 'papaya', 'grapes', 'papaya', 'rice', 'coffee',\n",
       "       'muskmelon', 'mothbeans', 'banana', 'papaya', 'orange',\n",
       "       'kidneybeans', 'watermelon', 'pigeonpeas', 'apple', 'watermelon',\n",
       "       'watermelon', 'pigeonpeas', 'kidneybeans', 'blackgram',\n",
       "       'kidneybeans', 'jute', 'coconut', 'cotton', 'kidneybeans',\n",
       "       'orange', 'cotton', 'pigeonpeas', 'pomegranate', 'cotton',\n",
       "       'cotton', 'apple', 'cotton', 'apple', 'orange', 'maize', 'grapes',\n",
       "       'banana', 'apple', 'mothbeans', 'rice', 'kidneybeans', 'banana',\n",
       "       'jute', 'lentil', 'chickpea', 'pomegranate', 'banana', 'chickpea',\n",
       "       'muskmelon', 'pomegranate', 'apple', 'lentil', 'muskmelon',\n",
       "       'orange', 'blackgram', 'muskmelon', 'mothbeans', 'mango',\n",
       "       'chickpea', 'pomegranate', 'mango', 'chickpea', 'coconut',\n",
       "       'muskmelon', 'banana', 'pigeonpeas', 'papaya', 'jute', 'blackgram',\n",
       "       'cotton', 'rice', 'banana', 'coconut', 'rice', 'blackgram',\n",
       "       'maize', 'orange', 'watermelon', 'rice', 'apple', 'grapes',\n",
       "       'pigeonpeas', 'grapes', 'chickpea', 'mango', 'jute', 'pomegranate',\n",
       "       'maize', 'mango', 'grapes', 'banana', 'mungbean', 'pigeonpeas',\n",
       "       'banana', 'cotton', 'blackgram', 'apple'], dtype=object)"
      ]
     },
     "execution_count": 46,
     "metadata": {},
     "output_type": "execute_result"
    }
   ],
   "source": [
    "   # at last we will use the loaded pickled model for making predictions  \n",
    "knn_from_pkl.predict(X_test) "
   ]
  },
  {
   "cell_type": "code",
   "execution_count": 47,
   "id": "a9ba898f",
   "metadata": {},
   "outputs": [],
   "source": [
    "import joblib as jbl  "
   ]
  },
  {
   "cell_type": "code",
   "execution_count": 48,
   "id": "a26ff6b6",
   "metadata": {},
   "outputs": [
    {
     "data": {
      "text/plain": [
       "['model_agriculture.pkl']"
      ]
     },
     "execution_count": 48,
     "metadata": {},
     "output_type": "execute_result"
    }
   ],
   "source": [
    "# Now, we are saving the model as a pickle in a file  \n",
    "jbl.dump(lg, 'model_agriculture.pkl')  "
   ]
  },
  {
   "cell_type": "code",
   "execution_count": 49,
   "id": "f36207af",
   "metadata": {},
   "outputs": [],
   "source": [
    "# Here, we are loading the model from the file  \n",
    "knn_from_joblib1 = jbl.load('model_agriculture.pkl')   "
   ]
  },
  {
   "cell_type": "code",
   "execution_count": 50,
   "id": "a0586061",
   "metadata": {},
   "outputs": [
    {
     "data": {
      "text/plain": [
       "array(['watermelon', 'watermelon', 'grapes', 'chickpea', 'blackgram',\n",
       "       'jute', 'mothbeans', 'kidneybeans', 'muskmelon', 'banana',\n",
       "       'mothbeans', 'coffee', 'lentil', 'mungbean', 'mango', 'apple',\n",
       "       'coffee', 'lentil', 'coffee', 'mango', 'coconut', 'blackgram',\n",
       "       'kidneybeans', 'jute', 'cotton', 'coffee', 'lentil', 'orange',\n",
       "       'mothbeans', 'kidneybeans', 'pomegranate', 'rice', 'maize',\n",
       "       'muskmelon', 'coconut', 'cotton', 'mango', 'mango', 'watermelon',\n",
       "       'mothbeans', 'maize', 'blackgram', 'pigeonpeas', 'watermelon',\n",
       "       'pigeonpeas', 'mungbean', 'kidneybeans', 'kidneybeans', 'cotton',\n",
       "       'mungbean', 'mothbeans', 'blackgram', 'apple', 'muskmelon',\n",
       "       'pigeonpeas', 'banana', 'papaya', 'mango', 'lentil', 'cotton',\n",
       "       'orange', 'mungbean', 'watermelon', 'rice', 'muskmelon', 'apple',\n",
       "       'grapes', 'coffee', 'apple', 'orange', 'coconut', 'pomegranate',\n",
       "       'kidneybeans', 'maize', 'grapes', 'mothbeans', 'chickpea', 'maize',\n",
       "       'jute', 'mango', 'rice', 'mothbeans', 'watermelon', 'watermelon',\n",
       "       'muskmelon', 'cotton', 'maize', 'lentil', 'mothbeans', 'papaya',\n",
       "       'blackgram', 'jute', 'mungbean', 'grapes', 'mungbean', 'maize',\n",
       "       'coffee', 'jute', 'lentil', 'chickpea', 'orange', 'jute',\n",
       "       'mungbean', 'banana', 'banana', 'rice', 'watermelon', 'coffee',\n",
       "       'pigeonpeas', 'muskmelon', 'muskmelon', 'mango', 'coffee',\n",
       "       'grapes', 'orange', 'pomegranate', 'mungbean', 'lentil', 'maize',\n",
       "       'jute', 'pomegranate', 'lentil', 'orange', 'chickpea', 'chickpea',\n",
       "       'blackgram', 'pomegranate', 'orange', 'chickpea', 'papaya',\n",
       "       'mothbeans', 'blackgram', 'muskmelon', 'mungbean', 'cotton',\n",
       "       'mungbean', 'coconut', 'pomegranate', 'orange', 'blackgram',\n",
       "       'lentil', 'grapes', 'apple', 'coffee', 'chickpea', 'apple', 'jute',\n",
       "       'mango', 'watermelon', 'papaya', 'orange', 'coconut', 'mothbeans',\n",
       "       'banana', 'pomegranate', 'chickpea', 'watermelon', 'maize',\n",
       "       'apple', 'jute', 'lentil', 'pigeonpeas', 'jute', 'kidneybeans',\n",
       "       'kidneybeans', 'muskmelon', 'rice', 'muskmelon', 'banana',\n",
       "       'orange', 'pigeonpeas', 'apple', 'mothbeans', 'coconut', 'cotton',\n",
       "       'mungbean', 'kidneybeans', 'pomegranate', 'papaya', 'orange',\n",
       "       'rice', 'papaya', 'papaya', 'pigeonpeas', 'kidneybeans', 'banana',\n",
       "       'coconut', 'pigeonpeas', 'rice', 'papaya', 'maize', 'jute',\n",
       "       'mothbeans', 'rice', 'maize', 'coffee', 'pigeonpeas', 'coconut',\n",
       "       'chickpea', 'mango', 'coconut', 'pomegranate', 'cotton',\n",
       "       'mothbeans', 'mothbeans', 'orange', 'muskmelon', 'maize',\n",
       "       'pigeonpeas', 'banana', 'chickpea', 'blackgram', 'pigeonpeas',\n",
       "       'orange', 'mothbeans', 'mungbean', 'mango', 'papaya', 'muskmelon',\n",
       "       'pomegranate', 'jute', 'rice', 'blackgram', 'papaya', 'blackgram',\n",
       "       'coffee', 'maize', 'coffee', 'orange', 'rice', 'mothbeans',\n",
       "       'mungbean', 'orange', 'kidneybeans', 'pomegranate', 'coconut',\n",
       "       'mango', 'mungbean', 'cotton', 'rice', 'chickpea', 'mungbean',\n",
       "       'apple', 'pigeonpeas', 'mothbeans', 'rice', 'watermelon',\n",
       "       'blackgram', 'pomegranate', 'orange', 'maize', 'grapes',\n",
       "       'chickpea', 'pigeonpeas', 'jute', 'papaya', 'pomegranate',\n",
       "       'coffee', 'mango', 'mothbeans', 'jute', 'watermelon',\n",
       "       'pomegranate', 'rice', 'grapes', 'coconut', 'jute', 'lentil',\n",
       "       'chickpea', 'coffee', 'coffee', 'papaya', 'pomegranate', 'maize',\n",
       "       'rice', 'chickpea', 'pigeonpeas', 'orange', 'pomegranate',\n",
       "       'pigeonpeas', 'coconut', 'kidneybeans', 'pomegranate', 'muskmelon',\n",
       "       'mothbeans', 'mango', 'lentil', 'banana', 'blackgram', 'mango',\n",
       "       'kidneybeans', 'mango', 'cotton', 'mungbean', 'papaya', 'grapes',\n",
       "       'grapes', 'pigeonpeas', 'papaya', 'jute', 'rice', 'chickpea',\n",
       "       'muskmelon', 'coffee', 'watermelon', 'jute', 'jute', 'mothbeans',\n",
       "       'grapes', 'muskmelon', 'blackgram', 'mothbeans', 'mothbeans',\n",
       "       'chickpea', 'blackgram', 'mango', 'banana', 'mango', 'pomegranate',\n",
       "       'jute', 'orange', 'muskmelon', 'chickpea', 'lentil', 'cotton',\n",
       "       'papaya', 'grapes', 'kidneybeans', 'lentil', 'apple', 'rice',\n",
       "       'muskmelon', 'apple', 'papaya', 'blackgram', 'jute', 'chickpea',\n",
       "       'mothbeans', 'lentil', 'grapes', 'jute', 'kidneybeans',\n",
       "       'muskmelon', 'papaya', 'grapes', 'papaya', 'rice', 'coffee',\n",
       "       'muskmelon', 'mothbeans', 'banana', 'papaya', 'orange',\n",
       "       'kidneybeans', 'watermelon', 'pigeonpeas', 'apple', 'watermelon',\n",
       "       'watermelon', 'pigeonpeas', 'kidneybeans', 'blackgram',\n",
       "       'kidneybeans', 'jute', 'coconut', 'cotton', 'kidneybeans',\n",
       "       'orange', 'cotton', 'pigeonpeas', 'pomegranate', 'cotton',\n",
       "       'cotton', 'apple', 'cotton', 'apple', 'orange', 'maize', 'grapes',\n",
       "       'banana', 'apple', 'mothbeans', 'rice', 'kidneybeans', 'banana',\n",
       "       'jute', 'lentil', 'chickpea', 'pomegranate', 'banana', 'chickpea',\n",
       "       'muskmelon', 'pomegranate', 'apple', 'lentil', 'muskmelon',\n",
       "       'orange', 'blackgram', 'muskmelon', 'mothbeans', 'mango',\n",
       "       'chickpea', 'pomegranate', 'mango', 'chickpea', 'coconut',\n",
       "       'muskmelon', 'banana', 'pigeonpeas', 'papaya', 'jute', 'blackgram',\n",
       "       'cotton', 'rice', 'banana', 'coconut', 'rice', 'blackgram',\n",
       "       'maize', 'orange', 'watermelon', 'rice', 'apple', 'grapes',\n",
       "       'pigeonpeas', 'grapes', 'chickpea', 'mango', 'jute', 'pomegranate',\n",
       "       'maize', 'mango', 'grapes', 'banana', 'mungbean', 'pigeonpeas',\n",
       "       'banana', 'cotton', 'blackgram', 'apple'], dtype=object)"
      ]
     },
     "execution_count": 50,
     "metadata": {},
     "output_type": "execute_result"
    }
   ],
   "source": [
    "# at last we will use the loaded pickled model for making predictions  \n",
    "knn_from_joblib1.predict(X_test)  "
   ]
  },
  {
   "cell_type": "code",
   "execution_count": null,
   "id": "8f74ae49",
   "metadata": {},
   "outputs": [],
   "source": []
  },
  {
   "cell_type": "code",
   "execution_count": null,
   "id": "ed194e81",
   "metadata": {},
   "outputs": [],
   "source": []
  }
 ],
 "metadata": {
  "kernelspec": {
   "display_name": "Python 3",
   "language": "python",
   "name": "python3"
  },
  "language_info": {
   "codemirror_mode": {
    "name": "ipython",
    "version": 3
   },
   "file_extension": ".py",
   "mimetype": "text/x-python",
   "name": "python",
   "nbconvert_exporter": "python",
   "pygments_lexer": "ipython3",
   "version": "3.8.8"
  }
 },
 "nbformat": 4,
 "nbformat_minor": 5
}

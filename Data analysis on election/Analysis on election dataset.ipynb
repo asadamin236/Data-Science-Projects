{
 "cells": [
  {
   "cell_type": "markdown",
   "id": "3d8a38d5",
   "metadata": {},
   "source": [
    "## Task No 2\n",
    "##### Do small data analysis on election dataset\n",
    "## Solution:\n",
    "##### For solving this problem we use multi class classification \n",
    "##### algotithms like:\n",
    "##### Random Forest Classifier\n",
    "##### Decision Tree Classifier"
   ]
  },
  {
   "cell_type": "markdown",
   "id": "e662b099",
   "metadata": {},
   "source": [
    "## Import libraries"
   ]
  },
  {
   "cell_type": "code",
   "execution_count": 1,
   "id": "36d312f8",
   "metadata": {},
   "outputs": [],
   "source": [
    "import pandas as pd\n",
    "import numpy as np\n",
    "import seaborn as sns\n",
    "import matplotlib.pyplot as plt\n",
    "import warnings\n",
    "warnings.filterwarnings(\"ignore\")"
   ]
  },
  {
   "cell_type": "markdown",
   "id": "d9fe3c79",
   "metadata": {},
   "source": [
    "## Read dataset"
   ]
  },
  {
   "cell_type": "code",
   "execution_count": 2,
   "id": "5f086b8d",
   "metadata": {},
   "outputs": [],
   "source": [
    "Df=pd.read_csv(\"na_records.csv\")"
   ]
  },
  {
   "cell_type": "code",
   "execution_count": 3,
   "id": "e80631f9",
   "metadata": {},
   "outputs": [
    {
     "data": {
      "text/html": [
       "<div>\n",
       "<style scoped>\n",
       "    .dataframe tbody tr th:only-of-type {\n",
       "        vertical-align: middle;\n",
       "    }\n",
       "\n",
       "    .dataframe tbody tr th {\n",
       "        vertical-align: top;\n",
       "    }\n",
       "\n",
       "    .dataframe thead th {\n",
       "        text-align: right;\n",
       "    }\n",
       "</style>\n",
       "<table border=\"1\" class=\"dataframe\">\n",
       "  <thead>\n",
       "    <tr style=\"text-align: right;\">\n",
       "      <th></th>\n",
       "      <th>constituency</th>\n",
       "      <th>registered</th>\n",
       "      <th>rejected</th>\n",
       "      <th>polled</th>\n",
       "      <th>percentage_rejected</th>\n",
       "      <th>winner_votes</th>\n",
       "      <th>runner_up_votes</th>\n",
       "      <th>margin_of_victory</th>\n",
       "      <th>winning_party</th>\n",
       "    </tr>\n",
       "  </thead>\n",
       "  <tbody>\n",
       "    <tr>\n",
       "      <th>0</th>\n",
       "      <td>NA1</td>\n",
       "      <td>269579</td>\n",
       "      <td>5430</td>\n",
       "      <td>164355</td>\n",
       "      <td>3.303824</td>\n",
       "      <td>49035</td>\n",
       "      <td>38819</td>\n",
       "      <td>10216</td>\n",
       "      <td>Muttahida Majlis-e-Amal Pakistan</td>\n",
       "    </tr>\n",
       "    <tr>\n",
       "      <th>1</th>\n",
       "      <td>NA2</td>\n",
       "      <td>382974</td>\n",
       "      <td>8721</td>\n",
       "      <td>165781</td>\n",
       "      <td>5.260555</td>\n",
       "      <td>61834</td>\n",
       "      <td>41366</td>\n",
       "      <td>20468</td>\n",
       "      <td>Pakistan Tehreek-e-Insaf</td>\n",
       "    </tr>\n",
       "    <tr>\n",
       "      <th>2</th>\n",
       "      <td>NA3</td>\n",
       "      <td>401124</td>\n",
       "      <td>6788</td>\n",
       "      <td>161872</td>\n",
       "      <td>4.193437</td>\n",
       "      <td>68280</td>\n",
       "      <td>22758</td>\n",
       "      <td>45522</td>\n",
       "      <td>Pakistan Tehreek-e-Insaf</td>\n",
       "    </tr>\n",
       "    <tr>\n",
       "      <th>3</th>\n",
       "      <td>NA4</td>\n",
       "      <td>409013</td>\n",
       "      <td>6522</td>\n",
       "      <td>160431</td>\n",
       "      <td>4.065299</td>\n",
       "      <td>71600</td>\n",
       "      <td>30975</td>\n",
       "      <td>40625</td>\n",
       "      <td>Pakistan Tehreek-e-Insaf</td>\n",
       "    </tr>\n",
       "    <tr>\n",
       "      <th>4</th>\n",
       "      <td>NA5</td>\n",
       "      <td>447414</td>\n",
       "      <td>8256</td>\n",
       "      <td>215920</td>\n",
       "      <td>3.823638</td>\n",
       "      <td>66545</td>\n",
       "      <td>57657</td>\n",
       "      <td>8888</td>\n",
       "      <td>Pakistan Tehreek-e-Insaf</td>\n",
       "    </tr>\n",
       "    <tr>\n",
       "      <th>...</th>\n",
       "      <td>...</td>\n",
       "      <td>...</td>\n",
       "      <td>...</td>\n",
       "      <td>...</td>\n",
       "      <td>...</td>\n",
       "      <td>...</td>\n",
       "      <td>...</td>\n",
       "      <td>...</td>\n",
       "      <td>...</td>\n",
       "    </tr>\n",
       "    <tr>\n",
       "      <th>265</th>\n",
       "      <td>NA268</td>\n",
       "      <td>234291</td>\n",
       "      <td>2007</td>\n",
       "      <td>48224</td>\n",
       "      <td>4.161828</td>\n",
       "      <td>14435</td>\n",
       "      <td>12272</td>\n",
       "      <td>2163</td>\n",
       "      <td>Balochistan National Party</td>\n",
       "    </tr>\n",
       "    <tr>\n",
       "      <th>266</th>\n",
       "      <td>NA269</td>\n",
       "      <td>228547</td>\n",
       "      <td>10505</td>\n",
       "      <td>124165</td>\n",
       "      <td>8.460516</td>\n",
       "      <td>52875</td>\n",
       "      <td>19720</td>\n",
       "      <td>33155</td>\n",
       "      <td>Balochistan National Party</td>\n",
       "    </tr>\n",
       "    <tr>\n",
       "      <th>267</th>\n",
       "      <td>NA270</td>\n",
       "      <td>231726</td>\n",
       "      <td>6152</td>\n",
       "      <td>93796</td>\n",
       "      <td>6.558915</td>\n",
       "      <td>18568</td>\n",
       "      <td>16040</td>\n",
       "      <td>2528</td>\n",
       "      <td>Balochistan Awami Party</td>\n",
       "    </tr>\n",
       "    <tr>\n",
       "      <th>268</th>\n",
       "      <td>NA271</td>\n",
       "      <td>222631</td>\n",
       "      <td>2605</td>\n",
       "      <td>87955</td>\n",
       "      <td>2.961742</td>\n",
       "      <td>32866</td>\n",
       "      <td>20583</td>\n",
       "      <td>12283</td>\n",
       "      <td>Balochistan Awami Party</td>\n",
       "    </tr>\n",
       "    <tr>\n",
       "      <th>269</th>\n",
       "      <td>NA272</td>\n",
       "      <td>356879</td>\n",
       "      <td>10433</td>\n",
       "      <td>199918</td>\n",
       "      <td>5.218640</td>\n",
       "      <td>68804</td>\n",
       "      <td>63275</td>\n",
       "      <td>5529</td>\n",
       "      <td>Independent</td>\n",
       "    </tr>\n",
       "  </tbody>\n",
       "</table>\n",
       "<p>270 rows × 9 columns</p>\n",
       "</div>"
      ],
      "text/plain": [
       "    constituency  registered  rejected  polled  percentage_rejected  \\\n",
       "0            NA1      269579      5430  164355             3.303824   \n",
       "1            NA2      382974      8721  165781             5.260555   \n",
       "2            NA3      401124      6788  161872             4.193437   \n",
       "3            NA4      409013      6522  160431             4.065299   \n",
       "4            NA5      447414      8256  215920             3.823638   \n",
       "..           ...         ...       ...     ...                  ...   \n",
       "265        NA268      234291      2007   48224             4.161828   \n",
       "266        NA269      228547     10505  124165             8.460516   \n",
       "267        NA270      231726      6152   93796             6.558915   \n",
       "268        NA271      222631      2605   87955             2.961742   \n",
       "269        NA272      356879     10433  199918             5.218640   \n",
       "\n",
       "     winner_votes  runner_up_votes  margin_of_victory  \\\n",
       "0           49035            38819              10216   \n",
       "1           61834            41366              20468   \n",
       "2           68280            22758              45522   \n",
       "3           71600            30975              40625   \n",
       "4           66545            57657               8888   \n",
       "..            ...              ...                ...   \n",
       "265         14435            12272               2163   \n",
       "266         52875            19720              33155   \n",
       "267         18568            16040               2528   \n",
       "268         32866            20583              12283   \n",
       "269         68804            63275               5529   \n",
       "\n",
       "                        winning_party  \n",
       "0    Muttahida Majlis-e-Amal Pakistan  \n",
       "1            Pakistan Tehreek-e-Insaf  \n",
       "2            Pakistan Tehreek-e-Insaf  \n",
       "3            Pakistan Tehreek-e-Insaf  \n",
       "4            Pakistan Tehreek-e-Insaf  \n",
       "..                                ...  \n",
       "265        Balochistan National Party  \n",
       "266        Balochistan National Party  \n",
       "267           Balochistan Awami Party  \n",
       "268           Balochistan Awami Party  \n",
       "269                       Independent  \n",
       "\n",
       "[270 rows x 9 columns]"
      ]
     },
     "execution_count": 3,
     "metadata": {},
     "output_type": "execute_result"
    }
   ],
   "source": [
    "Df"
   ]
  },
  {
   "cell_type": "markdown",
   "id": "f141981f",
   "metadata": {},
   "source": [
    "## Check no of rows and columns in dataset"
   ]
  },
  {
   "cell_type": "code",
   "execution_count": 5,
   "id": "88a10ff7",
   "metadata": {},
   "outputs": [
    {
     "data": {
      "text/plain": [
       "(270, 9)"
      ]
     },
     "execution_count": 5,
     "metadata": {},
     "output_type": "execute_result"
    }
   ],
   "source": [
    "Df.shape"
   ]
  },
  {
   "cell_type": "markdown",
   "id": "bf6863b1",
   "metadata": {},
   "source": [
    "## Check type of dataframe"
   ]
  },
  {
   "cell_type": "code",
   "execution_count": 8,
   "id": "9b6c39eb",
   "metadata": {},
   "outputs": [
    {
     "data": {
      "text/plain": [
       "pandas.core.frame.DataFrame"
      ]
     },
     "execution_count": 8,
     "metadata": {},
     "output_type": "execute_result"
    }
   ],
   "source": [
    "type(Df)"
   ]
  },
  {
   "cell_type": "markdown",
   "id": "ca90340d",
   "metadata": {},
   "source": [
    "## Check information of all columns in the dataset"
   ]
  },
  {
   "cell_type": "code",
   "execution_count": 10,
   "id": "ffbf0414",
   "metadata": {},
   "outputs": [
    {
     "name": "stdout",
     "output_type": "stream",
     "text": [
      "<class 'pandas.core.frame.DataFrame'>\n",
      "RangeIndex: 270 entries, 0 to 269\n",
      "Data columns (total 9 columns):\n",
      " #   Column               Non-Null Count  Dtype  \n",
      "---  ------               --------------  -----  \n",
      " 0   constituency         270 non-null    object \n",
      " 1   registered           270 non-null    int64  \n",
      " 2   rejected             270 non-null    int64  \n",
      " 3   polled               270 non-null    int64  \n",
      " 4   percentage_rejected  270 non-null    float64\n",
      " 5   winner_votes         270 non-null    int64  \n",
      " 6   runner_up_votes      270 non-null    int64  \n",
      " 7   margin_of_victory    270 non-null    int64  \n",
      " 8   winning_party        270 non-null    object \n",
      "dtypes: float64(1), int64(6), object(2)\n",
      "memory usage: 19.1+ KB\n"
     ]
    }
   ],
   "source": [
    "Df.info()"
   ]
  },
  {
   "cell_type": "markdown",
   "id": "6e98bebf",
   "metadata": {},
   "source": [
    "## Check data types of all columns of the dataset"
   ]
  },
  {
   "cell_type": "code",
   "execution_count": 11,
   "id": "3d0609a9",
   "metadata": {},
   "outputs": [
    {
     "data": {
      "text/plain": [
       "constituency            object\n",
       "registered               int64\n",
       "rejected                 int64\n",
       "polled                   int64\n",
       "percentage_rejected    float64\n",
       "winner_votes             int64\n",
       "runner_up_votes          int64\n",
       "margin_of_victory        int64\n",
       "winning_party           object\n",
       "dtype: object"
      ]
     },
     "execution_count": 11,
     "metadata": {},
     "output_type": "execute_result"
    }
   ],
   "source": [
    "Df.dtypes"
   ]
  },
  {
   "cell_type": "markdown",
   "id": "652d4fd7",
   "metadata": {},
   "source": [
    "## Check for null values in the dataset"
   ]
  },
  {
   "cell_type": "code",
   "execution_count": 12,
   "id": "decc2fc9",
   "metadata": {},
   "outputs": [
    {
     "data": {
      "text/plain": [
       "constituency           0\n",
       "registered             0\n",
       "rejected               0\n",
       "polled                 0\n",
       "percentage_rejected    0\n",
       "winner_votes           0\n",
       "runner_up_votes        0\n",
       "margin_of_victory      0\n",
       "winning_party          0\n",
       "dtype: int64"
      ]
     },
     "execution_count": 12,
     "metadata": {},
     "output_type": "execute_result"
    }
   ],
   "source": [
    "Df.isna().sum()"
   ]
  },
  {
   "cell_type": "markdown",
   "id": "f5300d97",
   "metadata": {},
   "source": [
    "## Data visualization part"
   ]
  },
  {
   "cell_type": "code",
   "execution_count": 13,
   "id": "1aa40b64",
   "metadata": {},
   "outputs": [
    {
     "data": {
      "text/html": [
       "<div>\n",
       "<style scoped>\n",
       "    .dataframe tbody tr th:only-of-type {\n",
       "        vertical-align: middle;\n",
       "    }\n",
       "\n",
       "    .dataframe tbody tr th {\n",
       "        vertical-align: top;\n",
       "    }\n",
       "\n",
       "    .dataframe thead th {\n",
       "        text-align: right;\n",
       "    }\n",
       "</style>\n",
       "<table border=\"1\" class=\"dataframe\">\n",
       "  <thead>\n",
       "    <tr style=\"text-align: right;\">\n",
       "      <th></th>\n",
       "      <th>constituency</th>\n",
       "      <th>registered</th>\n",
       "      <th>rejected</th>\n",
       "      <th>polled</th>\n",
       "      <th>percentage_rejected</th>\n",
       "      <th>winner_votes</th>\n",
       "      <th>runner_up_votes</th>\n",
       "      <th>margin_of_victory</th>\n",
       "      <th>winning_party</th>\n",
       "    </tr>\n",
       "  </thead>\n",
       "  <tbody>\n",
       "    <tr>\n",
       "      <th>16</th>\n",
       "      <td>NA17</td>\n",
       "      <td>657648</td>\n",
       "      <td>8862</td>\n",
       "      <td>343442</td>\n",
       "      <td>2.580348</td>\n",
       "      <td>172609</td>\n",
       "      <td>132756</td>\n",
       "      <td>39853</td>\n",
       "      <td>Pakistan Tehreek-e-Insaf</td>\n",
       "    </tr>\n",
       "    <tr>\n",
       "      <th>85</th>\n",
       "      <td>NA87</td>\n",
       "      <td>684447</td>\n",
       "      <td>9565</td>\n",
       "      <td>404723</td>\n",
       "      <td>2.363345</td>\n",
       "      <td>165618</td>\n",
       "      <td>157453</td>\n",
       "      <td>8165</td>\n",
       "      <td>Pakistan Tehreek-e-Insaf</td>\n",
       "    </tr>\n",
       "    <tr>\n",
       "      <th>217</th>\n",
       "      <td>NA220</td>\n",
       "      <td>461867</td>\n",
       "      <td>11557</td>\n",
       "      <td>286159</td>\n",
       "      <td>4.038664</td>\n",
       "      <td>164047</td>\n",
       "      <td>104859</td>\n",
       "      <td>59188</td>\n",
       "      <td>Pakistan Peoples Party Parliamentarians</td>\n",
       "    </tr>\n",
       "    <tr>\n",
       "      <th>93</th>\n",
       "      <td>NA95</td>\n",
       "      <td>465740</td>\n",
       "      <td>8177</td>\n",
       "      <td>252872</td>\n",
       "      <td>3.233652</td>\n",
       "      <td>163538</td>\n",
       "      <td>50015</td>\n",
       "      <td>113523</td>\n",
       "      <td>Pakistan Tehreek-e-Insaf</td>\n",
       "    </tr>\n",
       "    <tr>\n",
       "      <th>55</th>\n",
       "      <td>NA56</td>\n",
       "      <td>638937</td>\n",
       "      <td>10143</td>\n",
       "      <td>339949</td>\n",
       "      <td>2.983683</td>\n",
       "      <td>163325</td>\n",
       "      <td>99404</td>\n",
       "      <td>63921</td>\n",
       "      <td>Pakistan Tehreek-e-Insaf</td>\n",
       "    </tr>\n",
       "    <tr>\n",
       "      <th>76</th>\n",
       "      <td>NA78</td>\n",
       "      <td>516249</td>\n",
       "      <td>6418</td>\n",
       "      <td>284256</td>\n",
       "      <td>2.257824</td>\n",
       "      <td>160020</td>\n",
       "      <td>88689</td>\n",
       "      <td>71331</td>\n",
       "      <td>Pakistan Muslim League (N)</td>\n",
       "    </tr>\n",
       "    <tr>\n",
       "      <th>63</th>\n",
       "      <td>NA65</td>\n",
       "      <td>552523</td>\n",
       "      <td>9961</td>\n",
       "      <td>316882</td>\n",
       "      <td>3.143441</td>\n",
       "      <td>158477</td>\n",
       "      <td>106514</td>\n",
       "      <td>51963</td>\n",
       "      <td>Pakistan Muslim League</td>\n",
       "    </tr>\n",
       "    <tr>\n",
       "      <th>94</th>\n",
       "      <td>NA96</td>\n",
       "      <td>450741</td>\n",
       "      <td>6516</td>\n",
       "      <td>261189</td>\n",
       "      <td>2.494745</td>\n",
       "      <td>157422</td>\n",
       "      <td>54909</td>\n",
       "      <td>102513</td>\n",
       "      <td>Pakistan Tehreek-e-Insaf</td>\n",
       "    </tr>\n",
       "    <tr>\n",
       "      <th>62</th>\n",
       "      <td>NA64</td>\n",
       "      <td>551011</td>\n",
       "      <td>9043</td>\n",
       "      <td>320394</td>\n",
       "      <td>2.822462</td>\n",
       "      <td>155598</td>\n",
       "      <td>130198</td>\n",
       "      <td>25400</td>\n",
       "      <td>Pakistan Tehreek-e-Insaf</td>\n",
       "    </tr>\n",
       "    <tr>\n",
       "      <th>229</th>\n",
       "      <td>NA232</td>\n",
       "      <td>440329</td>\n",
       "      <td>8684</td>\n",
       "      <td>191166</td>\n",
       "      <td>4.542649</td>\n",
       "      <td>152700</td>\n",
       "      <td>18914</td>\n",
       "      <td>133786</td>\n",
       "      <td>Pakistan Peoples Party Parliamentarians</td>\n",
       "    </tr>\n",
       "    <tr>\n",
       "      <th>99</th>\n",
       "      <td>NA101</td>\n",
       "      <td>459268</td>\n",
       "      <td>6437</td>\n",
       "      <td>267262</td>\n",
       "      <td>2.408498</td>\n",
       "      <td>147937</td>\n",
       "      <td>86717</td>\n",
       "      <td>61220</td>\n",
       "      <td>Independent</td>\n",
       "    </tr>\n",
       "    <tr>\n",
       "      <th>84</th>\n",
       "      <td>NA86</td>\n",
       "      <td>512410</td>\n",
       "      <td>15588</td>\n",
       "      <td>282089</td>\n",
       "      <td>5.525916</td>\n",
       "      <td>147105</td>\n",
       "      <td>80637</td>\n",
       "      <td>66468</td>\n",
       "      <td>Pakistan Muslim League (N)</td>\n",
       "    </tr>\n",
       "    <tr>\n",
       "      <th>121</th>\n",
       "      <td>NA124</td>\n",
       "      <td>533497</td>\n",
       "      <td>3829</td>\n",
       "      <td>258730</td>\n",
       "      <td>1.479921</td>\n",
       "      <td>146306</td>\n",
       "      <td>81019</td>\n",
       "      <td>65287</td>\n",
       "      <td>Pakistan Muslim League (N)</td>\n",
       "    </tr>\n",
       "    <tr>\n",
       "      <th>54</th>\n",
       "      <td>NA55</td>\n",
       "      <td>571804</td>\n",
       "      <td>8540</td>\n",
       "      <td>305727</td>\n",
       "      <td>2.793342</td>\n",
       "      <td>145832</td>\n",
       "      <td>102075</td>\n",
       "      <td>43757</td>\n",
       "      <td>Pakistan Tehreek-e-Insaf</td>\n",
       "    </tr>\n",
       "    <tr>\n",
       "      <th>140</th>\n",
       "      <td>NA143</td>\n",
       "      <td>433216</td>\n",
       "      <td>5926</td>\n",
       "      <td>252198</td>\n",
       "      <td>2.349741</td>\n",
       "      <td>143022</td>\n",
       "      <td>89263</td>\n",
       "      <td>53759</td>\n",
       "      <td>Pakistan Muslim League (N)</td>\n",
       "    </tr>\n",
       "  </tbody>\n",
       "</table>\n",
       "</div>"
      ],
      "text/plain": [
       "    constituency  registered  rejected  polled  percentage_rejected  \\\n",
       "16          NA17      657648      8862  343442             2.580348   \n",
       "85          NA87      684447      9565  404723             2.363345   \n",
       "217        NA220      461867     11557  286159             4.038664   \n",
       "93          NA95      465740      8177  252872             3.233652   \n",
       "55          NA56      638937     10143  339949             2.983683   \n",
       "76          NA78      516249      6418  284256             2.257824   \n",
       "63          NA65      552523      9961  316882             3.143441   \n",
       "94          NA96      450741      6516  261189             2.494745   \n",
       "62          NA64      551011      9043  320394             2.822462   \n",
       "229        NA232      440329      8684  191166             4.542649   \n",
       "99         NA101      459268      6437  267262             2.408498   \n",
       "84          NA86      512410     15588  282089             5.525916   \n",
       "121        NA124      533497      3829  258730             1.479921   \n",
       "54          NA55      571804      8540  305727             2.793342   \n",
       "140        NA143      433216      5926  252198             2.349741   \n",
       "\n",
       "     winner_votes  runner_up_votes  margin_of_victory  \\\n",
       "16         172609           132756              39853   \n",
       "85         165618           157453               8165   \n",
       "217        164047           104859              59188   \n",
       "93         163538            50015             113523   \n",
       "55         163325            99404              63921   \n",
       "76         160020            88689              71331   \n",
       "63         158477           106514              51963   \n",
       "94         157422            54909             102513   \n",
       "62         155598           130198              25400   \n",
       "229        152700            18914             133786   \n",
       "99         147937            86717              61220   \n",
       "84         147105            80637              66468   \n",
       "121        146306            81019              65287   \n",
       "54         145832           102075              43757   \n",
       "140        143022            89263              53759   \n",
       "\n",
       "                               winning_party  \n",
       "16                  Pakistan Tehreek-e-Insaf  \n",
       "85                  Pakistan Tehreek-e-Insaf  \n",
       "217  Pakistan Peoples Party Parliamentarians  \n",
       "93                  Pakistan Tehreek-e-Insaf  \n",
       "55                  Pakistan Tehreek-e-Insaf  \n",
       "76                Pakistan Muslim League (N)  \n",
       "63                    Pakistan Muslim League  \n",
       "94                  Pakistan Tehreek-e-Insaf  \n",
       "62                  Pakistan Tehreek-e-Insaf  \n",
       "229  Pakistan Peoples Party Parliamentarians  \n",
       "99                               Independent  \n",
       "84                Pakistan Muslim League (N)  \n",
       "121               Pakistan Muslim League (N)  \n",
       "54                  Pakistan Tehreek-e-Insaf  \n",
       "140               Pakistan Muslim League (N)  "
      ]
     },
     "execution_count": 13,
     "metadata": {},
     "output_type": "execute_result"
    }
   ],
   "source": [
    "df=Df.nlargest(15, ['winner_votes'])\n",
    "df"
   ]
  },
  {
   "cell_type": "markdown",
   "id": "693e565b",
   "metadata": {},
   "source": [
    "## Find 15 smallest winner_votes"
   ]
  },
  {
   "cell_type": "code",
   "execution_count": 15,
   "id": "9b97d3f1",
   "metadata": {},
   "outputs": [
    {
     "data": {
      "text/html": [
       "<div>\n",
       "<style scoped>\n",
       "    .dataframe tbody tr th:only-of-type {\n",
       "        vertical-align: middle;\n",
       "    }\n",
       "\n",
       "    .dataframe tbody tr th {\n",
       "        vertical-align: top;\n",
       "    }\n",
       "\n",
       "    .dataframe thead th {\n",
       "        text-align: right;\n",
       "    }\n",
       "</style>\n",
       "<table border=\"1\" class=\"dataframe\">\n",
       "  <thead>\n",
       "    <tr style=\"text-align: right;\">\n",
       "      <th></th>\n",
       "      <th>constituency</th>\n",
       "      <th>registered</th>\n",
       "      <th>rejected</th>\n",
       "      <th>polled</th>\n",
       "      <th>percentage_rejected</th>\n",
       "      <th>winner_votes</th>\n",
       "      <th>runner_up_votes</th>\n",
       "      <th>margin_of_victory</th>\n",
       "      <th>winning_party</th>\n",
       "    </tr>\n",
       "  </thead>\n",
       "  <tbody>\n",
       "    <tr>\n",
       "      <th>45</th>\n",
       "      <td>NA46</td>\n",
       "      <td>172497</td>\n",
       "      <td>63</td>\n",
       "      <td>74472</td>\n",
       "      <td>0.084596</td>\n",
       "      <td>4546</td>\n",
       "      <td>2326</td>\n",
       "      <td>2220</td>\n",
       "      <td>Pakistan Peoples Party Parliamentarians</td>\n",
       "    </tr>\n",
       "    <tr>\n",
       "      <th>48</th>\n",
       "      <td>NA49</td>\n",
       "      <td>178293</td>\n",
       "      <td>501</td>\n",
       "      <td>26930</td>\n",
       "      <td>1.860379</td>\n",
       "      <td>7794</td>\n",
       "      <td>6606</td>\n",
       "      <td>1188</td>\n",
       "      <td>Muttahida Majlis-e-Amal Pakistan</td>\n",
       "    </tr>\n",
       "    <tr>\n",
       "      <th>46</th>\n",
       "      <td>NA47</td>\n",
       "      <td>167206</td>\n",
       "      <td>1185</td>\n",
       "      <td>54966</td>\n",
       "      <td>2.155878</td>\n",
       "      <td>11523</td>\n",
       "      <td>6988</td>\n",
       "      <td>4535</td>\n",
       "      <td>Pakistan Tehreek-e-Insaf</td>\n",
       "    </tr>\n",
       "    <tr>\n",
       "      <th>43</th>\n",
       "      <td>NA44</td>\n",
       "      <td>265217</td>\n",
       "      <td>929</td>\n",
       "      <td>67144</td>\n",
       "      <td>1.383593</td>\n",
       "      <td>12537</td>\n",
       "      <td>9042</td>\n",
       "      <td>3495</td>\n",
       "      <td>Pakistan Tehreek-e-Insaf</td>\n",
       "    </tr>\n",
       "    <tr>\n",
       "      <th>265</th>\n",
       "      <td>NA268</td>\n",
       "      <td>234291</td>\n",
       "      <td>2007</td>\n",
       "      <td>48224</td>\n",
       "      <td>4.161828</td>\n",
       "      <td>14435</td>\n",
       "      <td>12272</td>\n",
       "      <td>2163</td>\n",
       "      <td>Balochistan National Party</td>\n",
       "    </tr>\n",
       "    <tr>\n",
       "      <th>261</th>\n",
       "      <td>NA264</td>\n",
       "      <td>175744</td>\n",
       "      <td>2596</td>\n",
       "      <td>69887</td>\n",
       "      <td>3.714568</td>\n",
       "      <td>14887</td>\n",
       "      <td>10071</td>\n",
       "      <td>4816</td>\n",
       "      <td>Muttahida Majlis-e-Amal Pakistan</td>\n",
       "    </tr>\n",
       "    <tr>\n",
       "      <th>44</th>\n",
       "      <td>NA45</td>\n",
       "      <td>165368</td>\n",
       "      <td>1536</td>\n",
       "      <td>57839</td>\n",
       "      <td>2.655648</td>\n",
       "      <td>16353</td>\n",
       "      <td>13601</td>\n",
       "      <td>2752</td>\n",
       "      <td>Muttahida Majlis-e-Amal Pakistan</td>\n",
       "    </tr>\n",
       "    <tr>\n",
       "      <th>10</th>\n",
       "      <td>NA11</td>\n",
       "      <td>154620</td>\n",
       "      <td>1567</td>\n",
       "      <td>63229</td>\n",
       "      <td>2.478293</td>\n",
       "      <td>16480</td>\n",
       "      <td>14536</td>\n",
       "      <td>1944</td>\n",
       "      <td>Muttahida Majlis-e-Amal Pakistan</td>\n",
       "    </tr>\n",
       "    <tr>\n",
       "      <th>47</th>\n",
       "      <td>NA48</td>\n",
       "      <td>274205</td>\n",
       "      <td>611</td>\n",
       "      <td>63954</td>\n",
       "      <td>0.955374</td>\n",
       "      <td>16496</td>\n",
       "      <td>15352</td>\n",
       "      <td>1144</td>\n",
       "      <td>Independent</td>\n",
       "    </tr>\n",
       "    <tr>\n",
       "      <th>267</th>\n",
       "      <td>NA270</td>\n",
       "      <td>231726</td>\n",
       "      <td>6152</td>\n",
       "      <td>93796</td>\n",
       "      <td>6.558915</td>\n",
       "      <td>18568</td>\n",
       "      <td>16040</td>\n",
       "      <td>2528</td>\n",
       "      <td>Balochistan Awami Party</td>\n",
       "    </tr>\n",
       "    <tr>\n",
       "      <th>263</th>\n",
       "      <td>NA266</td>\n",
       "      <td>187539</td>\n",
       "      <td>2779</td>\n",
       "      <td>64320</td>\n",
       "      <td>4.320585</td>\n",
       "      <td>20034</td>\n",
       "      <td>11057</td>\n",
       "      <td>8977</td>\n",
       "      <td>Balochistan National Party</td>\n",
       "    </tr>\n",
       "    <tr>\n",
       "      <th>249</th>\n",
       "      <td>NA252</td>\n",
       "      <td>219042</td>\n",
       "      <td>2215</td>\n",
       "      <td>86757</td>\n",
       "      <td>2.553108</td>\n",
       "      <td>21065</td>\n",
       "      <td>17858</td>\n",
       "      <td>3207</td>\n",
       "      <td>Pakistan Tehreek-e-Insaf</td>\n",
       "    </tr>\n",
       "    <tr>\n",
       "      <th>50</th>\n",
       "      <td>NA51</td>\n",
       "      <td>166632</td>\n",
       "      <td>1159</td>\n",
       "      <td>69803</td>\n",
       "      <td>1.660387</td>\n",
       "      <td>21962</td>\n",
       "      <td>18754</td>\n",
       "      <td>3208</td>\n",
       "      <td>Muttahida Majlis-e-Amal Pakistan</td>\n",
       "    </tr>\n",
       "    <tr>\n",
       "      <th>41</th>\n",
       "      <td>NA42</td>\n",
       "      <td>257652</td>\n",
       "      <td>1553</td>\n",
       "      <td>92855</td>\n",
       "      <td>1.672500</td>\n",
       "      <td>22742</td>\n",
       "      <td>21106</td>\n",
       "      <td>1636</td>\n",
       "      <td>Pakistan Tehreek-e-Insaf</td>\n",
       "    </tr>\n",
       "    <tr>\n",
       "      <th>40</th>\n",
       "      <td>NA41</td>\n",
       "      <td>237153</td>\n",
       "      <td>2073</td>\n",
       "      <td>90512</td>\n",
       "      <td>2.290304</td>\n",
       "      <td>22767</td>\n",
       "      <td>11960</td>\n",
       "      <td>10807</td>\n",
       "      <td>Pakistan Tehreek-e-Insaf</td>\n",
       "    </tr>\n",
       "  </tbody>\n",
       "</table>\n",
       "</div>"
      ],
      "text/plain": [
       "    constituency  registered  rejected  polled  percentage_rejected  \\\n",
       "45          NA46      172497        63   74472             0.084596   \n",
       "48          NA49      178293       501   26930             1.860379   \n",
       "46          NA47      167206      1185   54966             2.155878   \n",
       "43          NA44      265217       929   67144             1.383593   \n",
       "265        NA268      234291      2007   48224             4.161828   \n",
       "261        NA264      175744      2596   69887             3.714568   \n",
       "44          NA45      165368      1536   57839             2.655648   \n",
       "10          NA11      154620      1567   63229             2.478293   \n",
       "47          NA48      274205       611   63954             0.955374   \n",
       "267        NA270      231726      6152   93796             6.558915   \n",
       "263        NA266      187539      2779   64320             4.320585   \n",
       "249        NA252      219042      2215   86757             2.553108   \n",
       "50          NA51      166632      1159   69803             1.660387   \n",
       "41          NA42      257652      1553   92855             1.672500   \n",
       "40          NA41      237153      2073   90512             2.290304   \n",
       "\n",
       "     winner_votes  runner_up_votes  margin_of_victory  \\\n",
       "45           4546             2326               2220   \n",
       "48           7794             6606               1188   \n",
       "46          11523             6988               4535   \n",
       "43          12537             9042               3495   \n",
       "265         14435            12272               2163   \n",
       "261         14887            10071               4816   \n",
       "44          16353            13601               2752   \n",
       "10          16480            14536               1944   \n",
       "47          16496            15352               1144   \n",
       "267         18568            16040               2528   \n",
       "263         20034            11057               8977   \n",
       "249         21065            17858               3207   \n",
       "50          21962            18754               3208   \n",
       "41          22742            21106               1636   \n",
       "40          22767            11960              10807   \n",
       "\n",
       "                               winning_party  \n",
       "45   Pakistan Peoples Party Parliamentarians  \n",
       "48          Muttahida Majlis-e-Amal Pakistan  \n",
       "46                  Pakistan Tehreek-e-Insaf  \n",
       "43                  Pakistan Tehreek-e-Insaf  \n",
       "265               Balochistan National Party  \n",
       "261         Muttahida Majlis-e-Amal Pakistan  \n",
       "44          Muttahida Majlis-e-Amal Pakistan  \n",
       "10          Muttahida Majlis-e-Amal Pakistan  \n",
       "47                               Independent  \n",
       "267                  Balochistan Awami Party  \n",
       "263               Balochistan National Party  \n",
       "249                 Pakistan Tehreek-e-Insaf  \n",
       "50          Muttahida Majlis-e-Amal Pakistan  \n",
       "41                  Pakistan Tehreek-e-Insaf  \n",
       "40                  Pakistan Tehreek-e-Insaf  "
      ]
     },
     "execution_count": 15,
     "metadata": {},
     "output_type": "execute_result"
    }
   ],
   "source": [
    "df2=Df.nsmallest(15, ['winner_votes'])\n",
    "df2"
   ]
  },
  {
   "cell_type": "markdown",
   "id": "717d7603",
   "metadata": {},
   "source": [
    "## Find 10 largest rejected "
   ]
  },
  {
   "cell_type": "code",
   "execution_count": 16,
   "id": "a63955ff",
   "metadata": {},
   "outputs": [
    {
     "data": {
      "text/html": [
       "<div>\n",
       "<style scoped>\n",
       "    .dataframe tbody tr th:only-of-type {\n",
       "        vertical-align: middle;\n",
       "    }\n",
       "\n",
       "    .dataframe tbody tr th {\n",
       "        vertical-align: top;\n",
       "    }\n",
       "\n",
       "    .dataframe thead th {\n",
       "        text-align: right;\n",
       "    }\n",
       "</style>\n",
       "<table border=\"1\" class=\"dataframe\">\n",
       "  <thead>\n",
       "    <tr style=\"text-align: right;\">\n",
       "      <th></th>\n",
       "      <th>constituency</th>\n",
       "      <th>registered</th>\n",
       "      <th>rejected</th>\n",
       "      <th>polled</th>\n",
       "      <th>percentage_rejected</th>\n",
       "      <th>winner_votes</th>\n",
       "      <th>runner_up_votes</th>\n",
       "      <th>margin_of_victory</th>\n",
       "      <th>winning_party</th>\n",
       "    </tr>\n",
       "  </thead>\n",
       "  <tbody>\n",
       "    <tr>\n",
       "      <th>84</th>\n",
       "      <td>NA86</td>\n",
       "      <td>512410</td>\n",
       "      <td>15588</td>\n",
       "      <td>282089</td>\n",
       "      <td>5.525916</td>\n",
       "      <td>147105</td>\n",
       "      <td>80637</td>\n",
       "      <td>66468</td>\n",
       "      <td>Pakistan Muslim League (N)</td>\n",
       "    </tr>\n",
       "    <tr>\n",
       "      <th>194</th>\n",
       "      <td>NA197</td>\n",
       "      <td>454542</td>\n",
       "      <td>15340</td>\n",
       "      <td>165333</td>\n",
       "      <td>9.278245</td>\n",
       "      <td>84742</td>\n",
       "      <td>47326</td>\n",
       "      <td>37416</td>\n",
       "      <td>Pakistan Peoples Party Parliamentarians</td>\n",
       "    </tr>\n",
       "    <tr>\n",
       "      <th>193</th>\n",
       "      <td>NA196</td>\n",
       "      <td>486064</td>\n",
       "      <td>13660</td>\n",
       "      <td>216726</td>\n",
       "      <td>6.302889</td>\n",
       "      <td>92274</td>\n",
       "      <td>86876</td>\n",
       "      <td>5398</td>\n",
       "      <td>Pakistan Tehreek-e-Insaf</td>\n",
       "    </tr>\n",
       "    <tr>\n",
       "      <th>202</th>\n",
       "      <td>NA205</td>\n",
       "      <td>339699</td>\n",
       "      <td>13614</td>\n",
       "      <td>171090</td>\n",
       "      <td>7.957216</td>\n",
       "      <td>72082</td>\n",
       "      <td>41885</td>\n",
       "      <td>30197</td>\n",
       "      <td>Independent</td>\n",
       "    </tr>\n",
       "    <tr>\n",
       "      <th>257</th>\n",
       "      <td>NA260</td>\n",
       "      <td>365862</td>\n",
       "      <td>13597</td>\n",
       "      <td>143214</td>\n",
       "      <td>9.494184</td>\n",
       "      <td>53330</td>\n",
       "      <td>40188</td>\n",
       "      <td>13142</td>\n",
       "      <td>Balochistan Awami Party</td>\n",
       "    </tr>\n",
       "    <tr>\n",
       "      <th>111</th>\n",
       "      <td>NA114</td>\n",
       "      <td>492782</td>\n",
       "      <td>12970</td>\n",
       "      <td>307719</td>\n",
       "      <td>4.214884</td>\n",
       "      <td>106043</td>\n",
       "      <td>105454</td>\n",
       "      <td>589</td>\n",
       "      <td>Pakistan Tehreek-e-Insaf</td>\n",
       "    </tr>\n",
       "    <tr>\n",
       "      <th>219</th>\n",
       "      <td>NA222</td>\n",
       "      <td>331872</td>\n",
       "      <td>12907</td>\n",
       "      <td>235340</td>\n",
       "      <td>5.484406</td>\n",
       "      <td>109056</td>\n",
       "      <td>89290</td>\n",
       "      <td>19766</td>\n",
       "      <td>Pakistan Peoples Party Parliamentarians</td>\n",
       "    </tr>\n",
       "    <tr>\n",
       "      <th>113</th>\n",
       "      <td>NA116</td>\n",
       "      <td>475031</td>\n",
       "      <td>12880</td>\n",
       "      <td>295248</td>\n",
       "      <td>4.362434</td>\n",
       "      <td>91098</td>\n",
       "      <td>71235</td>\n",
       "      <td>19863</td>\n",
       "      <td>Pakistan Tehreek-e-Insaf</td>\n",
       "    </tr>\n",
       "    <tr>\n",
       "      <th>83</th>\n",
       "      <td>NA85</td>\n",
       "      <td>510468</td>\n",
       "      <td>12238</td>\n",
       "      <td>272840</td>\n",
       "      <td>4.485413</td>\n",
       "      <td>100302</td>\n",
       "      <td>80476</td>\n",
       "      <td>19826</td>\n",
       "      <td>Pakistan Tehreek-e-Insaf</td>\n",
       "    </tr>\n",
       "    <tr>\n",
       "      <th>217</th>\n",
       "      <td>NA220</td>\n",
       "      <td>461867</td>\n",
       "      <td>11557</td>\n",
       "      <td>286159</td>\n",
       "      <td>4.038664</td>\n",
       "      <td>164047</td>\n",
       "      <td>104859</td>\n",
       "      <td>59188</td>\n",
       "      <td>Pakistan Peoples Party Parliamentarians</td>\n",
       "    </tr>\n",
       "  </tbody>\n",
       "</table>\n",
       "</div>"
      ],
      "text/plain": [
       "    constituency  registered  rejected  polled  percentage_rejected  \\\n",
       "84          NA86      512410     15588  282089             5.525916   \n",
       "194        NA197      454542     15340  165333             9.278245   \n",
       "193        NA196      486064     13660  216726             6.302889   \n",
       "202        NA205      339699     13614  171090             7.957216   \n",
       "257        NA260      365862     13597  143214             9.494184   \n",
       "111        NA114      492782     12970  307719             4.214884   \n",
       "219        NA222      331872     12907  235340             5.484406   \n",
       "113        NA116      475031     12880  295248             4.362434   \n",
       "83          NA85      510468     12238  272840             4.485413   \n",
       "217        NA220      461867     11557  286159             4.038664   \n",
       "\n",
       "     winner_votes  runner_up_votes  margin_of_victory  \\\n",
       "84         147105            80637              66468   \n",
       "194         84742            47326              37416   \n",
       "193         92274            86876               5398   \n",
       "202         72082            41885              30197   \n",
       "257         53330            40188              13142   \n",
       "111        106043           105454                589   \n",
       "219        109056            89290              19766   \n",
       "113         91098            71235              19863   \n",
       "83         100302            80476              19826   \n",
       "217        164047           104859              59188   \n",
       "\n",
       "                               winning_party  \n",
       "84                Pakistan Muslim League (N)  \n",
       "194  Pakistan Peoples Party Parliamentarians  \n",
       "193                 Pakistan Tehreek-e-Insaf  \n",
       "202                              Independent  \n",
       "257                  Balochistan Awami Party  \n",
       "111                 Pakistan Tehreek-e-Insaf  \n",
       "219  Pakistan Peoples Party Parliamentarians  \n",
       "113                 Pakistan Tehreek-e-Insaf  \n",
       "83                  Pakistan Tehreek-e-Insaf  \n",
       "217  Pakistan Peoples Party Parliamentarians  "
      ]
     },
     "execution_count": 16,
     "metadata": {},
     "output_type": "execute_result"
    }
   ],
   "source": [
    "df3=Df.nlargest(10, ['rejected'])\n",
    "df3"
   ]
  },
  {
   "cell_type": "markdown",
   "id": "9088cb14",
   "metadata": {},
   "source": [
    "## Find 10 smallest rejected"
   ]
  },
  {
   "cell_type": "code",
   "execution_count": 17,
   "id": "5b0c9b3b",
   "metadata": {},
   "outputs": [
    {
     "data": {
      "text/html": [
       "<div>\n",
       "<style scoped>\n",
       "    .dataframe tbody tr th:only-of-type {\n",
       "        vertical-align: middle;\n",
       "    }\n",
       "\n",
       "    .dataframe tbody tr th {\n",
       "        vertical-align: top;\n",
       "    }\n",
       "\n",
       "    .dataframe thead th {\n",
       "        text-align: right;\n",
       "    }\n",
       "</style>\n",
       "<table border=\"1\" class=\"dataframe\">\n",
       "  <thead>\n",
       "    <tr style=\"text-align: right;\">\n",
       "      <th></th>\n",
       "      <th>constituency</th>\n",
       "      <th>registered</th>\n",
       "      <th>rejected</th>\n",
       "      <th>polled</th>\n",
       "      <th>percentage_rejected</th>\n",
       "      <th>winner_votes</th>\n",
       "      <th>runner_up_votes</th>\n",
       "      <th>margin_of_victory</th>\n",
       "      <th>winning_party</th>\n",
       "    </tr>\n",
       "  </thead>\n",
       "  <tbody>\n",
       "    <tr>\n",
       "      <th>45</th>\n",
       "      <td>NA46</td>\n",
       "      <td>172497</td>\n",
       "      <td>63</td>\n",
       "      <td>74472</td>\n",
       "      <td>0.084596</td>\n",
       "      <td>4546</td>\n",
       "      <td>2326</td>\n",
       "      <td>2220</td>\n",
       "      <td>Pakistan Peoples Party Parliamentarians</td>\n",
       "    </tr>\n",
       "    <tr>\n",
       "      <th>48</th>\n",
       "      <td>NA49</td>\n",
       "      <td>178293</td>\n",
       "      <td>501</td>\n",
       "      <td>26930</td>\n",
       "      <td>1.860379</td>\n",
       "      <td>7794</td>\n",
       "      <td>6606</td>\n",
       "      <td>1188</td>\n",
       "      <td>Muttahida Majlis-e-Amal Pakistan</td>\n",
       "    </tr>\n",
       "    <tr>\n",
       "      <th>47</th>\n",
       "      <td>NA48</td>\n",
       "      <td>274205</td>\n",
       "      <td>611</td>\n",
       "      <td>63954</td>\n",
       "      <td>0.955374</td>\n",
       "      <td>16496</td>\n",
       "      <td>15352</td>\n",
       "      <td>1144</td>\n",
       "      <td>Independent</td>\n",
       "    </tr>\n",
       "    <tr>\n",
       "      <th>43</th>\n",
       "      <td>NA44</td>\n",
       "      <td>265217</td>\n",
       "      <td>929</td>\n",
       "      <td>67144</td>\n",
       "      <td>1.383593</td>\n",
       "      <td>12537</td>\n",
       "      <td>9042</td>\n",
       "      <td>3495</td>\n",
       "      <td>Pakistan Tehreek-e-Insaf</td>\n",
       "    </tr>\n",
       "    <tr>\n",
       "      <th>53</th>\n",
       "      <td>NA54</td>\n",
       "      <td>218795</td>\n",
       "      <td>932</td>\n",
       "      <td>118679</td>\n",
       "      <td>0.785312</td>\n",
       "      <td>57086</td>\n",
       "      <td>33009</td>\n",
       "      <td>24077</td>\n",
       "      <td>Pakistan Tehreek-e-Insaf</td>\n",
       "    </tr>\n",
       "    <tr>\n",
       "      <th>50</th>\n",
       "      <td>NA51</td>\n",
       "      <td>166632</td>\n",
       "      <td>1159</td>\n",
       "      <td>69803</td>\n",
       "      <td>1.660387</td>\n",
       "      <td>21962</td>\n",
       "      <td>18754</td>\n",
       "      <td>3208</td>\n",
       "      <td>Muttahida Majlis-e-Amal Pakistan</td>\n",
       "    </tr>\n",
       "    <tr>\n",
       "      <th>46</th>\n",
       "      <td>NA47</td>\n",
       "      <td>167206</td>\n",
       "      <td>1185</td>\n",
       "      <td>54966</td>\n",
       "      <td>2.155878</td>\n",
       "      <td>11523</td>\n",
       "      <td>6988</td>\n",
       "      <td>4535</td>\n",
       "      <td>Pakistan Tehreek-e-Insaf</td>\n",
       "    </tr>\n",
       "    <tr>\n",
       "      <th>49</th>\n",
       "      <td>NA50</td>\n",
       "      <td>145872</td>\n",
       "      <td>1332</td>\n",
       "      <td>48142</td>\n",
       "      <td>2.766815</td>\n",
       "      <td>23530</td>\n",
       "      <td>8250</td>\n",
       "      <td>15280</td>\n",
       "      <td>Independent</td>\n",
       "    </tr>\n",
       "    <tr>\n",
       "      <th>52</th>\n",
       "      <td>NA53</td>\n",
       "      <td>312142</td>\n",
       "      <td>1480</td>\n",
       "      <td>176456</td>\n",
       "      <td>0.838736</td>\n",
       "      <td>93110</td>\n",
       "      <td>44347</td>\n",
       "      <td>48763</td>\n",
       "      <td>Pakistan Tehreek-e-Insaf</td>\n",
       "    </tr>\n",
       "    <tr>\n",
       "      <th>44</th>\n",
       "      <td>NA45</td>\n",
       "      <td>165368</td>\n",
       "      <td>1536</td>\n",
       "      <td>57839</td>\n",
       "      <td>2.655648</td>\n",
       "      <td>16353</td>\n",
       "      <td>13601</td>\n",
       "      <td>2752</td>\n",
       "      <td>Muttahida Majlis-e-Amal Pakistan</td>\n",
       "    </tr>\n",
       "  </tbody>\n",
       "</table>\n",
       "</div>"
      ],
      "text/plain": [
       "   constituency  registered  rejected  polled  percentage_rejected  \\\n",
       "45         NA46      172497        63   74472             0.084596   \n",
       "48         NA49      178293       501   26930             1.860379   \n",
       "47         NA48      274205       611   63954             0.955374   \n",
       "43         NA44      265217       929   67144             1.383593   \n",
       "53         NA54      218795       932  118679             0.785312   \n",
       "50         NA51      166632      1159   69803             1.660387   \n",
       "46         NA47      167206      1185   54966             2.155878   \n",
       "49         NA50      145872      1332   48142             2.766815   \n",
       "52         NA53      312142      1480  176456             0.838736   \n",
       "44         NA45      165368      1536   57839             2.655648   \n",
       "\n",
       "    winner_votes  runner_up_votes  margin_of_victory  \\\n",
       "45          4546             2326               2220   \n",
       "48          7794             6606               1188   \n",
       "47         16496            15352               1144   \n",
       "43         12537             9042               3495   \n",
       "53         57086            33009              24077   \n",
       "50         21962            18754               3208   \n",
       "46         11523             6988               4535   \n",
       "49         23530             8250              15280   \n",
       "52         93110            44347              48763   \n",
       "44         16353            13601               2752   \n",
       "\n",
       "                              winning_party  \n",
       "45  Pakistan Peoples Party Parliamentarians  \n",
       "48         Muttahida Majlis-e-Amal Pakistan  \n",
       "47                              Independent  \n",
       "43                 Pakistan Tehreek-e-Insaf  \n",
       "53                 Pakistan Tehreek-e-Insaf  \n",
       "50         Muttahida Majlis-e-Amal Pakistan  \n",
       "46                 Pakistan Tehreek-e-Insaf  \n",
       "49                              Independent  \n",
       "52                 Pakistan Tehreek-e-Insaf  \n",
       "44         Muttahida Majlis-e-Amal Pakistan  "
      ]
     },
     "execution_count": 17,
     "metadata": {},
     "output_type": "execute_result"
    }
   ],
   "source": [
    "df4=Df.nsmallest(10, ['rejected'])\n",
    "df4"
   ]
  },
  {
   "cell_type": "markdown",
   "id": "200099e4",
   "metadata": {},
   "source": [
    "## Create barplot for largest winning_party and winner_votes"
   ]
  },
  {
   "cell_type": "code",
   "execution_count": 18,
   "id": "b5375a97",
   "metadata": {},
   "outputs": [
    {
     "data": {
      "text/plain": [
       "(array([0, 1, 2, 3, 4]),\n",
       " [Text(0, 0, 'Pakistan Tehreek-e-Insaf'),\n",
       "  Text(1, 0, 'Pakistan Peoples Party Parliamentarians'),\n",
       "  Text(2, 0, 'Pakistan Muslim League (N)'),\n",
       "  Text(3, 0, 'Pakistan Muslim League'),\n",
       "  Text(4, 0, 'Independent')])"
      ]
     },
     "execution_count": 18,
     "metadata": {},
     "output_type": "execute_result"
    },
    {
     "data": {
      "image/png": "[encoded data removed]",
      "text/plain": [
       "<Figure size 432x288 with 1 Axes>"
      ]
     },
     "metadata": {
      "needs_background": "light"
     },
     "output_type": "display_data"
    }
   ],
   "source": [
    "sns.barplot(x=df['winning_party'], y=df['winner_votes'])\n",
    "plt.xticks(rotation=90)"
   ]
  },
  {
   "cell_type": "markdown",
   "id": "8842f00d",
   "metadata": {},
   "source": [
    "## Use groupby function and find the mean of winning_party along with rejected votes"
   ]
  },
  {
   "cell_type": "code",
   "execution_count": 42,
   "id": "f1a531d1",
   "metadata": {},
   "outputs": [],
   "source": [
    "x = df3.groupby('winning_party')['rejected'].mean()"
   ]
  },
  {
   "cell_type": "code",
   "execution_count": 43,
   "id": "37da8c1c",
   "metadata": {},
   "outputs": [
    {
     "data": {
      "text/plain": [
       "winning_party\n",
       "Balochistan Awami Party                    13597\n",
       "Independent                                13614\n",
       "Pakistan Muslim League (N)                 15588\n",
       "Pakistan Peoples Party Parliamentarians    13268\n",
       "Pakistan Tehreek-e-Insaf                   12937\n",
       "Name: rejected, dtype: int64"
      ]
     },
     "execution_count": 43,
     "metadata": {},
     "output_type": "execute_result"
    }
   ],
   "source": [
    "x"
   ]
  },
  {
   "cell_type": "markdown",
   "id": "880bd945",
   "metadata": {},
   "source": [
    "## Create bar plot for rejected votes"
   ]
  },
  {
   "cell_type": "code",
   "execution_count": 47,
   "id": "e2d60c8a",
   "metadata": {},
   "outputs": [
    {
     "data": {
      "text/plain": [
       "<AxesSubplot:ylabel='winning_party'>"
      ]
     },
     "execution_count": 47,
     "metadata": {},
     "output_type": "execute_result"
    },
    {
     "data": {
      "image/png": "[encoded data removed]",
      "text/plain": [
       "<Figure size 432x288 with 1 Axes>"
      ]
     },
     "metadata": {
      "needs_background": "light"
     },
     "output_type": "display_data"
    }
   ],
   "source": [
    "x.plot(kind='barh', color=['red', 'green', 'blue', 'pink', 'yellow'])"
   ]
  },
  {
   "cell_type": "markdown",
   "id": "deb05673",
   "metadata": {},
   "source": [
    "## Use groupby function and see the registered parties along with constituency"
   ]
  },
  {
   "cell_type": "code",
   "execution_count": 50,
   "id": "1b807db1",
   "metadata": {},
   "outputs": [],
   "source": [
    "x1=Df.groupby('constituency')['registered'].value_counts()"
   ]
  },
  {
   "cell_type": "code",
   "execution_count": 51,
   "id": "e05256c8",
   "metadata": {},
   "outputs": [
    {
     "data": {
      "text/plain": [
       "constituency  registered\n",
       "NA1           269579        1\n",
       "NA10          374343        1\n",
       "NA100         362673        1\n",
       "NA101         459268        1\n",
       "NA102         499195        1\n",
       "                           ..\n",
       "NA95          465740        1\n",
       "NA96          450741        1\n",
       "NA97          437585        1\n",
       "NA98          434072        1\n",
       "NA99          385377        1\n",
       "Name: registered, Length: 270, dtype: int64"
      ]
     },
     "execution_count": 51,
     "metadata": {},
     "output_type": "execute_result"
    }
   ],
   "source": [
    "x1"
   ]
  },
  {
   "cell_type": "markdown",
   "id": "77331e26",
   "metadata": {},
   "source": [
    "## See the 20 largest registered parties"
   ]
  },
  {
   "cell_type": "code",
   "execution_count": 63,
   "id": "8abc72e1",
   "metadata": {},
   "outputs": [
    {
     "data": {
      "text/html": [
       "<div>\n",
       "<style scoped>\n",
       "    .dataframe tbody tr th:only-of-type {\n",
       "        vertical-align: middle;\n",
       "    }\n",
       "\n",
       "    .dataframe tbody tr th {\n",
       "        vertical-align: top;\n",
       "    }\n",
       "\n",
       "    .dataframe thead th {\n",
       "        text-align: right;\n",
       "    }\n",
       "</style>\n",
       "<table border=\"1\" class=\"dataframe\">\n",
       "  <thead>\n",
       "    <tr style=\"text-align: right;\">\n",
       "      <th></th>\n",
       "      <th>constituency</th>\n",
       "      <th>registered</th>\n",
       "      <th>rejected</th>\n",
       "      <th>polled</th>\n",
       "      <th>percentage_rejected</th>\n",
       "      <th>winner_votes</th>\n",
       "      <th>runner_up_votes</th>\n",
       "      <th>margin_of_victory</th>\n",
       "      <th>winning_party</th>\n",
       "    </tr>\n",
       "  </thead>\n",
       "  <tbody>\n",
       "    <tr>\n",
       "      <th>85</th>\n",
       "      <td>NA87</td>\n",
       "      <td>684447</td>\n",
       "      <td>9565</td>\n",
       "      <td>404723</td>\n",
       "      <td>2.363345</td>\n",
       "      <td>165618</td>\n",
       "      <td>157453</td>\n",
       "      <td>8165</td>\n",
       "      <td>Pakistan Tehreek-e-Insaf</td>\n",
       "    </tr>\n",
       "    <tr>\n",
       "      <th>16</th>\n",
       "      <td>NA17</td>\n",
       "      <td>657648</td>\n",
       "      <td>8862</td>\n",
       "      <td>343442</td>\n",
       "      <td>2.580348</td>\n",
       "      <td>172609</td>\n",
       "      <td>132756</td>\n",
       "      <td>39853</td>\n",
       "      <td>Pakistan Tehreek-e-Insaf</td>\n",
       "    </tr>\n",
       "    <tr>\n",
       "      <th>55</th>\n",
       "      <td>NA56</td>\n",
       "      <td>638937</td>\n",
       "      <td>10143</td>\n",
       "      <td>339949</td>\n",
       "      <td>2.983683</td>\n",
       "      <td>163325</td>\n",
       "      <td>99404</td>\n",
       "      <td>63921</td>\n",
       "      <td>Pakistan Tehreek-e-Insaf</td>\n",
       "    </tr>\n",
       "    <tr>\n",
       "      <th>57</th>\n",
       "      <td>NA58</td>\n",
       "      <td>629386</td>\n",
       "      <td>10639</td>\n",
       "      <td>338732</td>\n",
       "      <td>3.140831</td>\n",
       "      <td>125480</td>\n",
       "      <td>97084</td>\n",
       "      <td>28396</td>\n",
       "      <td>Pakistan Peoples Party Parliamentarians</td>\n",
       "    </tr>\n",
       "    <tr>\n",
       "      <th>56</th>\n",
       "      <td>NA57</td>\n",
       "      <td>590372</td>\n",
       "      <td>3908</td>\n",
       "      <td>326600</td>\n",
       "      <td>1.196571</td>\n",
       "      <td>136249</td>\n",
       "      <td>124703</td>\n",
       "      <td>11546</td>\n",
       "      <td>Pakistan Tehreek-e-Insaf</td>\n",
       "    </tr>\n",
       "    <tr>\n",
       "      <th>34</th>\n",
       "      <td>NA35</td>\n",
       "      <td>578872</td>\n",
       "      <td>7357</td>\n",
       "      <td>246318</td>\n",
       "      <td>2.986789</td>\n",
       "      <td>113843</td>\n",
       "      <td>106842</td>\n",
       "      <td>7001</td>\n",
       "      <td>Pakistan Tehreek-e-Insaf</td>\n",
       "    </tr>\n",
       "    <tr>\n",
       "      <th>54</th>\n",
       "      <td>NA55</td>\n",
       "      <td>571804</td>\n",
       "      <td>8540</td>\n",
       "      <td>305727</td>\n",
       "      <td>2.793342</td>\n",
       "      <td>145832</td>\n",
       "      <td>102075</td>\n",
       "      <td>43757</td>\n",
       "      <td>Pakistan Tehreek-e-Insaf</td>\n",
       "    </tr>\n",
       "    <tr>\n",
       "      <th>63</th>\n",
       "      <td>NA65</td>\n",
       "      <td>552523</td>\n",
       "      <td>9961</td>\n",
       "      <td>316882</td>\n",
       "      <td>3.143441</td>\n",
       "      <td>158477</td>\n",
       "      <td>106514</td>\n",
       "      <td>51963</td>\n",
       "      <td>Pakistan Muslim League</td>\n",
       "    </tr>\n",
       "    <tr>\n",
       "      <th>62</th>\n",
       "      <td>NA64</td>\n",
       "      <td>551011</td>\n",
       "      <td>9043</td>\n",
       "      <td>320394</td>\n",
       "      <td>2.822462</td>\n",
       "      <td>155598</td>\n",
       "      <td>130198</td>\n",
       "      <td>25400</td>\n",
       "      <td>Pakistan Tehreek-e-Insaf</td>\n",
       "    </tr>\n",
       "    <tr>\n",
       "      <th>244</th>\n",
       "      <td>NA247</td>\n",
       "      <td>543964</td>\n",
       "      <td>2591</td>\n",
       "      <td>219037</td>\n",
       "      <td>1.182905</td>\n",
       "      <td>91020</td>\n",
       "      <td>24680</td>\n",
       "      <td>66340</td>\n",
       "      <td>Pakistan Tehreek-e-Insaf</td>\n",
       "    </tr>\n",
       "    <tr>\n",
       "      <th>77</th>\n",
       "      <td>NA79</td>\n",
       "      <td>541848</td>\n",
       "      <td>4960</td>\n",
       "      <td>296174</td>\n",
       "      <td>1.674691</td>\n",
       "      <td>142545</td>\n",
       "      <td>118709</td>\n",
       "      <td>23836</td>\n",
       "      <td>Pakistan Muslim League (N)</td>\n",
       "    </tr>\n",
       "    <tr>\n",
       "      <th>64</th>\n",
       "      <td>NA66</td>\n",
       "      <td>541296</td>\n",
       "      <td>11489</td>\n",
       "      <td>281159</td>\n",
       "      <td>4.086300</td>\n",
       "      <td>112725</td>\n",
       "      <td>93073</td>\n",
       "      <td>19652</td>\n",
       "      <td>Pakistan Tehreek-e-Insaf</td>\n",
       "    </tr>\n",
       "    <tr>\n",
       "      <th>243</th>\n",
       "      <td>NA246</td>\n",
       "      <td>536688</td>\n",
       "      <td>3468</td>\n",
       "      <td>206577</td>\n",
       "      <td>1.678793</td>\n",
       "      <td>52750</td>\n",
       "      <td>42345</td>\n",
       "      <td>10405</td>\n",
       "      <td>Pakistan Tehreek-e-Insaf</td>\n",
       "    </tr>\n",
       "    <tr>\n",
       "      <th>121</th>\n",
       "      <td>NA124</td>\n",
       "      <td>533497</td>\n",
       "      <td>3829</td>\n",
       "      <td>258730</td>\n",
       "      <td>1.479921</td>\n",
       "      <td>146306</td>\n",
       "      <td>81019</td>\n",
       "      <td>65287</td>\n",
       "      <td>Pakistan Muslim League (N)</td>\n",
       "    </tr>\n",
       "    <tr>\n",
       "      <th>236</th>\n",
       "      <td>NA239</td>\n",
       "      <td>528732</td>\n",
       "      <td>3281</td>\n",
       "      <td>224218</td>\n",
       "      <td>1.463308</td>\n",
       "      <td>69161</td>\n",
       "      <td>68811</td>\n",
       "      <td>350</td>\n",
       "      <td>Pakistan Tehreek-e-Insaf</td>\n",
       "    </tr>\n",
       "    <tr>\n",
       "      <th>12</th>\n",
       "      <td>NA13</td>\n",
       "      <td>526974</td>\n",
       "      <td>7600</td>\n",
       "      <td>261154</td>\n",
       "      <td>2.910160</td>\n",
       "      <td>109262</td>\n",
       "      <td>107808</td>\n",
       "      <td>1454</td>\n",
       "      <td>Independent</td>\n",
       "    </tr>\n",
       "    <tr>\n",
       "      <th>76</th>\n",
       "      <td>NA78</td>\n",
       "      <td>516249</td>\n",
       "      <td>6418</td>\n",
       "      <td>284256</td>\n",
       "      <td>2.257824</td>\n",
       "      <td>160020</td>\n",
       "      <td>88689</td>\n",
       "      <td>71331</td>\n",
       "      <td>Pakistan Muslim League (N)</td>\n",
       "    </tr>\n",
       "    <tr>\n",
       "      <th>143</th>\n",
       "      <td>NA146</td>\n",
       "      <td>516209</td>\n",
       "      <td>8439</td>\n",
       "      <td>307419</td>\n",
       "      <td>2.745113</td>\n",
       "      <td>138789</td>\n",
       "      <td>101509</td>\n",
       "      <td>37280</td>\n",
       "      <td>Pakistan Muslim League (N)</td>\n",
       "    </tr>\n",
       "    <tr>\n",
       "      <th>84</th>\n",
       "      <td>NA86</td>\n",
       "      <td>512410</td>\n",
       "      <td>15588</td>\n",
       "      <td>282089</td>\n",
       "      <td>5.525916</td>\n",
       "      <td>147105</td>\n",
       "      <td>80637</td>\n",
       "      <td>66468</td>\n",
       "      <td>Pakistan Muslim League (N)</td>\n",
       "    </tr>\n",
       "    <tr>\n",
       "      <th>13</th>\n",
       "      <td>NA14</td>\n",
       "      <td>510931</td>\n",
       "      <td>8033</td>\n",
       "      <td>212009</td>\n",
       "      <td>3.788990</td>\n",
       "      <td>74889</td>\n",
       "      <td>59638</td>\n",
       "      <td>15251</td>\n",
       "      <td>Pakistan Muslim League (N)</td>\n",
       "    </tr>\n",
       "  </tbody>\n",
       "</table>\n",
       "</div>"
      ],
      "text/plain": [
       "    constituency  registered  rejected  polled  percentage_rejected  \\\n",
       "85          NA87      684447      9565  404723             2.363345   \n",
       "16          NA17      657648      8862  343442             2.580348   \n",
       "55          NA56      638937     10143  339949             2.983683   \n",
       "57          NA58      629386     10639  338732             3.140831   \n",
       "56          NA57      590372      3908  326600             1.196571   \n",
       "34          NA35      578872      7357  246318             2.986789   \n",
       "54          NA55      571804      8540  305727             2.793342   \n",
       "63          NA65      552523      9961  316882             3.143441   \n",
       "62          NA64      551011      9043  320394             2.822462   \n",
       "244        NA247      543964      2591  219037             1.182905   \n",
       "77          NA79      541848      4960  296174             1.674691   \n",
       "64          NA66      541296     11489  281159             4.086300   \n",
       "243        NA246      536688      3468  206577             1.678793   \n",
       "121        NA124      533497      3829  258730             1.479921   \n",
       "236        NA239      528732      3281  224218             1.463308   \n",
       "12          NA13      526974      7600  261154             2.910160   \n",
       "76          NA78      516249      6418  284256             2.257824   \n",
       "143        NA146      516209      8439  307419             2.745113   \n",
       "84          NA86      512410     15588  282089             5.525916   \n",
       "13          NA14      510931      8033  212009             3.788990   \n",
       "\n",
       "     winner_votes  runner_up_votes  margin_of_victory  \\\n",
       "85         165618           157453               8165   \n",
       "16         172609           132756              39853   \n",
       "55         163325            99404              63921   \n",
       "57         125480            97084              28396   \n",
       "56         136249           124703              11546   \n",
       "34         113843           106842               7001   \n",
       "54         145832           102075              43757   \n",
       "63         158477           106514              51963   \n",
       "62         155598           130198              25400   \n",
       "244         91020            24680              66340   \n",
       "77         142545           118709              23836   \n",
       "64         112725            93073              19652   \n",
       "243         52750            42345              10405   \n",
       "121        146306            81019              65287   \n",
       "236         69161            68811                350   \n",
       "12         109262           107808               1454   \n",
       "76         160020            88689              71331   \n",
       "143        138789           101509              37280   \n",
       "84         147105            80637              66468   \n",
       "13          74889            59638              15251   \n",
       "\n",
       "                               winning_party  \n",
       "85                  Pakistan Tehreek-e-Insaf  \n",
       "16                  Pakistan Tehreek-e-Insaf  \n",
       "55                  Pakistan Tehreek-e-Insaf  \n",
       "57   Pakistan Peoples Party Parliamentarians  \n",
       "56                  Pakistan Tehreek-e-Insaf  \n",
       "34                  Pakistan Tehreek-e-Insaf  \n",
       "54                  Pakistan Tehreek-e-Insaf  \n",
       "63                    Pakistan Muslim League  \n",
       "62                  Pakistan Tehreek-e-Insaf  \n",
       "244                 Pakistan Tehreek-e-Insaf  \n",
       "77                Pakistan Muslim League (N)  \n",
       "64                  Pakistan Tehreek-e-Insaf  \n",
       "243                 Pakistan Tehreek-e-Insaf  \n",
       "121               Pakistan Muslim League (N)  \n",
       "236                 Pakistan Tehreek-e-Insaf  \n",
       "12                               Independent  \n",
       "76                Pakistan Muslim League (N)  \n",
       "143               Pakistan Muslim League (N)  \n",
       "84                Pakistan Muslim League (N)  \n",
       "13                Pakistan Muslim League (N)  "
      ]
     },
     "execution_count": 63,
     "metadata": {},
     "output_type": "execute_result"
    }
   ],
   "source": [
    "df5=Df.nlargest(20, ['registered'])\n",
    "df5"
   ]
  },
  {
   "cell_type": "markdown",
   "id": "92fe05f1",
   "metadata": {},
   "source": [
    "## Find the mean of registered parties along with constituency"
   ]
  },
  {
   "cell_type": "code",
   "execution_count": 64,
   "id": "59e93152",
   "metadata": {},
   "outputs": [],
   "source": [
    "x2=df5.groupby('constituency')['registered'].mean()"
   ]
  },
  {
   "cell_type": "code",
   "execution_count": 65,
   "id": "27796da6",
   "metadata": {},
   "outputs": [
    {
     "data": {
      "text/plain": [
       "constituency\n",
       "NA124    533497\n",
       "NA13     526974\n",
       "NA14     510931\n",
       "NA146    516209\n",
       "NA17     657648\n",
       "NA239    528732\n",
       "NA246    536688\n",
       "NA247    543964\n",
       "NA35     578872\n",
       "NA55     571804\n",
       "NA56     638937\n",
       "NA57     590372\n",
       "NA58     629386\n",
       "NA64     551011\n",
       "NA65     552523\n",
       "NA66     541296\n",
       "NA78     516249\n",
       "NA79     541848\n",
       "NA86     512410\n",
       "NA87     684447\n",
       "Name: registered, dtype: int64"
      ]
     },
     "execution_count": 65,
     "metadata": {},
     "output_type": "execute_result"
    }
   ],
   "source": [
    "x2"
   ]
  },
  {
   "cell_type": "markdown",
   "id": "2b84c46f",
   "metadata": {},
   "source": [
    "## See the barplot of registered along with constituency"
   ]
  },
  {
   "cell_type": "code",
   "execution_count": 66,
   "id": "c4272346",
   "metadata": {},
   "outputs": [
    {
     "data": {
      "text/plain": [
       "<AxesSubplot:ylabel='constituency'>"
      ]
     },
     "execution_count": 66,
     "metadata": {},
     "output_type": "execute_result"
    },
    {
     "data": {
      "image/png": "[encoded data removed]",
      "text/plain": [
       "<Figure size 432x288 with 1 Axes>"
      ]
     },
     "metadata": {
      "needs_background": "light"
     },
     "output_type": "display_data"
    }
   ],
   "source": [
    "x2.plot(kind='barh')\n",
    "#plt.xticks(rotation =90)"
   ]
  },
  {
   "cell_type": "markdown",
   "id": "c24adae0",
   "metadata": {},
   "source": [
    "## Count all the parties"
   ]
  },
  {
   "cell_type": "code",
   "execution_count": 67,
   "id": "7921a4bf",
   "metadata": {},
   "outputs": [
    {
     "data": {
      "text/plain": [
       "Pakistan Tehreek-e-Insaf                   116\n",
       "Pakistan Muslim League (N)                  64\n",
       "Pakistan Peoples Party Parliamentarians     43\n",
       "Independent                                 13\n",
       "Muttahida Majlis-e-Amal Pakistan            12\n",
       "Muttahida Qaumi Movement Pakistan            6\n",
       "Pakistan Muslim League                       4\n",
       "Balochistan Awami Party                      4\n",
       "Balochistan National Party                   3\n",
       "Grand Democratic Alliance                    2\n",
       "Jamhoori Wattan Party                        1\n",
       "Awami National Party                         1\n",
       "Awami Muslim League Pakistan                 1\n",
       "Name: winning_party, dtype: int64"
      ]
     },
     "execution_count": 67,
     "metadata": {},
     "output_type": "execute_result"
    }
   ],
   "source": [
    "Df['winning_party'].value_counts()"
   ]
  },
  {
   "cell_type": "markdown",
   "id": "27d8e94c",
   "metadata": {},
   "source": [
    "## Drop the constituency column and then divide into X and y"
   ]
  },
  {
   "cell_type": "code",
   "execution_count": 72,
   "id": "d77ae65d",
   "metadata": {},
   "outputs": [],
   "source": [
    "Df.drop(['constituency'], axis=1, inplace=True)"
   ]
  },
  {
   "cell_type": "markdown",
   "id": "0c8c3d50",
   "metadata": {},
   "source": [
    "## Create dependent and independent variable for training and testing data"
   ]
  },
  {
   "cell_type": "code",
   "execution_count": 73,
   "id": "365ee373",
   "metadata": {},
   "outputs": [
    {
     "data": {
      "text/html": [
       "<div>\n",
       "<style scoped>\n",
       "    .dataframe tbody tr th:only-of-type {\n",
       "        vertical-align: middle;\n",
       "    }\n",
       "\n",
       "    .dataframe tbody tr th {\n",
       "        vertical-align: top;\n",
       "    }\n",
       "\n",
       "    .dataframe thead th {\n",
       "        text-align: right;\n",
       "    }\n",
       "</style>\n",
       "<table border=\"1\" class=\"dataframe\">\n",
       "  <thead>\n",
       "    <tr style=\"text-align: right;\">\n",
       "      <th></th>\n",
       "      <th>registered</th>\n",
       "      <th>rejected</th>\n",
       "      <th>polled</th>\n",
       "      <th>percentage_rejected</th>\n",
       "      <th>winner_votes</th>\n",
       "      <th>runner_up_votes</th>\n",
       "      <th>margin_of_victory</th>\n",
       "    </tr>\n",
       "  </thead>\n",
       "  <tbody>\n",
       "    <tr>\n",
       "      <th>0</th>\n",
       "      <td>269579</td>\n",
       "      <td>5430</td>\n",
       "      <td>164355</td>\n",
       "      <td>3.303824</td>\n",
       "      <td>49035</td>\n",
       "      <td>38819</td>\n",
       "      <td>10216</td>\n",
       "    </tr>\n",
       "    <tr>\n",
       "      <th>1</th>\n",
       "      <td>382974</td>\n",
       "      <td>8721</td>\n",
       "      <td>165781</td>\n",
       "      <td>5.260555</td>\n",
       "      <td>61834</td>\n",
       "      <td>41366</td>\n",
       "      <td>20468</td>\n",
       "    </tr>\n",
       "    <tr>\n",
       "      <th>2</th>\n",
       "      <td>401124</td>\n",
       "      <td>6788</td>\n",
       "      <td>161872</td>\n",
       "      <td>4.193437</td>\n",
       "      <td>68280</td>\n",
       "      <td>22758</td>\n",
       "      <td>45522</td>\n",
       "    </tr>\n",
       "    <tr>\n",
       "      <th>3</th>\n",
       "      <td>409013</td>\n",
       "      <td>6522</td>\n",
       "      <td>160431</td>\n",
       "      <td>4.065299</td>\n",
       "      <td>71600</td>\n",
       "      <td>30975</td>\n",
       "      <td>40625</td>\n",
       "    </tr>\n",
       "    <tr>\n",
       "      <th>4</th>\n",
       "      <td>447414</td>\n",
       "      <td>8256</td>\n",
       "      <td>215920</td>\n",
       "      <td>3.823638</td>\n",
       "      <td>66545</td>\n",
       "      <td>57657</td>\n",
       "      <td>8888</td>\n",
       "    </tr>\n",
       "    <tr>\n",
       "      <th>...</th>\n",
       "      <td>...</td>\n",
       "      <td>...</td>\n",
       "      <td>...</td>\n",
       "      <td>...</td>\n",
       "      <td>...</td>\n",
       "      <td>...</td>\n",
       "      <td>...</td>\n",
       "    </tr>\n",
       "    <tr>\n",
       "      <th>265</th>\n",
       "      <td>234291</td>\n",
       "      <td>2007</td>\n",
       "      <td>48224</td>\n",
       "      <td>4.161828</td>\n",
       "      <td>14435</td>\n",
       "      <td>12272</td>\n",
       "      <td>2163</td>\n",
       "    </tr>\n",
       "    <tr>\n",
       "      <th>266</th>\n",
       "      <td>228547</td>\n",
       "      <td>10505</td>\n",
       "      <td>124165</td>\n",
       "      <td>8.460516</td>\n",
       "      <td>52875</td>\n",
       "      <td>19720</td>\n",
       "      <td>33155</td>\n",
       "    </tr>\n",
       "    <tr>\n",
       "      <th>267</th>\n",
       "      <td>231726</td>\n",
       "      <td>6152</td>\n",
       "      <td>93796</td>\n",
       "      <td>6.558915</td>\n",
       "      <td>18568</td>\n",
       "      <td>16040</td>\n",
       "      <td>2528</td>\n",
       "    </tr>\n",
       "    <tr>\n",
       "      <th>268</th>\n",
       "      <td>222631</td>\n",
       "      <td>2605</td>\n",
       "      <td>87955</td>\n",
       "      <td>2.961742</td>\n",
       "      <td>32866</td>\n",
       "      <td>20583</td>\n",
       "      <td>12283</td>\n",
       "    </tr>\n",
       "    <tr>\n",
       "      <th>269</th>\n",
       "      <td>356879</td>\n",
       "      <td>10433</td>\n",
       "      <td>199918</td>\n",
       "      <td>5.218640</td>\n",
       "      <td>68804</td>\n",
       "      <td>63275</td>\n",
       "      <td>5529</td>\n",
       "    </tr>\n",
       "  </tbody>\n",
       "</table>\n",
       "<p>270 rows × 7 columns</p>\n",
       "</div>"
      ],
      "text/plain": [
       "     registered  rejected  polled  percentage_rejected  winner_votes  \\\n",
       "0        269579      5430  164355             3.303824         49035   \n",
       "1        382974      8721  165781             5.260555         61834   \n",
       "2        401124      6788  161872             4.193437         68280   \n",
       "3        409013      6522  160431             4.065299         71600   \n",
       "4        447414      8256  215920             3.823638         66545   \n",
       "..          ...       ...     ...                  ...           ...   \n",
       "265      234291      2007   48224             4.161828         14435   \n",
       "266      228547     10505  124165             8.460516         52875   \n",
       "267      231726      6152   93796             6.558915         18568   \n",
       "268      222631      2605   87955             2.961742         32866   \n",
       "269      356879     10433  199918             5.218640         68804   \n",
       "\n",
       "     runner_up_votes  margin_of_victory  \n",
       "0              38819              10216  \n",
       "1              41366              20468  \n",
       "2              22758              45522  \n",
       "3              30975              40625  \n",
       "4              57657               8888  \n",
       "..               ...                ...  \n",
       "265            12272               2163  \n",
       "266            19720              33155  \n",
       "267            16040               2528  \n",
       "268            20583              12283  \n",
       "269            63275               5529  \n",
       "\n",
       "[270 rows x 7 columns]"
      ]
     },
     "execution_count": 73,
     "metadata": {},
     "output_type": "execute_result"
    }
   ],
   "source": [
    "X=Df.drop(['winning_party'], axis=1)\n",
    "X"
   ]
  },
  {
   "cell_type": "code",
   "execution_count": 74,
   "id": "0958334c",
   "metadata": {},
   "outputs": [],
   "source": [
    "y=Df['winning_party']"
   ]
  },
  {
   "cell_type": "code",
   "execution_count": 75,
   "id": "fb5373ba",
   "metadata": {},
   "outputs": [
    {
     "data": {
      "text/plain": [
       "0      Muttahida Majlis-e-Amal Pakistan\n",
       "1              Pakistan Tehreek-e-Insaf\n",
       "2              Pakistan Tehreek-e-Insaf\n",
       "3              Pakistan Tehreek-e-Insaf\n",
       "4              Pakistan Tehreek-e-Insaf\n",
       "                     ...               \n",
       "265          Balochistan National Party\n",
       "266          Balochistan National Party\n",
       "267             Balochistan Awami Party\n",
       "268             Balochistan Awami Party\n",
       "269                         Independent\n",
       "Name: winning_party, Length: 270, dtype: object"
      ]
     },
     "execution_count": 75,
     "metadata": {},
     "output_type": "execute_result"
    }
   ],
   "source": [
    "y"
   ]
  },
  {
   "cell_type": "markdown",
   "id": "d4503ae9",
   "metadata": {},
   "source": [
    "## Apply Random Forest Algorithm beacause the problem is multi class classification"
   ]
  },
  {
   "cell_type": "code",
   "execution_count": 84,
   "id": "356a0cf4",
   "metadata": {},
   "outputs": [],
   "source": [
    "from sklearn.ensemble import RandomForestClassifier"
   ]
  },
  {
   "cell_type": "code",
   "execution_count": 85,
   "id": "5f6830d7",
   "metadata": {},
   "outputs": [],
   "source": [
    "rf=RandomForestClassifier()"
   ]
  },
  {
   "cell_type": "code",
   "execution_count": 86,
   "id": "3841bd3c",
   "metadata": {},
   "outputs": [
    {
     "data": {
      "text/plain": [
       "RandomForestClassifier()"
      ]
     },
     "execution_count": 86,
     "metadata": {},
     "output_type": "execute_result"
    }
   ],
   "source": [
    "rf.fit(X, y)"
   ]
  },
  {
   "cell_type": "code",
   "execution_count": 98,
   "id": "41eff07b",
   "metadata": {},
   "outputs": [
    {
     "data": {
      "text/plain": [
       "1.0"
      ]
     },
     "execution_count": 98,
     "metadata": {},
     "output_type": "execute_result"
    }
   ],
   "source": [
    "Random_Forest_Score=rf.score(X, y)\n",
    "Random_Forest_Score"
   ]
  },
  {
   "cell_type": "code",
   "execution_count": 88,
   "id": "49c1a5a3",
   "metadata": {},
   "outputs": [
    {
     "data": {
      "text/plain": [
       "array(['Muttahida Majlis-e-Amal Pakistan'], dtype=object)"
      ]
     },
     "execution_count": 88,
     "metadata": {},
     "output_type": "execute_result"
    }
   ],
   "source": [
    "rf.predict([[269579,5430, 164355, 3.303824, 49035, 38819, 10216]])"
   ]
  },
  {
   "cell_type": "code",
   "execution_count": 96,
   "id": "40c6fb7b",
   "metadata": {},
   "outputs": [
    {
     "data": {
      "text/plain": [
       "array(['Pakistan Tehreek-e-Insaf'], dtype=object)"
      ]
     },
     "execution_count": 96,
     "metadata": {},
     "output_type": "execute_result"
    }
   ],
   "source": [
    "rf.predict([[382974, 8721, 165781, 5.260555, 61834, 41366, 20468]])"
   ]
  },
  {
   "cell_type": "markdown",
   "id": "cce0f27d",
   "metadata": {},
   "source": [
    "## Apply Decision Tree classifier algorthm because the problem is multi class classification. "
   ]
  },
  {
   "cell_type": "code",
   "execution_count": 89,
   "id": "fa17121d",
   "metadata": {},
   "outputs": [],
   "source": [
    "from sklearn.tree import DecisionTreeClassifier"
   ]
  },
  {
   "cell_type": "code",
   "execution_count": 90,
   "id": "2250af45",
   "metadata": {},
   "outputs": [],
   "source": [
    "dt=DecisionTreeClassifier()"
   ]
  },
  {
   "cell_type": "code",
   "execution_count": 91,
   "id": "977a56a0",
   "metadata": {},
   "outputs": [
    {
     "data": {
      "text/plain": [
       "DecisionTreeClassifier()"
      ]
     },
     "execution_count": 91,
     "metadata": {},
     "output_type": "execute_result"
    }
   ],
   "source": [
    "dt.fit(X, y)"
   ]
  },
  {
   "cell_type": "code",
   "execution_count": 97,
   "id": "70d31aa2",
   "metadata": {},
   "outputs": [
    {
     "data": {
      "text/plain": [
       "1.0"
      ]
     },
     "execution_count": 97,
     "metadata": {},
     "output_type": "execute_result"
    }
   ],
   "source": [
    "Decision_Tree_Score=dt.score(X, y)\n",
    "Decision_Tree_Score"
   ]
  },
  {
   "cell_type": "code",
   "execution_count": 93,
   "id": "84445b8e",
   "metadata": {},
   "outputs": [
    {
     "data": {
      "text/plain": [
       "array(['Muttahida Majlis-e-Amal Pakistan'], dtype=object)"
      ]
     },
     "execution_count": 93,
     "metadata": {},
     "output_type": "execute_result"
    }
   ],
   "source": [
    "dt.predict([[269579,5430, 164355, 3.303824, 49035, 38819, 10216]])"
   ]
  },
  {
   "cell_type": "code",
   "execution_count": 94,
   "id": "6d8c4be8",
   "metadata": {},
   "outputs": [
    {
     "data": {
      "text/plain": [
       "array(['Pakistan Tehreek-e-Insaf'], dtype=object)"
      ]
     },
     "execution_count": 94,
     "metadata": {},
     "output_type": "execute_result"
    }
   ],
   "source": [
    "dt.predict([[382974, 8721, 165781, 5.260555, 61834, 41366, 20468]])"
   ]
  },
  {
   "cell_type": "code",
   "execution_count": 95,
   "id": "ff157197",
   "metadata": {},
   "outputs": [
    {
     "data": {
      "text/plain": [
       "array(['Pakistan Peoples Party Parliamentarians'], dtype=object)"
      ]
     },
     "execution_count": 95,
     "metadata": {},
     "output_type": "execute_result"
    }
   ],
   "source": [
    "dt.predict([[12000, 9000, 16000, 6.0, 61000, 40000, 50000]])"
   ]
  },
  {
   "cell_type": "markdown",
   "id": "0f7501c4",
   "metadata": {},
   "source": [
    "## Create a dataframe for results of the models"
   ]
  },
  {
   "cell_type": "code",
   "execution_count": 99,
   "id": "21c65c51",
   "metadata": {},
   "outputs": [
    {
     "data": {
      "text/html": [
       "<div>\n",
       "<style scoped>\n",
       "    .dataframe tbody tr th:only-of-type {\n",
       "        vertical-align: middle;\n",
       "    }\n",
       "\n",
       "    .dataframe tbody tr th {\n",
       "        vertical-align: top;\n",
       "    }\n",
       "\n",
       "    .dataframe thead th {\n",
       "        text-align: right;\n",
       "    }\n",
       "</style>\n",
       "<table border=\"1\" class=\"dataframe\">\n",
       "  <thead>\n",
       "    <tr style=\"text-align: right;\">\n",
       "      <th></th>\n",
       "      <th>Models</th>\n",
       "      <th>Accuracy of Models</th>\n",
       "    </tr>\n",
       "  </thead>\n",
       "  <tbody>\n",
       "    <tr>\n",
       "      <th>0</th>\n",
       "      <td>Random Forest Classifier</td>\n",
       "      <td>1.0</td>\n",
       "    </tr>\n",
       "    <tr>\n",
       "      <th>1</th>\n",
       "      <td>Decision Tree Classifier</td>\n",
       "      <td>1.0</td>\n",
       "    </tr>\n",
       "  </tbody>\n",
       "</table>\n",
       "</div>"
      ],
      "text/plain": [
       "                     Models  Accuracy of Models\n",
       "0  Random Forest Classifier                 1.0\n",
       "1  Decision Tree Classifier                 1.0"
      ]
     },
     "metadata": {},
     "output_type": "display_data"
    }
   ],
   "source": [
    "data = {'Models': [\"Random Forest Classifier\", \"Decision Tree Classifier\"], 'Accuracy of Models': [Random_Forest_Score, Decision_Tree_Score]}\n",
    "data1 = pd.DataFrame(data)\n",
    "display(data1)"
   ]
  },
  {
   "cell_type": "markdown",
   "id": "76ec0263",
   "metadata": {},
   "source": [
    "## The results of the models show on barplot"
   ]
  },
  {
   "cell_type": "code",
   "execution_count": 100,
   "id": "46ef3eb6",
   "metadata": {},
   "outputs": [
    {
     "data": {
      "image/png": "[encoded data removed]",
      "text/plain": [
       "<Figure size 720x360 with 1 Axes>"
      ]
     },
     "metadata": {
      "needs_background": "light"
     },
     "output_type": "display_data"
    }
   ],
   "source": [
    "data1.plot(x='Models', y='Accuracy of Models', kind='bar', color = ['red', 'yellow'], figsize = (10, 5),legend=None)\n",
    "plt.show()"
   ]
  },
  {
   "cell_type": "code",
   "execution_count": null,
   "id": "1a0c2cc5",
   "metadata": {},
   "outputs": [],
   "source": []
  }
 ],
 "metadata": {
  "kernelspec": {
   "display_name": "Python 3",
   "language": "python",
   "name": "python3"
  },
  "language_info": {
   "codemirror_mode": {
    "name": "ipython",
    "version": 3
   },
   "file_extension": ".py",
   "mimetype": "text/x-python",
   "name": "python",
   "nbconvert_exporter": "python",
   "pygments_lexer": "ipython3",
   "version": "3.8.8"
  }
 },
 "nbformat": 4,
 "nbformat_minor": 5
}
